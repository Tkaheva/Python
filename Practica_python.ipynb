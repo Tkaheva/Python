{
  "nbformat": 4,
  "nbformat_minor": 0,
  "metadata": {
    "colab": {
      "provenance": [],
      "toc_visible": true,
      "authorship_tag": "ABX9TyNq1jSh0GgQXGbCl0BX60+O",
      "include_colab_link": true
    },
    "kernelspec": {
      "name": "python3",
      "display_name": "Python 3"
    },
    "language_info": {
      "name": "python"
    }
  },
  "cells": [
    {
      "cell_type": "markdown",
      "metadata": {
        "id": "view-in-github",
        "colab_type": "text"
      },
      "source": [
        "<a href=\"https://colab.research.google.com/github/Tkaheva/Python/blob/main/Practica_python.ipynb\" target=\"_parent\"><img src=\"https://colab.research.google.com/assets/colab-badge.svg\" alt=\"Open In Colab\"/></a>"
      ]
    },
    {
      "cell_type": "markdown",
      "source": [
        "# Задача 10\n",
        "*Вы принимаете от пользователя последовательность чисел, разделённых запятой. Составьте список и кортеж с этими числами.*"
      ],
      "metadata": {
        "id": "cYlQncJk-Dwy"
      }
    },
    {
      "cell_type": "code",
      "source": [
        "num = int(input())\n",
        "print('список введённых чисел', list(str(num)))\n",
        "print('кортеж введённых чисел',tuple(str(num)))"
      ],
      "metadata": {
        "colab": {
          "base_uri": "https://localhost:8080/"
        },
        "id": "5aXU3YAO-WB_",
        "outputId": "4a9432ba-25ed-493c-f9c4-c9790350ee7b"
      },
      "execution_count": null,
      "outputs": [
        {
          "output_type": "stream",
          "name": "stdout",
          "text": [
            "533566\n",
            "список введённых чисел ['5', '3', '3', '5', '6', '6']\n",
            "кортеж введённых чисел ('5', '3', '3', '5', '6', '6')\n"
          ]
        }
      ]
    },
    {
      "cell_type": "code",
      "source": [
        "values = input('Введите числа через запятую: ')\n",
        "ints_as_strings = values.split(',')\n",
        "ints = map(int, ints_as_strings)\n",
        "lst = list(ints)\n",
        "tup = tuple(lst)\n",
        "print('Список:', lst)\n",
        "print('Кортеж:', tup)"
      ],
      "metadata": {
        "colab": {
          "base_uri": "https://localhost:8080/"
        },
        "id": "BvF3XRFxCtIB",
        "outputId": "4ea6a174-069f-425d-d61b-14d8cedd253e"
      },
      "execution_count": null,
      "outputs": [
        {
          "output_type": "stream",
          "name": "stdout",
          "text": [
            "Введите числа через запятую: 2,3,2,2,33,233,4\n",
            "Список: [2, 3, 2, 2, 33, 233, 4]\n",
            "Кортеж: (2, 3, 2, 2, 33, 233, 4)\n"
          ]
        }
      ]
    },
    {
      "cell_type": "markdown",
      "source": [
        "# Задача 11\n",
        "*Выведите первый и последний элемент списка*"
      ],
      "metadata": {
        "id": "n-SqUgn6GetZ"
      }
    },
    {
      "cell_type": "code",
      "source": [
        "lst = [2, 3, 2, 2, 33, 233, 4]\n",
        "print('first elem list:', lst[0], '\\n', 'last elem list:', lst[-1])\n"
      ],
      "metadata": {
        "colab": {
          "base_uri": "https://localhost:8080/"
        },
        "id": "zNloHT2rGov1",
        "outputId": "5c1fb5d4-3abd-4113-d5b2-3e5cc1b25418"
      },
      "execution_count": null,
      "outputs": [
        {
          "output_type": "stream",
          "name": "stdout",
          "text": [
            "first elem list: 2 \n",
            " last elem list: 4\n"
          ]
        }
      ]
    },
    {
      "cell_type": "code",
      "source": [
        "lst = [1, 2, 3, 4, 5]\n",
        "print(f'Первый: {lst[0]}; последний: {lst[-1]}')"
      ],
      "metadata": {
        "colab": {
          "base_uri": "https://localhost:8080/"
        },
        "id": "qG-fVnK_Hlcy",
        "outputId": "089f751a-095b-4b00-88b3-bc0f84560d0d"
      },
      "execution_count": null,
      "outputs": [
        {
          "output_type": "stream",
          "name": "stdout",
          "text": [
            "Первый: 1; последний: 5\n"
          ]
        }
      ]
    },
    {
      "cell_type": "markdown",
      "source": [
        "# Задача 12\n",
        "*Напишите программу, которая принимает имя файла и выводит его расширение. Если расширение у файла определить невозможно, выбросите исключение*"
      ],
      "metadata": {
        "id": "KeMBrlIfH3zA"
      }
    },
    {
      "cell_type": "code",
      "source": [
        "\n",
        "name_file = input()\n",
        "if name_file.split('.')[-1] == 'py':\n",
        "  expansion = name_file.split('.')[-1]\n",
        "  print(f'file: {name_file} with expansion: {expansion}')\n",
        "elif name_file.split('.')[-1] == 'txt':\n",
        "   expansion = name_file.split('.')[-1]\n",
        "   print(f'file: {name_file} with expansion: {expansion}')\n",
        "else:\n",
        "  print('error in name file or expansion')"
      ],
      "metadata": {
        "colab": {
          "base_uri": "https://localhost:8080/"
        },
        "id": "ZmO5RaLaIBqs",
        "outputId": "00879935-d74b-47b3-f296-f4ebe3c42266"
      },
      "execution_count": null,
      "outputs": [
        {
          "output_type": "stream",
          "name": "stdout",
          "text": [
            "fdge\n",
            "error in name file or expansion\n"
          ]
        }
      ]
    },
    {
      "cell_type": "markdown",
      "source": [
        "# Задача 13\n",
        "*При заданном целом числе n посчитайте n + nn + nnn*"
      ],
      "metadata": {
        "id": "gAkKPMFqMri-"
      }
    },
    {
      "cell_type": "code",
      "source": [
        "num = int(input())\n",
        "print(num + num**2 + num**3)"
      ],
      "metadata": {
        "colab": {
          "base_uri": "https://localhost:8080/"
        },
        "id": "XIu6PKsLM1i-",
        "outputId": "6426b17d-5628-44ad-fc4f-3d2bfac5662e"
      },
      "execution_count": null,
      "outputs": [
        {
          "output_type": "stream",
          "name": "stdout",
          "text": [
            "77\n",
            "462539\n"
          ]
        }
      ]
    },
    {
      "cell_type": "markdown",
      "source": [
        "# Задача 14\n",
        "*Напишите программу, которая выводит чётные числа из заданного списка и останавливается, если встречает число 237*"
      ],
      "metadata": {
        "id": "B4F-FYlcNtP6"
      }
    },
    {
      "cell_type": "code",
      "source": [
        "lst = [2, 3, 2, 4, 33, 233, 4, 237, 33, 55]\n",
        "for i in lst:\n",
        "  if i % 2 == 0 and i != 237:\n",
        "    print(i)\n"
      ],
      "metadata": {
        "colab": {
          "base_uri": "https://localhost:8080/"
        },
        "id": "Sna2ueN_N1f8",
        "outputId": "70ee3752-764b-4ba8-f7bb-00f5b55a3cb1"
      },
      "execution_count": null,
      "outputs": [
        {
          "output_type": "stream",
          "name": "stdout",
          "text": [
            "2\n",
            "2\n",
            "4\n",
            "4\n"
          ]
        }
      ]
    },
    {
      "cell_type": "code",
      "source": [
        "lst = [2, 3, 2, 4, 33, 233, 4, 237, 33, 55]\n",
        "\n",
        "for i in lst:\n",
        "    if i == 237:\n",
        "        break\n",
        "    if i % 2 == 0:\n",
        "        print(i)"
      ],
      "metadata": {
        "colab": {
          "base_uri": "https://localhost:8080/"
        },
        "id": "W2cOo-3ZTrn2",
        "outputId": "cc75c222-6da3-4ed9-ded3-05c5053a1b69"
      },
      "execution_count": null,
      "outputs": [
        {
          "output_type": "stream",
          "name": "stdout",
          "text": [
            "2\n",
            "2\n",
            "4\n",
            "4\n"
          ]
        }
      ]
    },
    {
      "cell_type": "markdown",
      "source": [
        "# Задача 15\n",
        "Напишите программу, которая принимает два списка и выводит все элементы первого, которых нет во втором"
      ],
      "metadata": {
        "id": "pQ2sPe92T7Ld"
      }
    },
    {
      "cell_type": "code",
      "source": [
        "one_lst =  [2, 3, 2, 4, 33, 233, 4, 237, 33, 55]\n",
        "two_lst = [2, 53, 42, 43,  253, 4, 237,  55]\n",
        "print(set(one_lst) - set(two_lst))"
      ],
      "metadata": {
        "colab": {
          "base_uri": "https://localhost:8080/"
        },
        "id": "sm4H_c37UFNu",
        "outputId": "f0db270a-6db3-4729-9e68-cff507afd730"
      },
      "execution_count": null,
      "outputs": [
        {
          "output_type": "stream",
          "name": "stdout",
          "text": [
            "{33, 3, 233}\n"
          ]
        }
      ]
    },
    {
      "cell_type": "markdown",
      "source": [
        "# Задача 16\n",
        "Выведите список файлов в указанной директории"
      ],
      "metadata": {
        "id": "nku9BKNzYaH4"
      }
    },
    {
      "cell_type": "code",
      "source": [
        "import requests\n",
        "\n",
        "# Запрос к API GitHub\n",
        "url = \"https://api.github.com/repos/Tkaheva/Practica-To-do-list/contents\"\n",
        "response = requests.get(url)\n",
        "data = response.json()\n",
        "\n",
        "# Выводим только файлы (не директории)\n",
        "for item in data:\n",
        "    if item[\"type\"] == \"file\":\n",
        "        print(item[\"name\"])"
      ],
      "metadata": {
        "colab": {
          "base_uri": "https://localhost:8080/"
        },
        "id": "ZwYCqqchYjAn",
        "outputId": "47c13a6b-499f-4aca-8289-804ad5599a59"
      },
      "execution_count": null,
      "outputs": [
        {
          "output_type": "stream",
          "name": "stdout",
          "text": [
            "README.md\n",
            "style tdl.css\n",
            "Документ Microsoft Word.docx\n",
            "прак.html\n"
          ]
        }
      ]
    },
    {
      "cell_type": "code",
      "source": [
        "!git clone https://github.com/Tkaheva/Practica-To-do-list.git\n",
        "!ls -R Practica-To-do-list"
      ],
      "metadata": {
        "colab": {
          "base_uri": "https://localhost:8080/"
        },
        "id": "-HCgcCP5aRuC",
        "outputId": "2158314e-9bd8-459d-bc1b-e29477b9641a"
      },
      "execution_count": null,
      "outputs": [
        {
          "output_type": "stream",
          "name": "stdout",
          "text": [
            "Cloning into 'Practica-To-do-list'...\n",
            "remote: Enumerating objects: 18, done.\u001b[K\n",
            "remote: Counting objects: 100% (18/18), done.\u001b[K\n",
            "remote: Compressing objects: 100% (16/16), done.\u001b[K\n",
            "remote: Total 18 (delta 4), reused 0 (delta 0), pack-reused 0 (from 0)\u001b[K\n",
            "Receiving objects: 100% (18/18), 24.20 KiB | 604.00 KiB/s, done.\n",
            "Resolving deltas: 100% (4/4), done.\n",
            "Practica-To-do-list:\n",
            " README.md  'style tdl.css'  'Документ Microsoft Word.docx'   прак.html\n"
          ]
        }
      ]
    },
    {
      "cell_type": "markdown",
      "source": [
        "# Задача 17\n",
        "Сложите цифры целого числа"
      ],
      "metadata": {
        "id": "vNVOCMKsdbKB"
      }
    },
    {
      "cell_type": "code",
      "source": [
        "num = input()\n",
        "number = sum(int(digit) for digit in num)\n",
        "print(number)"
      ],
      "metadata": {
        "colab": {
          "base_uri": "https://localhost:8080/"
        },
        "id": "qjWBtDuqdk7Z",
        "outputId": "9c3680e9-ecee-408b-d0d9-17e23f0f9182"
      },
      "execution_count": null,
      "outputs": [
        {
          "output_type": "stream",
          "name": "stdout",
          "text": [
            "444\n",
            "12\n"
          ]
        }
      ]
    },
    {
      "cell_type": "markdown",
      "source": [
        "# Задача 18\n",
        "Посчитайте, сколько раз символ встречается в строке"
      ],
      "metadata": {
        "id": "WovRUCo7hLt3"
      }
    },
    {
      "cell_type": "code",
      "source": [
        "count = 0\n",
        "strw = 'd,jj,jh,hk'\n",
        "for i in strw:\n",
        "  if i == ',':\n",
        "    count+=1\n",
        "    print(count)"
      ],
      "metadata": {
        "colab": {
          "base_uri": "https://localhost:8080/"
        },
        "id": "i2wbhlb8hRxK",
        "outputId": "71de193d-dbb9-468b-efff-3e35122fe822"
      },
      "execution_count": null,
      "outputs": [
        {
          "output_type": "stream",
          "name": "stdout",
          "text": [
            "1\n",
            "2\n",
            "3\n"
          ]
        }
      ]
    },
    {
      "cell_type": "code",
      "source": [
        "s = 'd,jj,jh,hk'\n",
        "count = s.count(',')  # Самый питонический способ\n",
        "print(f\"Количество запятых: {count}\")"
      ],
      "metadata": {
        "colab": {
          "base_uri": "https://localhost:8080/"
        },
        "id": "UobhEhjKizJ9",
        "outputId": "430e4a4e-3c98-4990-953f-cf39683a82f8"
      },
      "execution_count": null,
      "outputs": [
        {
          "output_type": "stream",
          "name": "stdout",
          "text": [
            "Количество запятых: 3\n"
          ]
        }
      ]
    },
    {
      "cell_type": "markdown",
      "source": [
        "# Задача 19\n",
        "Поменяйте значения переменных местами"
      ],
      "metadata": {
        "id": "w4jqiH_Ejhm8"
      }
    },
    {
      "cell_type": "code",
      "source": [
        "x = 5\n",
        "y = 10\n",
        "temp = x\n",
        "x = y\n",
        "y = temp\n",
        "print(x, temp)"
      ],
      "metadata": {
        "colab": {
          "base_uri": "https://localhost:8080/"
        },
        "id": "gJaNd5YjjjNj",
        "outputId": "f3b2954d-d081-4841-91cd-f3230e467b39"
      },
      "execution_count": null,
      "outputs": [
        {
          "output_type": "stream",
          "name": "stdout",
          "text": [
            "10 5\n"
          ]
        }
      ]
    },
    {
      "cell_type": "code",
      "source": [
        "x = 5\n",
        "y = 10\n",
        "x, y = y, x\n",
        "print(y, x)"
      ],
      "metadata": {
        "colab": {
          "base_uri": "https://localhost:8080/"
        },
        "id": "h6VJ-h3e1WQD",
        "outputId": "feff729f-2013-4488-aade-5ac4b4184c77"
      },
      "execution_count": null,
      "outputs": [
        {
          "output_type": "stream",
          "name": "stdout",
          "text": [
            "5 10\n"
          ]
        }
      ]
    },
    {
      "cell_type": "markdown",
      "source": [
        "# Задача 20\n",
        "С помощью анонимной функции извлеките из списка числа, делимые на 15"
      ],
      "metadata": {
        "id": "acHUfOWg1qzQ"
      }
    },
    {
      "cell_type": "code",
      "source": [
        "\n",
        "lst = [2, 3, 2, 4, 33, 233, 4, 15, 33, 255]\n",
        "for i in lst:\n",
        "  if i % 15 == 0:\n",
        "    print(i)\n"
      ],
      "metadata": {
        "colab": {
          "base_uri": "https://localhost:8080/"
        },
        "id": "_ddBLdSh1v-m",
        "outputId": "8d54d688-d4e1-4495-cdde-53379ccbc1ae"
      },
      "execution_count": null,
      "outputs": [
        {
          "output_type": "stream",
          "name": "stdout",
          "text": [
            "15\n",
            "255\n"
          ]
        }
      ]
    },
    {
      "cell_type": "code",
      "source": [
        "nums = [45, 55, 60, 37, 100, 105, 220]\n",
        "result = list(filter(lambda x: not x % 15, nums))\n",
        "print(result)"
      ],
      "metadata": {
        "colab": {
          "base_uri": "https://localhost:8080/"
        },
        "id": "zKKYUDRR3_N5",
        "outputId": "669dc551-b386-477a-ad2f-f4b2583af4da"
      },
      "execution_count": null,
      "outputs": [
        {
          "output_type": "stream",
          "name": "stdout",
          "text": [
            "[45, 60, 105]\n"
          ]
        }
      ]
    },
    {
      "cell_type": "markdown",
      "source": [
        "# Задача 21 **Дореш**\n",
        "Нужно проверить, все ли числа в последовательности уникальны"
      ],
      "metadata": {
        "id": "stxJDuUL4Qtq"
      }
    },
    {
      "cell_type": "code",
      "source": [
        "nums = [45, 55, 55, 55, 60, 37, 100, 105, 220]\n",
        "if set(nums):\n",
        "  print('elem unic')\n",
        "else:\n",
        "  print('elem not unic')"
      ],
      "metadata": {
        "colab": {
          "base_uri": "https://localhost:8080/"
        },
        "id": "ouUINlyl4W1R",
        "outputId": "8e8cefaf-8062-4cbb-cd29-5c7511a3d68f"
      },
      "execution_count": null,
      "outputs": [
        {
          "output_type": "stream",
          "name": "stdout",
          "text": [
            "elem unic\n"
          ]
        }
      ]
    },
    {
      "cell_type": "code",
      "source": [
        "def all_unique(numbers):\n",
        "    return len(numbers) == len(set(numbers))\n",
        "    def all_unique(45, 55, 55, 55, 60, 37, 100, 105, 220)"
      ],
      "metadata": {
        "colab": {
          "base_uri": "https://localhost:8080/",
          "height": 106
        },
        "id": "-EJTeahX6IrI",
        "outputId": "709b07d6-fc68-4765-a347-66bdb521866b"
      },
      "execution_count": null,
      "outputs": [
        {
          "output_type": "error",
          "ename": "SyntaxError",
          "evalue": "invalid syntax (ipython-input-1115246416.py, line 3)",
          "traceback": [
            "\u001b[0;36m  File \u001b[0;32m\"/tmp/ipython-input-1115246416.py\"\u001b[0;36m, line \u001b[0;32m3\u001b[0m\n\u001b[0;31m    def all_unique(45, 55, 55, 55, 60, 37, 100, 105, 220)\u001b[0m\n\u001b[0m                   ^\u001b[0m\n\u001b[0;31mSyntaxError\u001b[0m\u001b[0;31m:\u001b[0m invalid syntax\n"
          ]
        }
      ]
    },
    {
      "cell_type": "markdown",
      "source": [
        "# Задача 22\n",
        "Напишите программу, которая принимает текст и выводит два слова: наиболее часто встречающееся и самое длинное."
      ],
      "metadata": {
        "id": "-ud5re2WBstq"
      }
    },
    {
      "cell_type": "code",
      "source": [
        "from collections import Counter\n",
        "\n",
        "def analyze_text(text):\n",
        "    # Разбиваем текст на слова (игнорируя регистр и знаки препинания)\n",
        "    words = [word.strip(\".,!?;:\\\"'\").lower() for word in text.split()]\n",
        "\n",
        "    if not words:\n",
        "        return None, None\n",
        "\n",
        "    # Находим самое частое слово\n",
        "    word_counts = Counter(words)\n",
        "    most_common = word_counts.most_common(1)[0][0]\n",
        "\n",
        "    # Находим самое длинное слово\n",
        "    longest = max(words, key=len)\n",
        "\n",
        "    return most_common, longest\n",
        "\n",
        "# Пример использования\n",
        "text = input(\"Введите текст: \")\n",
        "most_common_word, longest_word = analyze_text(text)\n",
        "\n",
        "print(f\"Самое частое слово: {most_common_word}\")\n",
        "print(f\"Самое длинное слово: {longest_word}\")"
      ],
      "metadata": {
        "colab": {
          "base_uri": "https://localhost:8080/"
        },
        "id": "udNEyOMoBvMi",
        "outputId": "11c45af3-cb77-4117-8b92-f80aec50430c"
      },
      "execution_count": null,
      "outputs": [
        {
          "output_type": "stream",
          "name": "stdout",
          "text": [
            "Введите текст: ghbdtn ghgh ghbdtn fvbrkjvnnfv ghbdtn \n",
            "Самое частое слово: ghbdtn\n",
            "Самое длинное слово: fvbrkjvnnfv\n"
          ]
        }
      ]
    },
    {
      "cell_type": "code",
      "source": [
        "import collections\n",
        "\n",
        "text = input()\n",
        "words = text.split()\n",
        "counter = collections.Counter(words)\n",
        "most_common, occurrences = counter.most_common()[0]\n",
        "\n",
        "longest = max(words, key=len)\n",
        "\n",
        "print(most_common, longest)"
      ],
      "metadata": {
        "colab": {
          "base_uri": "https://localhost:8080/"
        },
        "id": "qxd5FMHtEhIN",
        "outputId": "c77f9b43-28e4-4e10-9119-116b81facd6c"
      },
      "execution_count": null,
      "outputs": [
        {
          "output_type": "stream",
          "name": "stdout",
          "text": [
            "ghbdtn hghjbkhhgkjbkj ghbdtn \n",
            "ghbdtn hghjbkhhgkjbkj\n"
          ]
        }
      ]
    },
    {
      "cell_type": "markdown",
      "source": [
        "# Уровень 1.1 (Начало)"
      ],
      "metadata": {
        "id": "F2qNEHATJwPQ"
      }
    },
    {
      "cell_type": "markdown",
      "source": [
        "**Дано число. Проверьте, отрицательное оно или нет. Выведите об этом информацию в консоль**"
      ],
      "metadata": {
        "id": "80OZvHXMKG82"
      }
    },
    {
      "cell_type": "code",
      "source": [
        "nume = int(input())\n",
        "if nume >= 0:\n",
        "  print(\"number is positiv\")\n",
        "else:\n",
        "  print(\"the number is negative\")"
      ],
      "metadata": {
        "colab": {
          "base_uri": "https://localhost:8080/"
        },
        "id": "7VZEyHTIJ8Eq",
        "outputId": "08a3b543-6aa3-496f-e0da-f4d952ca4265"
      },
      "execution_count": null,
      "outputs": [
        {
          "output_type": "stream",
          "name": "stdout",
          "text": [
            "9\n",
            "number is positiv\n"
          ]
        }
      ]
    },
    {
      "cell_type": "markdown",
      "source": [
        "**Дана строка. Выведите в консоль длину этой строки**"
      ],
      "metadata": {
        "id": "ZhYfF1dfLCPq"
      }
    },
    {
      "cell_type": "code",
      "source": [
        "strl = input()\n",
        "print('String has is lenght:', len(strl))"
      ],
      "metadata": {
        "colab": {
          "base_uri": "https://localhost:8080/"
        },
        "id": "1tfQ0CR2LLN1",
        "outputId": "885b9837-fe69-41a0-8efb-4c44c5637687"
      },
      "execution_count": null,
      "outputs": [
        {
          "output_type": "stream",
          "name": "stdout",
          "text": [
            "ggg\n",
            "String has lenght: 3\n"
          ]
        }
      ]
    },
    {
      "cell_type": "markdown",
      "source": [
        "**Дана строка. Выведите в консоль последний символ строки**"
      ],
      "metadata": {
        "id": "j4win7YlL6sI"
      }
    },
    {
      "cell_type": "code",
      "source": [
        "stry = input()\n",
        "print('Last elem string:', stry[-1] )"
      ],
      "metadata": {
        "colab": {
          "base_uri": "https://localhost:8080/"
        },
        "id": "durl62KvL_He",
        "outputId": "8d910701-3b22-47aa-bf2f-cc9f64018f80"
      },
      "execution_count": null,
      "outputs": [
        {
          "output_type": "stream",
          "name": "stdout",
          "text": [
            "rg\n",
            "Last elem string: g\n"
          ]
        }
      ]
    },
    {
      "cell_type": "markdown",
      "source": [
        "**Дано число. Проверьте, четное оно или нет**"
      ],
      "metadata": {
        "id": "ctFjPQsAMXqg"
      }
    },
    {
      "cell_type": "code",
      "source": [
        "numer =  int(input())\n",
        "if numer % 2 == 0:\n",
        "  print(\"number is even\")\n",
        "else:\n",
        "  print('number is odd')"
      ],
      "metadata": {
        "colab": {
          "base_uri": "https://localhost:8080/"
        },
        "id": "m2Ox41jAMcdM",
        "outputId": "b648d494-4c75-403e-9bc5-27a593004ed3"
      },
      "execution_count": null,
      "outputs": [
        {
          "output_type": "stream",
          "name": "stdout",
          "text": [
            "7\n",
            "number is odd\n"
          ]
        }
      ]
    },
    {
      "cell_type": "markdown",
      "source": [
        "**Даны два слова. Проверьте, что первые буквы этих слов совпадают**"
      ],
      "metadata": {
        "id": "vPpbM23GNbaG"
      }
    },
    {
      "cell_type": "markdown",
      "source": [
        "Регистро зависимый"
      ],
      "metadata": {
        "id": "sLSfHP7QOgxA"
      }
    },
    {
      "cell_type": "code",
      "source": [
        "word_1 = input()\n",
        "word_2 = input()\n",
        "if word_1[0] == word_2[0]:\n",
        "  print(\"the first letters match \")\n",
        "else:\n",
        "  print('none')"
      ],
      "metadata": {
        "colab": {
          "base_uri": "https://localhost:8080/"
        },
        "id": "Y6WmHAFuNdAy",
        "outputId": "9182a806-e366-4529-d313-045547d311d4"
      },
      "execution_count": null,
      "outputs": [
        {
          "output_type": "stream",
          "name": "stdout",
          "text": [
            "fdfv\n",
            "Fdf\n",
            "the first letters match \n"
          ]
        }
      ]
    },
    {
      "cell_type": "markdown",
      "source": [
        "Регистро не зависимый"
      ],
      "metadata": {
        "id": "1t4uIBgxOtZZ"
      }
    },
    {
      "cell_type": "code",
      "source": [
        "word_1 = input()\n",
        "word_2 = input()\n",
        "if word_1[0].lower() == word_2[0].lower():\n",
        "  print(\"the first letters match \")\n",
        "else:\n",
        "  print('none')"
      ],
      "metadata": {
        "id": "X6-GZewkOrzv"
      },
      "execution_count": null,
      "outputs": []
    },
    {
      "cell_type": "markdown",
      "source": [
        "**Дано слово. Получите его последнюю букву. Если слово заканчивается на мягкий знак, то получите предпоследнюю букву**"
      ],
      "metadata": {
        "id": "x4sQ6GaYO3pN"
      }
    },
    {
      "cell_type": "code",
      "source": [
        "stri = input()\n",
        "if stri[-1] == 'ь':\n",
        "  print(f'the penultimate letter: {stri[-2]}')\n",
        "else:\n",
        "  print(f'Last letter: {stri[-1]}')"
      ],
      "metadata": {
        "colab": {
          "base_uri": "https://localhost:8080/"
        },
        "id": "VH5Yn59sO7_g",
        "outputId": "340410e9-1a0d-4188-e725-a24da7192cfb"
      },
      "execution_count": null,
      "outputs": [
        {
          "output_type": "stream",
          "name": "stdout",
          "text": [
            "рпль\n",
            "the penultimate letter: в\n"
          ]
        }
      ]
    },
    {
      "cell_type": "markdown",
      "source": [
        "# Уровень 1.2"
      ],
      "metadata": {
        "id": "3dZWvIFAP__7"
      }
    },
    {
      "cell_type": "markdown",
      "source": [
        "**Дано число. Выведите в консоль первую цифру этого числа**"
      ],
      "metadata": {
        "id": "xfvAddJ6QFOG"
      }
    },
    {
      "cell_type": "code",
      "source": [
        "numer = int(input())\n",
        "digi = __builtins__.str(numer) # Обращение к оригинальной функции str()\n",
        "print(f'the first digit of this number: {digi[0]} ')"
      ],
      "metadata": {
        "colab": {
          "base_uri": "https://localhost:8080/"
        },
        "id": "4qa1P1tcTRsQ",
        "outputId": "e9eba9c8-ae0e-43b9-dcaa-7ef71202425d"
      },
      "execution_count": null,
      "outputs": [
        {
          "output_type": "stream",
          "name": "stdout",
          "text": [
            "9\n",
            "the first digit of this number: 9 \n"
          ]
        }
      ]
    },
    {
      "cell_type": "markdown",
      "source": [
        "**Дано число. Выведите в консоль последнюю цифру этого числа**"
      ],
      "metadata": {
        "id": "P4TNLRNgVxD2"
      }
    },
    {
      "cell_type": "code",
      "source": [
        "n = int(input())\n",
        "dig = str(n)\n",
        "print(f'the last digit of this number: {dig[-1]} ')"
      ],
      "metadata": {
        "colab": {
          "base_uri": "https://localhost:8080/"
        },
        "id": "iiZ-Lwq5V1cQ",
        "outputId": "a7a65049-1bdd-4bcc-be24-6686869d93e0"
      },
      "execution_count": null,
      "outputs": [
        {
          "output_type": "stream",
          "name": "stdout",
          "text": [
            "88864\n",
            "the last digit of this number: 4 \n"
          ]
        }
      ]
    },
    {
      "cell_type": "markdown",
      "source": [
        "**Дано число. Выведите в консоль сумму первой и последней цифры этого числа**"
      ],
      "metadata": {
        "id": "BqkUHjGHYpS4"
      }
    },
    {
      "cell_type": "code",
      "source": [
        "num_1 = int(input())\n",
        "dig_1 = str(num_1)\n",
        "di_1 = dig_1 [0]\n",
        "di_2 = dig_1 [-1]\n",
        "sum_dig = int(di_1) + int(di_2)\n",
        "print(sum_dig)"
      ],
      "metadata": {
        "colab": {
          "base_uri": "https://localhost:8080/"
        },
        "id": "MBfLX1siYs_K",
        "outputId": "fa0284bc-221e-4d99-a166-e78de6048581"
      },
      "execution_count": null,
      "outputs": [
        {
          "output_type": "stream",
          "name": "stdout",
          "text": [
            "211196519563\n",
            "5\n"
          ]
        }
      ]
    },
    {
      "cell_type": "markdown",
      "source": [
        "**Дано число. Выведите количество цифр в этом числе**"
      ],
      "metadata": {
        "id": "keEXG_epbIcU"
      }
    },
    {
      "cell_type": "code",
      "source": [
        "num_2 = int(input())\n",
        "print(len(str(num_2)))"
      ],
      "metadata": {
        "colab": {
          "base_uri": "https://localhost:8080/"
        },
        "id": "cp0mjf8IbKsJ",
        "outputId": "c8d40f09-34bb-4d53-e8e1-a527d6329791"
      },
      "execution_count": null,
      "outputs": [
        {
          "output_type": "stream",
          "name": "stdout",
          "text": [
            "545\n",
            "3\n"
          ]
        }
      ]
    },
    {
      "cell_type": "markdown",
      "source": [
        "**Даны два числа. Проверьте, что первые цифры этих чисел совпадают**"
      ],
      "metadata": {
        "id": "96pvB7iBbmd-"
      }
    },
    {
      "cell_type": "code",
      "source": [
        "num_3 = int(input())\n",
        "num_4 = int(input())\n",
        "if str(num_3)[0] == str(num_4)[0]:\n",
        "  print('первые цифры чисел совпадают')\n",
        "else:\n",
        "  print('none')\n"
      ],
      "metadata": {
        "colab": {
          "base_uri": "https://localhost:8080/"
        },
        "id": "CgQ_L1t9bvvZ",
        "outputId": "245b6f97-fc76-4a14-80dd-3d9f25f869cf"
      },
      "execution_count": null,
      "outputs": [
        {
          "output_type": "stream",
          "name": "stdout",
          "text": [
            "969889\n",
            "77878\n",
            "none\n"
          ]
        }
      ]
    },
    {
      "cell_type": "markdown",
      "source": [
        "**Дан список:\n",
        "[1, 2, 3, 4, 5, 6]\n",
        "Получите из него следующий срез:\n",
        "\n",
        "[1, 2, 3]**"
      ],
      "metadata": {
        "id": "MNUfEt51cqeY"
      }
    },
    {
      "cell_type": "code",
      "source": [
        "list_1 = [1, 2, 3, 4, 5, 6]\n",
        "print(list_1[0:3])"
      ],
      "metadata": {
        "colab": {
          "base_uri": "https://localhost:8080/"
        },
        "id": "DzXmhpr-csmy",
        "outputId": "9e3bf957-adf1-4bc2-8778-a78e298960e8"
      },
      "execution_count": null,
      "outputs": [
        {
          "output_type": "stream",
          "name": "stdout",
          "text": [
            "[1, 2, 3]\n"
          ]
        }
      ]
    },
    {
      "cell_type": "markdown",
      "source": [
        "# Уровень 1.3"
      ],
      "metadata": {
        "id": "Ir_hQTGgdI0G"
      }
    },
    {
      "cell_type": "markdown",
      "source": [
        "**Дана строка. Если в этой строке более одного символа, выведите в консоль предпоследний символ этой строки**"
      ],
      "metadata": {
        "id": "iBKqnwXGdLw6"
      }
    },
    {
      "cell_type": "code",
      "source": [
        "str_1 = input()\n",
        "if len(str_1) > 1:\n",
        "  print(str_1[-2])\n",
        "else:\n",
        "  print(\"string has one symbol\")"
      ],
      "metadata": {
        "colab": {
          "base_uri": "https://localhost:8080/"
        },
        "id": "0O-ZcErgdP4n",
        "outputId": "9f9b8a0c-34a7-43ad-892e-8278534bb4bb"
      },
      "execution_count": null,
      "outputs": [
        {
          "output_type": "stream",
          "name": "stdout",
          "text": [
            "t\n",
            "string has one symbol\n"
          ]
        }
      ]
    },
    {
      "cell_type": "markdown",
      "source": [
        "**Даны два целых числа. Проверьте, что первое число без остатка делится на второе**"
      ],
      "metadata": {
        "id": "ylg4ibpte2on"
      }
    },
    {
      "cell_type": "code",
      "source": [
        "num_5 = int(input())\n",
        "num_6 = int(input())\n",
        "if num_5 % num_6 == 0:\n",
        "  print('первое число без остатка делится на второе')\n",
        "else:\n",
        "  num_7 = num_5 / num_6\n",
        "  print(f'Деление первого числа на второе равно: {num_7}')"
      ],
      "metadata": {
        "colab": {
          "base_uri": "https://localhost:8080/"
        },
        "id": "LlIitG2fe4LV",
        "outputId": "87157bdd-1e34-4731-c369-19f297a70c64"
      },
      "execution_count": null,
      "outputs": [
        {
          "output_type": "stream",
          "name": "stdout",
          "text": [
            "4\n",
            "78\n",
            "Деление первого числа на второе равно: 0.05128205128205128\n"
          ]
        }
      ]
    },
    {
      "cell_type": "markdown",
      "source": [
        "**Дана некоторая строка:\n",
        "\n",
        "'abcde'\n",
        "Получите список ее символов:\n",
        "\n",
        "['a', 'b', 'c', 'd', 'e']**"
      ],
      "metadata": {
        "id": "Bw05m-q3hC6k"
      }
    },
    {
      "cell_type": "code",
      "source": [
        "str_2 = 'abcde'\n",
        "print(list(str_2))"
      ],
      "metadata": {
        "colab": {
          "base_uri": "https://localhost:8080/"
        },
        "id": "wrY8cDzQhEnY",
        "outputId": "b966d690-97ad-4b1f-c885-95681031eff8"
      },
      "execution_count": null,
      "outputs": [
        {
          "output_type": "stream",
          "name": "stdout",
          "text": [
            "['a', 'b', 'c', 'd', 'e']\n"
          ]
        }
      ]
    },
    {
      "cell_type": "markdown",
      "source": [
        "**Дан список:\n",
        "\n",
        "[1, 2, 3, 4, 5, 6]\n",
        "Получите из него следующий срез:\n",
        "\n",
        "[3, 4, 5]**"
      ],
      "metadata": {
        "id": "5N3iFhtehVUe"
      }
    },
    {
      "cell_type": "code",
      "source": [
        "list_2 = [1, 2, 3, 4, 5, 6]\n",
        "print(list_2[2:5])"
      ],
      "metadata": {
        "colab": {
          "base_uri": "https://localhost:8080/"
        },
        "id": "EL_1wS4qhUe7",
        "outputId": "c65554d6-ac59-4b12-ad8b-d0f137d5315f"
      },
      "execution_count": null,
      "outputs": [
        {
          "output_type": "stream",
          "name": "stdout",
          "text": [
            "[3, 4, 5]\n"
          ]
        }
      ]
    },
    {
      "cell_type": "markdown",
      "source": [
        "**Дан словарь с датой:\n",
        "\n",
        "{\n",
        "\t'year' : '2025',\n",
        "\t'month': '12',\n",
        "\t'day'  : '31',\n",
        "}\n",
        "Из элементов этого словаря соберите дату в следующем формате:\n",
        "\n",
        "'2025-12-31'**"
      ],
      "metadata": {
        "id": "Gh1a354dhqi2"
      }
    },
    {
      "cell_type": "code",
      "source": [
        "dict_1 = { 'year' : '2025', 'month': '12', 'day' : '31', }\n",
        "form_date =f\"{dict_1['year']}-{dict_1['month']}-{dict_1['day']}\"\n",
        "print(form_date)"
      ],
      "metadata": {
        "colab": {
          "base_uri": "https://localhost:8080/"
        },
        "id": "UXplrig3hr9n",
        "outputId": "71dfe9da-d322-42b3-fa51-fc639c2c0609"
      },
      "execution_count": null,
      "outputs": [
        {
          "output_type": "stream",
          "name": "stdout",
          "text": [
            "2025-12-31\n"
          ]
        }
      ]
    },
    {
      "cell_type": "code",
      "source": [
        "date_dict = {'year': '2025', 'month': '12', 'day': '31'}\n",
        "formatted_date = \"{year}-{month}-{day}\".format(**date_dict)\n",
        "print(formatted_date)  # Выведет: 2025-12-31"
      ],
      "metadata": {
        "colab": {
          "base_uri": "https://localhost:8080/"
        },
        "id": "DO0V1C2QjgJL",
        "outputId": "8576508c-d3c5-4335-e2b9-c22c5f25a1c2"
      },
      "execution_count": null,
      "outputs": [
        {
          "output_type": "stream",
          "name": "stdout",
          "text": [
            "2025-12-31\n"
          ]
        }
      ]
    },
    {
      "cell_type": "markdown",
      "source": [
        "# Уровень 1.4"
      ],
      "metadata": {
        "id": "qRkmqrAFjrg5"
      }
    },
    {
      "cell_type": "markdown",
      "source": [
        "**Выведите в консоль все целые числа от 1 до 100**"
      ],
      "metadata": {
        "id": "bnUy2sKcj0sD"
      }
    },
    {
      "cell_type": "code",
      "source": [
        "for i in range(1,101):\n",
        "  print(i)"
      ],
      "metadata": {
        "colab": {
          "base_uri": "https://localhost:8080/"
        },
        "collapsed": true,
        "id": "tTKw1Vtoj4_b",
        "outputId": "5bd994d2-6f23-4f63-c64a-a2d37f42f75c"
      },
      "execution_count": null,
      "outputs": [
        {
          "output_type": "stream",
          "name": "stdout",
          "text": [
            "1\n",
            "2\n",
            "3\n",
            "4\n",
            "5\n",
            "6\n",
            "7\n",
            "8\n",
            "9\n",
            "10\n",
            "11\n",
            "12\n",
            "13\n",
            "14\n",
            "15\n",
            "16\n",
            "17\n",
            "18\n",
            "19\n",
            "20\n",
            "21\n",
            "22\n",
            "23\n",
            "24\n",
            "25\n",
            "26\n",
            "27\n",
            "28\n",
            "29\n",
            "30\n",
            "31\n",
            "32\n",
            "33\n",
            "34\n",
            "35\n",
            "36\n",
            "37\n",
            "38\n",
            "39\n",
            "40\n",
            "41\n",
            "42\n",
            "43\n",
            "44\n",
            "45\n",
            "46\n",
            "47\n",
            "48\n",
            "49\n",
            "50\n",
            "51\n",
            "52\n",
            "53\n",
            "54\n",
            "55\n",
            "56\n",
            "57\n",
            "58\n",
            "59\n",
            "60\n",
            "61\n",
            "62\n",
            "63\n",
            "64\n",
            "65\n",
            "66\n",
            "67\n",
            "68\n",
            "69\n",
            "70\n",
            "71\n",
            "72\n",
            "73\n",
            "74\n",
            "75\n",
            "76\n",
            "77\n",
            "78\n",
            "79\n",
            "80\n",
            "81\n",
            "82\n",
            "83\n",
            "84\n",
            "85\n",
            "86\n",
            "87\n",
            "88\n",
            "89\n",
            "90\n",
            "91\n",
            "92\n",
            "93\n",
            "94\n",
            "95\n",
            "96\n",
            "97\n",
            "98\n",
            "99\n",
            "100\n"
          ]
        }
      ]
    },
    {
      "cell_type": "markdown",
      "source": [
        "**Выведите в консоль все целые числа от -100 до 0**"
      ],
      "metadata": {
        "id": "5gzwn1IA3NJE"
      }
    },
    {
      "cell_type": "code",
      "source": [
        "for i in range(-100, 1):\n",
        "  print(i)"
      ],
      "metadata": {
        "colab": {
          "base_uri": "https://localhost:8080/"
        },
        "collapsed": true,
        "id": "JpPGdghS3S-P",
        "outputId": "36cbc688-d55b-46a2-fabc-b7d82af9ce7e"
      },
      "execution_count": null,
      "outputs": [
        {
          "output_type": "stream",
          "name": "stdout",
          "text": [
            "-100\n",
            "-99\n",
            "-98\n",
            "-97\n",
            "-96\n",
            "-95\n",
            "-94\n",
            "-93\n",
            "-92\n",
            "-91\n",
            "-90\n",
            "-89\n",
            "-88\n",
            "-87\n",
            "-86\n",
            "-85\n",
            "-84\n",
            "-83\n",
            "-82\n",
            "-81\n",
            "-80\n",
            "-79\n",
            "-78\n",
            "-77\n",
            "-76\n",
            "-75\n",
            "-74\n",
            "-73\n",
            "-72\n",
            "-71\n",
            "-70\n",
            "-69\n",
            "-68\n",
            "-67\n",
            "-66\n",
            "-65\n",
            "-64\n",
            "-63\n",
            "-62\n",
            "-61\n",
            "-60\n",
            "-59\n",
            "-58\n",
            "-57\n",
            "-56\n",
            "-55\n",
            "-54\n",
            "-53\n",
            "-52\n",
            "-51\n",
            "-50\n",
            "-49\n",
            "-48\n",
            "-47\n",
            "-46\n",
            "-45\n",
            "-44\n",
            "-43\n",
            "-42\n",
            "-41\n",
            "-40\n",
            "-39\n",
            "-38\n",
            "-37\n",
            "-36\n",
            "-35\n",
            "-34\n",
            "-33\n",
            "-32\n",
            "-31\n",
            "-30\n",
            "-29\n",
            "-28\n",
            "-27\n",
            "-26\n",
            "-25\n",
            "-24\n",
            "-23\n",
            "-22\n",
            "-21\n",
            "-20\n",
            "-19\n",
            "-18\n",
            "-17\n",
            "-16\n",
            "-15\n",
            "-14\n",
            "-13\n",
            "-12\n",
            "-11\n",
            "-10\n",
            "-9\n",
            "-8\n",
            "-7\n",
            "-6\n",
            "-5\n",
            "-4\n",
            "-3\n",
            "-2\n",
            "-1\n",
            "0\n"
          ]
        }
      ]
    },
    {
      "cell_type": "markdown",
      "source": [
        "**Выведите в консоль все целые числа от 100 до 1**"
      ],
      "metadata": {
        "id": "krXAGvF_3tr6"
      }
    },
    {
      "cell_type": "code",
      "source": [
        "for i in range(100,0,-1):\n",
        "  print(i)"
      ],
      "metadata": {
        "id": "qPYiH5_a4HTA",
        "colab": {
          "base_uri": "https://localhost:8080/"
        },
        "collapsed": true,
        "outputId": "83a1b795-a250-43c5-9aeb-6b567e75e4b0"
      },
      "execution_count": 41,
      "outputs": [
        {
          "output_type": "stream",
          "name": "stdout",
          "text": [
            "100\n",
            "99\n",
            "98\n",
            "97\n",
            "96\n",
            "95\n",
            "94\n",
            "93\n",
            "92\n",
            "91\n",
            "90\n",
            "89\n",
            "88\n",
            "87\n",
            "86\n",
            "85\n",
            "84\n",
            "83\n",
            "82\n",
            "81\n",
            "80\n",
            "79\n",
            "78\n",
            "77\n",
            "76\n",
            "75\n",
            "74\n",
            "73\n",
            "72\n",
            "71\n",
            "70\n",
            "69\n",
            "68\n",
            "67\n",
            "66\n",
            "65\n",
            "64\n",
            "63\n",
            "62\n",
            "61\n",
            "60\n",
            "59\n",
            "58\n",
            "57\n",
            "56\n",
            "55\n",
            "54\n",
            "53\n",
            "52\n",
            "51\n",
            "50\n",
            "49\n",
            "48\n",
            "47\n",
            "46\n",
            "45\n",
            "44\n",
            "43\n",
            "42\n",
            "41\n",
            "40\n",
            "39\n",
            "38\n",
            "37\n",
            "36\n",
            "35\n",
            "34\n",
            "33\n",
            "32\n",
            "31\n",
            "30\n",
            "29\n",
            "28\n",
            "27\n",
            "26\n",
            "25\n",
            "24\n",
            "23\n",
            "22\n",
            "21\n",
            "20\n",
            "19\n",
            "18\n",
            "17\n",
            "16\n",
            "15\n",
            "14\n",
            "13\n",
            "12\n",
            "11\n",
            "10\n",
            "9\n",
            "8\n",
            "7\n",
            "6\n",
            "5\n",
            "4\n",
            "3\n",
            "2\n",
            "1\n"
          ]
        }
      ]
    },
    {
      "cell_type": "markdown",
      "source": [
        "**Выведите в консоль все четные числа из промежутка от 1 до 100**"
      ],
      "metadata": {
        "id": "gawEDjef5aUN"
      }
    },
    {
      "cell_type": "code",
      "source": [
        "for i in range(1, 101):\n",
        "    if i % 2 == 0:\n",
        "        print(i)"
      ],
      "metadata": {
        "colab": {
          "base_uri": "https://localhost:8080/"
        },
        "collapsed": true,
        "id": "4EueV-Yx6NrI",
        "outputId": "37e2b689-0149-4ba8-8580-3f617c3b7b33"
      },
      "execution_count": 55,
      "outputs": [
        {
          "output_type": "stream",
          "name": "stdout",
          "text": [
            "2\n",
            "4\n",
            "6\n",
            "8\n",
            "10\n",
            "12\n",
            "14\n",
            "16\n",
            "18\n",
            "20\n",
            "22\n",
            "24\n",
            "26\n",
            "28\n",
            "30\n",
            "32\n",
            "34\n",
            "36\n",
            "38\n",
            "40\n",
            "42\n",
            "44\n",
            "46\n",
            "48\n",
            "50\n",
            "52\n",
            "54\n",
            "56\n",
            "58\n",
            "60\n",
            "62\n",
            "64\n",
            "66\n",
            "68\n",
            "70\n",
            "72\n",
            "74\n",
            "76\n",
            "78\n",
            "80\n",
            "82\n",
            "84\n",
            "86\n",
            "88\n",
            "90\n",
            "92\n",
            "94\n",
            "96\n",
            "98\n",
            "100\n"
          ]
        }
      ]
    },
    {
      "cell_type": "markdown",
      "source": [
        "**Выведите в консоль все числа кратные трем в промежутке от 1 до 100**"
      ],
      "metadata": {
        "id": "SzOQTRKz6Vqz"
      }
    },
    {
      "cell_type": "code",
      "source": [
        "for i in range(1,101):\n",
        "  if i % 3 == 0:\n",
        "    print(i)"
      ],
      "metadata": {
        "colab": {
          "base_uri": "https://localhost:8080/"
        },
        "collapsed": true,
        "id": "WPpN1nOC6bAJ",
        "outputId": "4e3a11cf-9193-45f3-b82f-8ce8452e5ca4"
      },
      "execution_count": 56,
      "outputs": [
        {
          "output_type": "stream",
          "name": "stdout",
          "text": [
            "3\n",
            "6\n",
            "9\n",
            "12\n",
            "15\n",
            "18\n",
            "21\n",
            "24\n",
            "27\n",
            "30\n",
            "33\n",
            "36\n",
            "39\n",
            "42\n",
            "45\n",
            "48\n",
            "51\n",
            "54\n",
            "57\n",
            "60\n",
            "63\n",
            "66\n",
            "69\n",
            "72\n",
            "75\n",
            "78\n",
            "81\n",
            "84\n",
            "87\n",
            "90\n",
            "93\n",
            "96\n",
            "99\n"
          ]
        }
      ]
    },
    {
      "cell_type": "markdown",
      "source": [
        "**Дан список:\n",
        "\n",
        "[1, 2, 3, 4, 5, 6]\n",
        "Получите из него два последних элемента:\n",
        "\n",
        "[5, 6]**"
      ],
      "metadata": {
        "id": "DBUcxnIQ6qiv"
      }
    },
    {
      "cell_type": "code",
      "source": [
        "list_3 = [1, 2, 3, 4, 5, 6]\n",
        "print(list_3[4:6])"
      ],
      "metadata": {
        "colab": {
          "base_uri": "https://localhost:8080/"
        },
        "id": "SgQA0z3m6rzN",
        "outputId": "fce05438-6f27-4cf6-f3cc-6f59a0a73093"
      },
      "execution_count": 69,
      "outputs": [
        {
          "output_type": "stream",
          "name": "stdout",
          "text": [
            "[5, 6]\n"
          ]
        }
      ]
    },
    {
      "cell_type": "code",
      "source": [
        "my_list = [1, 2, 3, 4, 5, 6]\n",
        "last_two = my_list[-2:]\n",
        "print(last_two)"
      ],
      "metadata": {
        "colab": {
          "base_uri": "https://localhost:8080/"
        },
        "id": "RaBRDbQC7zfk",
        "outputId": "43554fc3-a9bb-4ec4-9ddb-fe3fce8ae62e"
      },
      "execution_count": 70,
      "outputs": [
        {
          "output_type": "stream",
          "name": "stdout",
          "text": [
            "[5, 6]\n"
          ]
        }
      ]
    },
    {
      "cell_type": "markdown",
      "source": [
        "**Дана некоторая строка:\n",
        "\n",
        "'abcdeabc'\n",
        "Получите сет ее символов:\n",
        "\n",
        "{'a', 'b', 'c', 'd', 'e'}**"
      ],
      "metadata": {
        "id": "akfFOXft8FqW"
      }
    },
    {
      "cell_type": "code",
      "source": [
        "str_9 = 'abcdeabc'\n",
        "print(set(str_9))"
      ],
      "metadata": {
        "colab": {
          "base_uri": "https://localhost:8080/"
        },
        "id": "D51rfRqM8KJK",
        "outputId": "30cda264-bc1e-49dc-8cc7-1e06c096cc3d"
      },
      "execution_count": 73,
      "outputs": [
        {
          "output_type": "stream",
          "name": "stdout",
          "text": [
            "{'a', 'd', 'e', 'c', 'b'}\n"
          ]
        }
      ]
    },
    {
      "cell_type": "markdown",
      "source": [
        "# Уровень 1.5"
      ],
      "metadata": {
        "id": "R0EGrQ-08ouv"
      }
    },
    {
      "cell_type": "markdown",
      "source": [
        "**Найдите сумму всех целых чисел от 1 до 100**"
      ],
      "metadata": {
        "id": "MizYZzqL8r4w"
      }
    },
    {
      "cell_type": "code",
      "source": [
        "\n",
        "print(sum(range(1,101)))"
      ],
      "metadata": {
        "colab": {
          "base_uri": "https://localhost:8080/"
        },
        "id": "GBsCu9u280ng",
        "outputId": "e9d9ba35-0842-4ba9-8790-7a263c2ec470"
      },
      "execution_count": 85,
      "outputs": [
        {
          "output_type": "stream",
          "name": "stdout",
          "text": [
            "5050\n"
          ]
        }
      ]
    },
    {
      "cell_type": "code",
      "source": [
        "n = 100\n",
        "sum_gauss = n * (n + 1) // 2\n",
        "print(sum_gauss)  # Выведет: 5050"
      ],
      "metadata": {
        "id": "CLCtkEeM_Bns"
      },
      "execution_count": null,
      "outputs": []
    },
    {
      "cell_type": "code",
      "source": [
        "total = 0\n",
        "for i in range(1, 101):\n",
        "    total += i\n",
        "print(total)  # Выведет: 5050"
      ],
      "metadata": {
        "id": "jZ7BUmm0_Dvw"
      },
      "execution_count": null,
      "outputs": []
    },
    {
      "cell_type": "markdown",
      "source": [
        "**Найдите сумму всех целых четных чисел в промежутке от 1 до 100**"
      ],
      "metadata": {
        "id": "ykgEPxZk_KeV"
      }
    },
    {
      "cell_type": "code",
      "source": [
        "total = 0\n",
        "for i in range(1, 101):\n",
        "  if i % 2 == 0:\n",
        "    total += i\n",
        "print(total)"
      ],
      "metadata": {
        "colab": {
          "base_uri": "https://localhost:8080/"
        },
        "id": "L1aWRink_TVa",
        "outputId": "dc2cef6c-1dc2-452b-8bf0-7be553f5aaa1"
      },
      "execution_count": 86,
      "outputs": [
        {
          "output_type": "stream",
          "name": "stdout",
          "text": [
            "2550\n"
          ]
        }
      ]
    },
    {
      "cell_type": "markdown",
      "source": [
        "**Найдите сумму всех целых нечетных чисел в промежутке от 1 до 100**"
      ],
      "metadata": {
        "id": "Nq1Vjq2S_tbI"
      }
    },
    {
      "cell_type": "code",
      "source": [
        "total = 0\n",
        "for i in range(1, 101):\n",
        "  if i % 3 == 0:\n",
        "    total += i\n",
        "print(total)"
      ],
      "metadata": {
        "colab": {
          "base_uri": "https://localhost:8080/"
        },
        "id": "z52J5kk0_u0W",
        "outputId": "c618d2b5-5cbc-4479-9d79-877fc6710c10"
      },
      "execution_count": 87,
      "outputs": [
        {
          "output_type": "stream",
          "name": "stdout",
          "text": [
            "1683\n"
          ]
        }
      ]
    },
    {
      "cell_type": "markdown",
      "source": [
        "**Даны два целых числа. Найдите остаток от деления первого числа на второе**"
      ],
      "metadata": {
        "id": "0KpnV7wsABzk"
      }
    },
    {
      "cell_type": "code",
      "source": [
        "num_7 = int(input())\n",
        "num_9 = int(input())\n",
        "print(f' остаток от деления первого числа на второе: {num_7 / num_9}')"
      ],
      "metadata": {
        "colab": {
          "base_uri": "https://localhost:8080/"
        },
        "id": "IR1tNHF0AC7r",
        "outputId": "e94f172e-3441-4094-a507-95d63f0d3c31"
      },
      "execution_count": 89,
      "outputs": [
        {
          "output_type": "stream",
          "name": "stdout",
          "text": [
            "3\n",
            "7\n",
            " остаток от деления первого числа на второе: 0.42857142857142855\n"
          ]
        }
      ]
    },
    {
      "cell_type": "markdown",
      "source": [
        "**Дан список:\n",
        "\n",
        "[1, 2, 3, 4, 5, 6]\n",
        "Получите из него каждый второй элемент:\n",
        "\n",
        "[1, 3, 5]**"
      ],
      "metadata": {
        "id": "GIh6WmWaAl7z"
      }
    },
    {
      "cell_type": "code",
      "source": [
        "list_5 =[1, 2, 3, 4, 5, 6]\n",
        "print(list_5[0::2])"
      ],
      "metadata": {
        "colab": {
          "base_uri": "https://localhost:8080/"
        },
        "id": "sqV9FdVmApTC",
        "outputId": "ffe9e297-785a-4bcb-e992-d57faf6e8c50"
      },
      "execution_count": 90,
      "outputs": [
        {
          "output_type": "stream",
          "name": "stdout",
          "text": [
            "[1, 3, 5]\n"
          ]
        }
      ]
    },
    {
      "cell_type": "markdown",
      "source": [
        "# Уровень 1.6"
      ],
      "metadata": {
        "id": "2uOy5xJ9BGQE"
      }
    }
  ]
}