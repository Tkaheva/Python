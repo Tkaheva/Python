{
  "nbformat": 4,
  "nbformat_minor": 0,
  "metadata": {
    "colab": {
      "provenance": [],
      "toc_visible": true,
      "authorship_tag": "ABX9TyN1eeLWmInT2zUYhPn+SwMS",
      "include_colab_link": true
    },
    "kernelspec": {
      "name": "python3",
      "display_name": "Python 3"
    },
    "language_info": {
      "name": "python"
    }
  },
  "cells": [
    {
      "cell_type": "markdown",
      "metadata": {
        "id": "view-in-github",
        "colab_type": "text"
      },
      "source": [
        "<a href=\"https://colab.research.google.com/github/Tkaheva/Python/blob/main/Practica_python.ipynb\" target=\"_parent\"><img src=\"https://colab.research.google.com/assets/colab-badge.svg\" alt=\"Open In Colab\"/></a>"
      ]
    },
    {
      "cell_type": "markdown",
      "source": [
        "# Задача 10\n",
        "*Вы принимаете от пользователя последовательность чисел, разделённых запятой. Составьте список и кортеж с этими числами.*"
      ],
      "metadata": {
        "id": "cYlQncJk-Dwy"
      }
    },
    {
      "cell_type": "code",
      "source": [
        "num = int(input())\n",
        "print('список введённых чисел', list(str(num)))\n",
        "print('кортеж введённых чисел',tuple(str(num)))"
      ],
      "metadata": {
        "colab": {
          "base_uri": "https://localhost:8080/"
        },
        "id": "5aXU3YAO-WB_",
        "outputId": "4a9432ba-25ed-493c-f9c4-c9790350ee7b"
      },
      "execution_count": null,
      "outputs": [
        {
          "output_type": "stream",
          "name": "stdout",
          "text": [
            "533566\n",
            "список введённых чисел ['5', '3', '3', '5', '6', '6']\n",
            "кортеж введённых чисел ('5', '3', '3', '5', '6', '6')\n"
          ]
        }
      ]
    },
    {
      "cell_type": "code",
      "source": [
        "values = input('Введите числа через запятую: ')\n",
        "ints_as_strings = values.split(',')\n",
        "ints = map(int, ints_as_strings)\n",
        "lst = list(ints)\n",
        "tup = tuple(lst)\n",
        "print('Список:', lst)\n",
        "print('Кортеж:', tup)"
      ],
      "metadata": {
        "colab": {
          "base_uri": "https://localhost:8080/"
        },
        "id": "BvF3XRFxCtIB",
        "outputId": "4ea6a174-069f-425d-d61b-14d8cedd253e"
      },
      "execution_count": null,
      "outputs": [
        {
          "output_type": "stream",
          "name": "stdout",
          "text": [
            "Введите числа через запятую: 2,3,2,2,33,233,4\n",
            "Список: [2, 3, 2, 2, 33, 233, 4]\n",
            "Кортеж: (2, 3, 2, 2, 33, 233, 4)\n"
          ]
        }
      ]
    },
    {
      "cell_type": "markdown",
      "source": [
        "# Задача 11\n",
        "*Выведите первый и последний элемент списка*"
      ],
      "metadata": {
        "id": "n-SqUgn6GetZ"
      }
    },
    {
      "cell_type": "code",
      "source": [
        "lst = [2, 3, 2, 2, 33, 233, 4]\n",
        "print('first elem list:', lst[0], '\\n', 'last elem list:', lst[-1])\n"
      ],
      "metadata": {
        "colab": {
          "base_uri": "https://localhost:8080/"
        },
        "id": "zNloHT2rGov1",
        "outputId": "5c1fb5d4-3abd-4113-d5b2-3e5cc1b25418"
      },
      "execution_count": null,
      "outputs": [
        {
          "output_type": "stream",
          "name": "stdout",
          "text": [
            "first elem list: 2 \n",
            " last elem list: 4\n"
          ]
        }
      ]
    },
    {
      "cell_type": "code",
      "source": [
        "lst = [1, 2, 3, 4, 5]\n",
        "print(f'Первый: {lst[0]}; последний: {lst[-1]}')"
      ],
      "metadata": {
        "colab": {
          "base_uri": "https://localhost:8080/"
        },
        "id": "qG-fVnK_Hlcy",
        "outputId": "089f751a-095b-4b00-88b3-bc0f84560d0d"
      },
      "execution_count": null,
      "outputs": [
        {
          "output_type": "stream",
          "name": "stdout",
          "text": [
            "Первый: 1; последний: 5\n"
          ]
        }
      ]
    },
    {
      "cell_type": "markdown",
      "source": [
        "# Задача 12\n",
        "*Напишите программу, которая принимает имя файла и выводит его расширение. Если расширение у файла определить невозможно, выбросите исключение*"
      ],
      "metadata": {
        "id": "KeMBrlIfH3zA"
      }
    },
    {
      "cell_type": "code",
      "source": [
        "\n",
        "name_file = input()\n",
        "if name_file.split('.')[-1] == 'py':\n",
        "  expansion = name_file.split('.')[-1]\n",
        "  print(f'file: {name_file} with expansion: {expansion}')\n",
        "elif name_file.split('.')[-1] == 'txt':\n",
        "   expansion = name_file.split('.')[-1]\n",
        "   print(f'file: {name_file} with expansion: {expansion}')\n",
        "else:\n",
        "  print('error in name file or expansion')"
      ],
      "metadata": {
        "colab": {
          "base_uri": "https://localhost:8080/"
        },
        "id": "ZmO5RaLaIBqs",
        "outputId": "00879935-d74b-47b3-f296-f4ebe3c42266"
      },
      "execution_count": null,
      "outputs": [
        {
          "output_type": "stream",
          "name": "stdout",
          "text": [
            "fdge\n",
            "error in name file or expansion\n"
          ]
        }
      ]
    },
    {
      "cell_type": "markdown",
      "source": [
        "# Задача 13\n",
        "*При заданном целом числе n посчитайте n + nn + nnn*"
      ],
      "metadata": {
        "id": "gAkKPMFqMri-"
      }
    },
    {
      "cell_type": "code",
      "source": [
        "num = int(input())\n",
        "print(num + num**2 + num**3)"
      ],
      "metadata": {
        "colab": {
          "base_uri": "https://localhost:8080/"
        },
        "id": "XIu6PKsLM1i-",
        "outputId": "6426b17d-5628-44ad-fc4f-3d2bfac5662e"
      },
      "execution_count": null,
      "outputs": [
        {
          "output_type": "stream",
          "name": "stdout",
          "text": [
            "77\n",
            "462539\n"
          ]
        }
      ]
    },
    {
      "cell_type": "markdown",
      "source": [
        "# Задача 14\n",
        "*Напишите программу, которая выводит чётные числа из заданного списка и останавливается, если встречает число 237*"
      ],
      "metadata": {
        "id": "B4F-FYlcNtP6"
      }
    },
    {
      "cell_type": "code",
      "source": [
        "lst = [2, 3, 2, 4, 33, 233, 4, 237, 33, 55]\n",
        "for i in lst:\n",
        "  if i % 2 == 0 and i != 237:\n",
        "    print(i)\n"
      ],
      "metadata": {
        "colab": {
          "base_uri": "https://localhost:8080/"
        },
        "id": "Sna2ueN_N1f8",
        "outputId": "70ee3752-764b-4ba8-f7bb-00f5b55a3cb1"
      },
      "execution_count": null,
      "outputs": [
        {
          "output_type": "stream",
          "name": "stdout",
          "text": [
            "2\n",
            "2\n",
            "4\n",
            "4\n"
          ]
        }
      ]
    },
    {
      "cell_type": "code",
      "source": [
        "lst = [2, 3, 2, 4, 33, 233, 4, 237, 33, 55]\n",
        "\n",
        "for i in lst:\n",
        "    if i == 237:\n",
        "        break\n",
        "    if i % 2 == 0:\n",
        "        print(i)"
      ],
      "metadata": {
        "colab": {
          "base_uri": "https://localhost:8080/"
        },
        "id": "W2cOo-3ZTrn2",
        "outputId": "cc75c222-6da3-4ed9-ded3-05c5053a1b69"
      },
      "execution_count": null,
      "outputs": [
        {
          "output_type": "stream",
          "name": "stdout",
          "text": [
            "2\n",
            "2\n",
            "4\n",
            "4\n"
          ]
        }
      ]
    },
    {
      "cell_type": "markdown",
      "source": [
        "# Задача 15\n",
        "Напишите программу, которая принимает два списка и выводит все элементы первого, которых нет во втором"
      ],
      "metadata": {
        "id": "pQ2sPe92T7Ld"
      }
    },
    {
      "cell_type": "code",
      "source": [
        "one_lst =  [2, 3, 2, 4, 33, 233, 4, 237, 33, 55]\n",
        "two_lst = [2, 53, 42, 43,  253, 4, 237,  55]\n",
        "print(set(one_lst) - set(two_lst))"
      ],
      "metadata": {
        "colab": {
          "base_uri": "https://localhost:8080/"
        },
        "id": "sm4H_c37UFNu",
        "outputId": "f0db270a-6db3-4729-9e68-cff507afd730"
      },
      "execution_count": null,
      "outputs": [
        {
          "output_type": "stream",
          "name": "stdout",
          "text": [
            "{33, 3, 233}\n"
          ]
        }
      ]
    },
    {
      "cell_type": "markdown",
      "source": [
        "# Задача 16\n",
        "Выведите список файлов в указанной директории"
      ],
      "metadata": {
        "id": "nku9BKNzYaH4"
      }
    },
    {
      "cell_type": "code",
      "source": [
        "import requests\n",
        "\n",
        "# Запрос к API GitHub\n",
        "url = \"https://api.github.com/repos/Tkaheva/Practica-To-do-list/contents\"\n",
        "response = requests.get(url)\n",
        "data = response.json()\n",
        "\n",
        "# Выводим только файлы (не директории)\n",
        "for item in data:\n",
        "    if item[\"type\"] == \"file\":\n",
        "        print(item[\"name\"])"
      ],
      "metadata": {
        "colab": {
          "base_uri": "https://localhost:8080/"
        },
        "id": "ZwYCqqchYjAn",
        "outputId": "47c13a6b-499f-4aca-8289-804ad5599a59"
      },
      "execution_count": null,
      "outputs": [
        {
          "output_type": "stream",
          "name": "stdout",
          "text": [
            "README.md\n",
            "style tdl.css\n",
            "Документ Microsoft Word.docx\n",
            "прак.html\n"
          ]
        }
      ]
    },
    {
      "cell_type": "code",
      "source": [
        "!git clone https://github.com/Tkaheva/Practica-To-do-list.git\n",
        "!ls -R Practica-To-do-list"
      ],
      "metadata": {
        "colab": {
          "base_uri": "https://localhost:8080/"
        },
        "id": "-HCgcCP5aRuC",
        "outputId": "2158314e-9bd8-459d-bc1b-e29477b9641a"
      },
      "execution_count": null,
      "outputs": [
        {
          "output_type": "stream",
          "name": "stdout",
          "text": [
            "Cloning into 'Practica-To-do-list'...\n",
            "remote: Enumerating objects: 18, done.\u001b[K\n",
            "remote: Counting objects: 100% (18/18), done.\u001b[K\n",
            "remote: Compressing objects: 100% (16/16), done.\u001b[K\n",
            "remote: Total 18 (delta 4), reused 0 (delta 0), pack-reused 0 (from 0)\u001b[K\n",
            "Receiving objects: 100% (18/18), 24.20 KiB | 604.00 KiB/s, done.\n",
            "Resolving deltas: 100% (4/4), done.\n",
            "Practica-To-do-list:\n",
            " README.md  'style tdl.css'  'Документ Microsoft Word.docx'   прак.html\n"
          ]
        }
      ]
    },
    {
      "cell_type": "markdown",
      "source": [
        "# Задача 17\n",
        "Сложите цифры целого числа"
      ],
      "metadata": {
        "id": "vNVOCMKsdbKB"
      }
    },
    {
      "cell_type": "code",
      "source": [
        "num = input()\n",
        "number = sum(int(digit) for digit in num)\n",
        "print(number)"
      ],
      "metadata": {
        "colab": {
          "base_uri": "https://localhost:8080/"
        },
        "id": "qjWBtDuqdk7Z",
        "outputId": "9c3680e9-ecee-408b-d0d9-17e23f0f9182"
      },
      "execution_count": null,
      "outputs": [
        {
          "output_type": "stream",
          "name": "stdout",
          "text": [
            "444\n",
            "12\n"
          ]
        }
      ]
    },
    {
      "cell_type": "markdown",
      "source": [
        "# Задача 18\n",
        "Посчитайте, сколько раз символ встречается в строке"
      ],
      "metadata": {
        "id": "WovRUCo7hLt3"
      }
    },
    {
      "cell_type": "code",
      "source": [
        "count = 0\n",
        "str = 'd,jj,jh,hk'\n",
        "for i in str:\n",
        "  if i == ',':\n",
        "    count+=1\n",
        "    print(count)"
      ],
      "metadata": {
        "colab": {
          "base_uri": "https://localhost:8080/"
        },
        "id": "i2wbhlb8hRxK",
        "outputId": "71de193d-dbb9-468b-efff-3e35122fe822"
      },
      "execution_count": null,
      "outputs": [
        {
          "output_type": "stream",
          "name": "stdout",
          "text": [
            "1\n",
            "2\n",
            "3\n"
          ]
        }
      ]
    },
    {
      "cell_type": "code",
      "source": [
        "s = 'd,jj,jh,hk'\n",
        "count = s.count(',')  # Самый питонический способ\n",
        "print(f\"Количество запятых: {count}\")"
      ],
      "metadata": {
        "colab": {
          "base_uri": "https://localhost:8080/"
        },
        "id": "UobhEhjKizJ9",
        "outputId": "430e4a4e-3c98-4990-953f-cf39683a82f8"
      },
      "execution_count": null,
      "outputs": [
        {
          "output_type": "stream",
          "name": "stdout",
          "text": [
            "Количество запятых: 3\n"
          ]
        }
      ]
    },
    {
      "cell_type": "markdown",
      "source": [
        "# Задача 19\n",
        "Поменяйте значения переменных местами"
      ],
      "metadata": {
        "id": "w4jqiH_Ejhm8"
      }
    },
    {
      "cell_type": "code",
      "source": [
        "x = 5\n",
        "y = 10\n",
        "temp = x\n",
        "x = y\n",
        "y = temp\n",
        "print(x, temp)"
      ],
      "metadata": {
        "colab": {
          "base_uri": "https://localhost:8080/"
        },
        "id": "gJaNd5YjjjNj",
        "outputId": "f3b2954d-d081-4841-91cd-f3230e467b39"
      },
      "execution_count": null,
      "outputs": [
        {
          "output_type": "stream",
          "name": "stdout",
          "text": [
            "10 5\n"
          ]
        }
      ]
    },
    {
      "cell_type": "code",
      "source": [
        "x = 5\n",
        "y = 10\n",
        "x, y = y, x\n",
        "print(y, x)"
      ],
      "metadata": {
        "colab": {
          "base_uri": "https://localhost:8080/"
        },
        "id": "h6VJ-h3e1WQD",
        "outputId": "feff729f-2013-4488-aade-5ac4b4184c77"
      },
      "execution_count": null,
      "outputs": [
        {
          "output_type": "stream",
          "name": "stdout",
          "text": [
            "5 10\n"
          ]
        }
      ]
    },
    {
      "cell_type": "markdown",
      "source": [
        "# Задача 20\n",
        "С помощью анонимной функции извлеките из списка числа, делимые на 15"
      ],
      "metadata": {
        "id": "acHUfOWg1qzQ"
      }
    },
    {
      "cell_type": "code",
      "source": [
        "\n",
        "lst = [2, 3, 2, 4, 33, 233, 4, 15, 33, 255]\n",
        "for i in lst:\n",
        "  if i % 15 == 0:\n",
        "    print(i)\n"
      ],
      "metadata": {
        "colab": {
          "base_uri": "https://localhost:8080/"
        },
        "id": "_ddBLdSh1v-m",
        "outputId": "8d54d688-d4e1-4495-cdde-53379ccbc1ae"
      },
      "execution_count": null,
      "outputs": [
        {
          "output_type": "stream",
          "name": "stdout",
          "text": [
            "15\n",
            "255\n"
          ]
        }
      ]
    },
    {
      "cell_type": "code",
      "source": [
        "nums = [45, 55, 60, 37, 100, 105, 220]\n",
        "result = list(filter(lambda x: not x % 15, nums))\n",
        "print(result)"
      ],
      "metadata": {
        "colab": {
          "base_uri": "https://localhost:8080/"
        },
        "id": "zKKYUDRR3_N5",
        "outputId": "669dc551-b386-477a-ad2f-f4b2583af4da"
      },
      "execution_count": null,
      "outputs": [
        {
          "output_type": "stream",
          "name": "stdout",
          "text": [
            "[45, 60, 105]\n"
          ]
        }
      ]
    },
    {
      "cell_type": "markdown",
      "source": [
        "# Задача 21 **Дореш**\n",
        "Нужно проверить, все ли числа в последовательности уникальны"
      ],
      "metadata": {
        "id": "stxJDuUL4Qtq"
      }
    },
    {
      "cell_type": "code",
      "source": [
        "nums = [45, 55, 55, 55, 60, 37, 100, 105, 220]\n",
        "if set(nums):\n",
        "  print('elem unic')\n",
        "else:\n",
        "  print('elem not unic')"
      ],
      "metadata": {
        "colab": {
          "base_uri": "https://localhost:8080/"
        },
        "id": "ouUINlyl4W1R",
        "outputId": "8e8cefaf-8062-4cbb-cd29-5c7511a3d68f"
      },
      "execution_count": null,
      "outputs": [
        {
          "output_type": "stream",
          "name": "stdout",
          "text": [
            "elem unic\n"
          ]
        }
      ]
    },
    {
      "cell_type": "code",
      "source": [
        "def all_unique(numbers):\n",
        "    return len(numbers) == len(set(numbers))\n",
        "    def all_unique(45, 55, 55, 55, 60, 37, 100, 105, 220)"
      ],
      "metadata": {
        "colab": {
          "base_uri": "https://localhost:8080/",
          "height": 106
        },
        "id": "-EJTeahX6IrI",
        "outputId": "709b07d6-fc68-4765-a347-66bdb521866b"
      },
      "execution_count": null,
      "outputs": [
        {
          "output_type": "error",
          "ename": "SyntaxError",
          "evalue": "invalid syntax (ipython-input-1115246416.py, line 3)",
          "traceback": [
            "\u001b[0;36m  File \u001b[0;32m\"/tmp/ipython-input-1115246416.py\"\u001b[0;36m, line \u001b[0;32m3\u001b[0m\n\u001b[0;31m    def all_unique(45, 55, 55, 55, 60, 37, 100, 105, 220)\u001b[0m\n\u001b[0m                   ^\u001b[0m\n\u001b[0;31mSyntaxError\u001b[0m\u001b[0;31m:\u001b[0m invalid syntax\n"
          ]
        }
      ]
    }
  ]
}