{
  "nbformat": 4,
  "nbformat_minor": 0,
  "metadata": {
    "colab": {
      "provenance": [],
      "toc_visible": true,
      "authorship_tag": "ABX9TyM2UjS4O+VC6na1qVGSSetK",
      "include_colab_link": true
    },
    "kernelspec": {
      "name": "python3",
      "display_name": "Python 3"
    },
    "language_info": {
      "name": "python"
    }
  },
  "cells": [
    {
      "cell_type": "markdown",
      "metadata": {
        "id": "view-in-github",
        "colab_type": "text"
      },
      "source": [
        "<a href=\"https://colab.research.google.com/github/Tkaheva/Python/blob/main/Practica_python.ipynb\" target=\"_parent\"><img src=\"https://colab.research.google.com/assets/colab-badge.svg\" alt=\"Open In Colab\"/></a>"
      ]
    },
    {
      "cell_type": "markdown",
      "source": [
        "# Задача 10\n",
        "*Вы принимаете от пользователя последовательность чисел, разделённых запятой. Составьте список и кортеж с этими числами.*"
      ],
      "metadata": {
        "id": "cYlQncJk-Dwy"
      }
    },
    {
      "cell_type": "code",
      "source": [
        "num = int(input())\n",
        "print('список введённых чисел', list(str(num)))\n",
        "print('кортеж введённых чисел',tuple(str(num)))"
      ],
      "metadata": {
        "colab": {
          "base_uri": "https://localhost:8080/"
        },
        "id": "5aXU3YAO-WB_",
        "outputId": "4a9432ba-25ed-493c-f9c4-c9790350ee7b"
      },
      "execution_count": null,
      "outputs": [
        {
          "output_type": "stream",
          "name": "stdout",
          "text": [
            "533566\n",
            "список введённых чисел ['5', '3', '3', '5', '6', '6']\n",
            "кортеж введённых чисел ('5', '3', '3', '5', '6', '6')\n"
          ]
        }
      ]
    },
    {
      "cell_type": "code",
      "source": [
        "values = input('Введите числа через запятую: ')\n",
        "ints_as_strings = values.split(',')\n",
        "ints = map(int, ints_as_strings)\n",
        "lst = list(ints)\n",
        "tup = tuple(lst)\n",
        "print('Список:', lst)\n",
        "print('Кортеж:', tup)"
      ],
      "metadata": {
        "colab": {
          "base_uri": "https://localhost:8080/"
        },
        "id": "BvF3XRFxCtIB",
        "outputId": "4ea6a174-069f-425d-d61b-14d8cedd253e"
      },
      "execution_count": null,
      "outputs": [
        {
          "output_type": "stream",
          "name": "stdout",
          "text": [
            "Введите числа через запятую: 2,3,2,2,33,233,4\n",
            "Список: [2, 3, 2, 2, 33, 233, 4]\n",
            "Кортеж: (2, 3, 2, 2, 33, 233, 4)\n"
          ]
        }
      ]
    },
    {
      "cell_type": "markdown",
      "source": [
        "# Задача 11\n",
        "*Выведите первый и последний элемент списка*"
      ],
      "metadata": {
        "id": "n-SqUgn6GetZ"
      }
    },
    {
      "cell_type": "code",
      "source": [
        "lst = [2, 3, 2, 2, 33, 233, 4]\n",
        "print('first elem list:', lst[0], '\\n', 'last elem list:', lst[-1])\n"
      ],
      "metadata": {
        "colab": {
          "base_uri": "https://localhost:8080/"
        },
        "id": "zNloHT2rGov1",
        "outputId": "5c1fb5d4-3abd-4113-d5b2-3e5cc1b25418"
      },
      "execution_count": null,
      "outputs": [
        {
          "output_type": "stream",
          "name": "stdout",
          "text": [
            "first elem list: 2 \n",
            " last elem list: 4\n"
          ]
        }
      ]
    },
    {
      "cell_type": "code",
      "source": [
        "lst = [1, 2, 3, 4, 5]\n",
        "print(f'Первый: {lst[0]}; последний: {lst[-1]}')"
      ],
      "metadata": {
        "colab": {
          "base_uri": "https://localhost:8080/"
        },
        "id": "qG-fVnK_Hlcy",
        "outputId": "089f751a-095b-4b00-88b3-bc0f84560d0d"
      },
      "execution_count": null,
      "outputs": [
        {
          "output_type": "stream",
          "name": "stdout",
          "text": [
            "Первый: 1; последний: 5\n"
          ]
        }
      ]
    },
    {
      "cell_type": "markdown",
      "source": [
        "# Задача 12\n",
        "*Напишите программу, которая принимает имя файла и выводит его расширение. Если расширение у файла определить невозможно, выбросите исключение*"
      ],
      "metadata": {
        "id": "KeMBrlIfH3zA"
      }
    },
    {
      "cell_type": "code",
      "source": [
        "\n",
        "name_file = input()\n",
        "if name_file.split('.')[-1] == 'py':\n",
        "  expansion = name_file.split('.')[-1]\n",
        "  print(f'file: {name_file} with expansion: {expansion}')\n",
        "elif name_file.split('.')[-1] == 'txt':\n",
        "   expansion = name_file.split('.')[-1]\n",
        "   print(f'file: {name_file} with expansion: {expansion}')\n",
        "else:\n",
        "  print('error in name file or expansion')"
      ],
      "metadata": {
        "colab": {
          "base_uri": "https://localhost:8080/"
        },
        "id": "ZmO5RaLaIBqs",
        "outputId": "00879935-d74b-47b3-f296-f4ebe3c42266"
      },
      "execution_count": null,
      "outputs": [
        {
          "output_type": "stream",
          "name": "stdout",
          "text": [
            "fdge\n",
            "error in name file or expansion\n"
          ]
        }
      ]
    },
    {
      "cell_type": "markdown",
      "source": [
        "# Задача 13\n",
        "*При заданном целом числе n посчитайте n + nn + nnn*"
      ],
      "metadata": {
        "id": "gAkKPMFqMri-"
      }
    },
    {
      "cell_type": "code",
      "source": [
        "num = int(input())\n",
        "print(num + num**2 + num**3)"
      ],
      "metadata": {
        "colab": {
          "base_uri": "https://localhost:8080/"
        },
        "id": "XIu6PKsLM1i-",
        "outputId": "6426b17d-5628-44ad-fc4f-3d2bfac5662e"
      },
      "execution_count": null,
      "outputs": [
        {
          "output_type": "stream",
          "name": "stdout",
          "text": [
            "77\n",
            "462539\n"
          ]
        }
      ]
    },
    {
      "cell_type": "markdown",
      "source": [
        "# Задача 14\n",
        "*Напишите программу, которая выводит чётные числа из заданного списка и останавливается, если встречает число 237*"
      ],
      "metadata": {
        "id": "B4F-FYlcNtP6"
      }
    },
    {
      "cell_type": "code",
      "source": [
        "lst = [2, 3, 2, 4, 33, 233, 4, 237, 33, 55]\n",
        "for i in lst:\n",
        "  if i % 2 == 0 and i != 237:\n",
        "    print(i)\n"
      ],
      "metadata": {
        "colab": {
          "base_uri": "https://localhost:8080/"
        },
        "id": "Sna2ueN_N1f8",
        "outputId": "70ee3752-764b-4ba8-f7bb-00f5b55a3cb1"
      },
      "execution_count": null,
      "outputs": [
        {
          "output_type": "stream",
          "name": "stdout",
          "text": [
            "2\n",
            "2\n",
            "4\n",
            "4\n"
          ]
        }
      ]
    },
    {
      "cell_type": "code",
      "source": [
        "lst = [2, 3, 2, 4, 33, 233, 4, 237, 33, 55]\n",
        "\n",
        "for i in lst:\n",
        "    if i == 237:\n",
        "        break\n",
        "    if i % 2 == 0:\n",
        "        print(i)"
      ],
      "metadata": {
        "colab": {
          "base_uri": "https://localhost:8080/"
        },
        "id": "W2cOo-3ZTrn2",
        "outputId": "cc75c222-6da3-4ed9-ded3-05c5053a1b69"
      },
      "execution_count": null,
      "outputs": [
        {
          "output_type": "stream",
          "name": "stdout",
          "text": [
            "2\n",
            "2\n",
            "4\n",
            "4\n"
          ]
        }
      ]
    },
    {
      "cell_type": "markdown",
      "source": [
        "# Задача 15\n",
        "Напишите программу, которая принимает два списка и выводит все элементы первого, которых нет во втором"
      ],
      "metadata": {
        "id": "pQ2sPe92T7Ld"
      }
    },
    {
      "cell_type": "code",
      "source": [
        "one_lst =  [2, 3, 2, 4, 33, 233, 4, 237, 33, 55]\n",
        "two_lst = [2, 53, 42, 43,  253, 4, 237,  55]\n",
        "print(set(one_lst) - set(two_lst))"
      ],
      "metadata": {
        "colab": {
          "base_uri": "https://localhost:8080/"
        },
        "id": "sm4H_c37UFNu",
        "outputId": "f0db270a-6db3-4729-9e68-cff507afd730"
      },
      "execution_count": null,
      "outputs": [
        {
          "output_type": "stream",
          "name": "stdout",
          "text": [
            "{33, 3, 233}\n"
          ]
        }
      ]
    },
    {
      "cell_type": "markdown",
      "source": [
        "# Задача 16\n",
        "Выведите список файлов в указанной директории"
      ],
      "metadata": {
        "id": "nku9BKNzYaH4"
      }
    },
    {
      "cell_type": "code",
      "source": [
        "import requests\n",
        "\n",
        "# Запрос к API GitHub\n",
        "url = \"https://api.github.com/repos/Tkaheva/Practica-To-do-list/contents\"\n",
        "response = requests.get(url)\n",
        "data = response.json()\n",
        "\n",
        "# Выводим только файлы (не директории)\n",
        "for item in data:\n",
        "    if item[\"type\"] == \"file\":\n",
        "        print(item[\"name\"])"
      ],
      "metadata": {
        "colab": {
          "base_uri": "https://localhost:8080/"
        },
        "id": "ZwYCqqchYjAn",
        "outputId": "47c13a6b-499f-4aca-8289-804ad5599a59"
      },
      "execution_count": null,
      "outputs": [
        {
          "output_type": "stream",
          "name": "stdout",
          "text": [
            "README.md\n",
            "style tdl.css\n",
            "Документ Microsoft Word.docx\n",
            "прак.html\n"
          ]
        }
      ]
    },
    {
      "cell_type": "code",
      "source": [
        "!git clone https://github.com/Tkaheva/Practica-To-do-list.git\n",
        "!ls -R Practica-To-do-list"
      ],
      "metadata": {
        "colab": {
          "base_uri": "https://localhost:8080/"
        },
        "id": "-HCgcCP5aRuC",
        "outputId": "2158314e-9bd8-459d-bc1b-e29477b9641a"
      },
      "execution_count": null,
      "outputs": [
        {
          "output_type": "stream",
          "name": "stdout",
          "text": [
            "Cloning into 'Practica-To-do-list'...\n",
            "remote: Enumerating objects: 18, done.\u001b[K\n",
            "remote: Counting objects: 100% (18/18), done.\u001b[K\n",
            "remote: Compressing objects: 100% (16/16), done.\u001b[K\n",
            "remote: Total 18 (delta 4), reused 0 (delta 0), pack-reused 0 (from 0)\u001b[K\n",
            "Receiving objects: 100% (18/18), 24.20 KiB | 604.00 KiB/s, done.\n",
            "Resolving deltas: 100% (4/4), done.\n",
            "Practica-To-do-list:\n",
            " README.md  'style tdl.css'  'Документ Microsoft Word.docx'   прак.html\n"
          ]
        }
      ]
    },
    {
      "cell_type": "markdown",
      "source": [
        "# Задача 17\n",
        "Сложите цифры целого числа"
      ],
      "metadata": {
        "id": "vNVOCMKsdbKB"
      }
    },
    {
      "cell_type": "code",
      "source": [
        "num = input()\n",
        "number = sum(int(digit) for digit in num)\n",
        "print(number)"
      ],
      "metadata": {
        "colab": {
          "base_uri": "https://localhost:8080/"
        },
        "id": "qjWBtDuqdk7Z",
        "outputId": "9c3680e9-ecee-408b-d0d9-17e23f0f9182"
      },
      "execution_count": null,
      "outputs": [
        {
          "output_type": "stream",
          "name": "stdout",
          "text": [
            "444\n",
            "12\n"
          ]
        }
      ]
    },
    {
      "cell_type": "markdown",
      "source": [
        "# Задача 18\n",
        "Посчитайте, сколько раз символ встречается в строке"
      ],
      "metadata": {
        "id": "WovRUCo7hLt3"
      }
    },
    {
      "cell_type": "code",
      "source": [
        "count = 0\n",
        "strw = 'd,jj,jh,hk'\n",
        "for i in strw:\n",
        "  if i == ',':\n",
        "    count+=1\n",
        "    print(count)"
      ],
      "metadata": {
        "colab": {
          "base_uri": "https://localhost:8080/"
        },
        "id": "i2wbhlb8hRxK",
        "outputId": "71de193d-dbb9-468b-efff-3e35122fe822"
      },
      "execution_count": null,
      "outputs": [
        {
          "output_type": "stream",
          "name": "stdout",
          "text": [
            "1\n",
            "2\n",
            "3\n"
          ]
        }
      ]
    },
    {
      "cell_type": "code",
      "source": [
        "s = 'd,jj,jh,hk'\n",
        "count = s.count(',')  # Самый питонический способ\n",
        "print(f\"Количество запятых: {count}\")"
      ],
      "metadata": {
        "colab": {
          "base_uri": "https://localhost:8080/"
        },
        "id": "UobhEhjKizJ9",
        "outputId": "430e4a4e-3c98-4990-953f-cf39683a82f8"
      },
      "execution_count": null,
      "outputs": [
        {
          "output_type": "stream",
          "name": "stdout",
          "text": [
            "Количество запятых: 3\n"
          ]
        }
      ]
    },
    {
      "cell_type": "markdown",
      "source": [
        "# Задача 19\n",
        "Поменяйте значения переменных местами"
      ],
      "metadata": {
        "id": "w4jqiH_Ejhm8"
      }
    },
    {
      "cell_type": "code",
      "source": [
        "x = 5\n",
        "y = 10\n",
        "temp = x\n",
        "x = y\n",
        "y = temp\n",
        "print(x, temp)"
      ],
      "metadata": {
        "colab": {
          "base_uri": "https://localhost:8080/"
        },
        "id": "gJaNd5YjjjNj",
        "outputId": "f3b2954d-d081-4841-91cd-f3230e467b39"
      },
      "execution_count": null,
      "outputs": [
        {
          "output_type": "stream",
          "name": "stdout",
          "text": [
            "10 5\n"
          ]
        }
      ]
    },
    {
      "cell_type": "code",
      "source": [
        "x = 5\n",
        "y = 10\n",
        "x, y = y, x\n",
        "print(y, x)"
      ],
      "metadata": {
        "colab": {
          "base_uri": "https://localhost:8080/"
        },
        "id": "h6VJ-h3e1WQD",
        "outputId": "feff729f-2013-4488-aade-5ac4b4184c77"
      },
      "execution_count": null,
      "outputs": [
        {
          "output_type": "stream",
          "name": "stdout",
          "text": [
            "5 10\n"
          ]
        }
      ]
    },
    {
      "cell_type": "markdown",
      "source": [
        "# Задача 20\n",
        "С помощью анонимной функции извлеките из списка числа, делимые на 15"
      ],
      "metadata": {
        "id": "acHUfOWg1qzQ"
      }
    },
    {
      "cell_type": "code",
      "source": [
        "\n",
        "lst = [2, 3, 2, 4, 33, 233, 4, 15, 33, 255]\n",
        "for i in lst:\n",
        "  if i % 15 == 0:\n",
        "    print(i)\n"
      ],
      "metadata": {
        "colab": {
          "base_uri": "https://localhost:8080/"
        },
        "id": "_ddBLdSh1v-m",
        "outputId": "8d54d688-d4e1-4495-cdde-53379ccbc1ae"
      },
      "execution_count": null,
      "outputs": [
        {
          "output_type": "stream",
          "name": "stdout",
          "text": [
            "15\n",
            "255\n"
          ]
        }
      ]
    },
    {
      "cell_type": "code",
      "source": [
        "nums = [45, 55, 60, 37, 100, 105, 220]\n",
        "result = list(filter(lambda x: not x % 15, nums))\n",
        "print(result)"
      ],
      "metadata": {
        "colab": {
          "base_uri": "https://localhost:8080/"
        },
        "id": "zKKYUDRR3_N5",
        "outputId": "669dc551-b386-477a-ad2f-f4b2583af4da"
      },
      "execution_count": null,
      "outputs": [
        {
          "output_type": "stream",
          "name": "stdout",
          "text": [
            "[45, 60, 105]\n"
          ]
        }
      ]
    },
    {
      "cell_type": "markdown",
      "source": [
        "# Задача 21 **Дореш**\n",
        "Нужно проверить, все ли числа в последовательности уникальны"
      ],
      "metadata": {
        "id": "stxJDuUL4Qtq"
      }
    },
    {
      "cell_type": "code",
      "source": [
        "nums = [45, 55, 55, 55, 60, 37, 100, 105, 220]\n",
        "if set(nums):\n",
        "  print('elem unic')\n",
        "else:\n",
        "  print('elem not unic')"
      ],
      "metadata": {
        "colab": {
          "base_uri": "https://localhost:8080/"
        },
        "id": "ouUINlyl4W1R",
        "outputId": "8e8cefaf-8062-4cbb-cd29-5c7511a3d68f"
      },
      "execution_count": null,
      "outputs": [
        {
          "output_type": "stream",
          "name": "stdout",
          "text": [
            "elem unic\n"
          ]
        }
      ]
    },
    {
      "cell_type": "code",
      "source": [
        "def all_unique(numbers):\n",
        "    return len(numbers) == len(set(numbers))\n",
        "    def all_unique(45, 55, 55, 55, 60, 37, 100, 105, 220)"
      ],
      "metadata": {
        "colab": {
          "base_uri": "https://localhost:8080/",
          "height": 106
        },
        "id": "-EJTeahX6IrI",
        "outputId": "709b07d6-fc68-4765-a347-66bdb521866b"
      },
      "execution_count": null,
      "outputs": [
        {
          "output_type": "error",
          "ename": "SyntaxError",
          "evalue": "invalid syntax (ipython-input-1115246416.py, line 3)",
          "traceback": [
            "\u001b[0;36m  File \u001b[0;32m\"/tmp/ipython-input-1115246416.py\"\u001b[0;36m, line \u001b[0;32m3\u001b[0m\n\u001b[0;31m    def all_unique(45, 55, 55, 55, 60, 37, 100, 105, 220)\u001b[0m\n\u001b[0m                   ^\u001b[0m\n\u001b[0;31mSyntaxError\u001b[0m\u001b[0;31m:\u001b[0m invalid syntax\n"
          ]
        }
      ]
    },
    {
      "cell_type": "markdown",
      "source": [
        "# Задача 22\n",
        "Напишите программу, которая принимает текст и выводит два слова: наиболее часто встречающееся и самое длинное."
      ],
      "metadata": {
        "id": "-ud5re2WBstq"
      }
    },
    {
      "cell_type": "code",
      "source": [
        "from collections import Counter\n",
        "\n",
        "def analyze_text(text):\n",
        "    # Разбиваем текст на слова (игнорируя регистр и знаки препинания)\n",
        "    words = [word.strip(\".,!?;:\\\"'\").lower() for word in text.split()]\n",
        "\n",
        "    if not words:\n",
        "        return None, None\n",
        "\n",
        "    # Находим самое частое слово\n",
        "    word_counts = Counter(words)\n",
        "    most_common = word_counts.most_common(1)[0][0]\n",
        "\n",
        "    # Находим самое длинное слово\n",
        "    longest = max(words, key=len)\n",
        "\n",
        "    return most_common, longest\n",
        "\n",
        "# Пример использования\n",
        "text = input(\"Введите текст: \")\n",
        "most_common_word, longest_word = analyze_text(text)\n",
        "\n",
        "print(f\"Самое частое слово: {most_common_word}\")\n",
        "print(f\"Самое длинное слово: {longest_word}\")"
      ],
      "metadata": {
        "colab": {
          "base_uri": "https://localhost:8080/"
        },
        "id": "udNEyOMoBvMi",
        "outputId": "11c45af3-cb77-4117-8b92-f80aec50430c"
      },
      "execution_count": null,
      "outputs": [
        {
          "output_type": "stream",
          "name": "stdout",
          "text": [
            "Введите текст: ghbdtn ghgh ghbdtn fvbrkjvnnfv ghbdtn \n",
            "Самое частое слово: ghbdtn\n",
            "Самое длинное слово: fvbrkjvnnfv\n"
          ]
        }
      ]
    },
    {
      "cell_type": "code",
      "source": [
        "import collections\n",
        "\n",
        "text = input()\n",
        "words = text.split()\n",
        "counter = collections.Counter(words)\n",
        "most_common, occurrences = counter.most_common()[0]\n",
        "\n",
        "longest = max(words, key=len)\n",
        "\n",
        "print(most_common, longest)"
      ],
      "metadata": {
        "colab": {
          "base_uri": "https://localhost:8080/"
        },
        "id": "qxd5FMHtEhIN",
        "outputId": "c77f9b43-28e4-4e10-9119-116b81facd6c"
      },
      "execution_count": null,
      "outputs": [
        {
          "output_type": "stream",
          "name": "stdout",
          "text": [
            "ghbdtn hghjbkhhgkjbkj ghbdtn \n",
            "ghbdtn hghjbkhhgkjbkj\n"
          ]
        }
      ]
    },
    {
      "cell_type": "markdown",
      "source": [
        "# Уровень 1.1 (Начало)"
      ],
      "metadata": {
        "id": "F2qNEHATJwPQ"
      }
    },
    {
      "cell_type": "markdown",
      "source": [
        "**Дано число. Проверьте, отрицательное оно или нет. Выведите об этом информацию в консоль**"
      ],
      "metadata": {
        "id": "80OZvHXMKG82"
      }
    },
    {
      "cell_type": "code",
      "source": [
        "nume = int(input())\n",
        "if nume >= 0:\n",
        "  print(\"number is positiv\")\n",
        "else:\n",
        "  print(\"the number is negative\")"
      ],
      "metadata": {
        "colab": {
          "base_uri": "https://localhost:8080/"
        },
        "id": "7VZEyHTIJ8Eq",
        "outputId": "08a3b543-6aa3-496f-e0da-f4d952ca4265"
      },
      "execution_count": null,
      "outputs": [
        {
          "output_type": "stream",
          "name": "stdout",
          "text": [
            "9\n",
            "number is positiv\n"
          ]
        }
      ]
    },
    {
      "cell_type": "markdown",
      "source": [
        "**Дана строка. Выведите в консоль длину этой строки**"
      ],
      "metadata": {
        "id": "ZhYfF1dfLCPq"
      }
    },
    {
      "cell_type": "code",
      "source": [
        "strl = input()\n",
        "print('String has is lenght:', len(strl))"
      ],
      "metadata": {
        "colab": {
          "base_uri": "https://localhost:8080/"
        },
        "id": "1tfQ0CR2LLN1",
        "outputId": "885b9837-fe69-41a0-8efb-4c44c5637687"
      },
      "execution_count": null,
      "outputs": [
        {
          "output_type": "stream",
          "name": "stdout",
          "text": [
            "ggg\n",
            "String has lenght: 3\n"
          ]
        }
      ]
    },
    {
      "cell_type": "markdown",
      "source": [
        "**Дана строка. Выведите в консоль последний символ строки**"
      ],
      "metadata": {
        "id": "j4win7YlL6sI"
      }
    },
    {
      "cell_type": "code",
      "source": [
        "stry = input()\n",
        "print('Last elem string:', stry[-1] )"
      ],
      "metadata": {
        "colab": {
          "base_uri": "https://localhost:8080/"
        },
        "id": "durl62KvL_He",
        "outputId": "8d910701-3b22-47aa-bf2f-cc9f64018f80"
      },
      "execution_count": null,
      "outputs": [
        {
          "output_type": "stream",
          "name": "stdout",
          "text": [
            "rg\n",
            "Last elem string: g\n"
          ]
        }
      ]
    },
    {
      "cell_type": "markdown",
      "source": [
        "**Дано число. Проверьте, четное оно или нет**"
      ],
      "metadata": {
        "id": "ctFjPQsAMXqg"
      }
    },
    {
      "cell_type": "code",
      "source": [
        "numer =  int(input())\n",
        "if numer % 2 == 0:\n",
        "  print(\"number is even\")\n",
        "else:\n",
        "  print('number is odd')"
      ],
      "metadata": {
        "colab": {
          "base_uri": "https://localhost:8080/"
        },
        "id": "m2Ox41jAMcdM",
        "outputId": "b648d494-4c75-403e-9bc5-27a593004ed3"
      },
      "execution_count": null,
      "outputs": [
        {
          "output_type": "stream",
          "name": "stdout",
          "text": [
            "7\n",
            "number is odd\n"
          ]
        }
      ]
    },
    {
      "cell_type": "markdown",
      "source": [
        "**Даны два слова. Проверьте, что первые буквы этих слов совпадают**"
      ],
      "metadata": {
        "id": "vPpbM23GNbaG"
      }
    },
    {
      "cell_type": "markdown",
      "source": [
        "Регистро зависимый"
      ],
      "metadata": {
        "id": "sLSfHP7QOgxA"
      }
    },
    {
      "cell_type": "code",
      "source": [
        "word_1 = input()\n",
        "word_2 = input()\n",
        "if word_1[0] == word_2[0]:\n",
        "  print(\"the first letters match \")\n",
        "else:\n",
        "  print('none')"
      ],
      "metadata": {
        "colab": {
          "base_uri": "https://localhost:8080/"
        },
        "id": "Y6WmHAFuNdAy",
        "outputId": "9182a806-e366-4529-d313-045547d311d4"
      },
      "execution_count": null,
      "outputs": [
        {
          "output_type": "stream",
          "name": "stdout",
          "text": [
            "fdfv\n",
            "Fdf\n",
            "the first letters match \n"
          ]
        }
      ]
    },
    {
      "cell_type": "markdown",
      "source": [
        "Регистро не зависимый"
      ],
      "metadata": {
        "id": "1t4uIBgxOtZZ"
      }
    },
    {
      "cell_type": "code",
      "source": [
        "word_1 = input()\n",
        "word_2 = input()\n",
        "if word_1[0].lower() == word_2[0].lower():\n",
        "  print(\"the first letters match \")\n",
        "else:\n",
        "  print('none')"
      ],
      "metadata": {
        "id": "X6-GZewkOrzv"
      },
      "execution_count": null,
      "outputs": []
    },
    {
      "cell_type": "markdown",
      "source": [
        "**Дано слово. Получите его последнюю букву. Если слово заканчивается на мягкий знак, то получите предпоследнюю букву**"
      ],
      "metadata": {
        "id": "x4sQ6GaYO3pN"
      }
    },
    {
      "cell_type": "code",
      "source": [
        "stri = input()\n",
        "if stri[-1] == 'ь':\n",
        "  print(f'the penultimate letter: {stri[-2]}')\n",
        "else:\n",
        "  print(f'Last letter: {stri[-1]}')"
      ],
      "metadata": {
        "colab": {
          "base_uri": "https://localhost:8080/"
        },
        "id": "VH5Yn59sO7_g",
        "outputId": "340410e9-1a0d-4188-e725-a24da7192cfb"
      },
      "execution_count": null,
      "outputs": [
        {
          "output_type": "stream",
          "name": "stdout",
          "text": [
            "рпль\n",
            "the penultimate letter: в\n"
          ]
        }
      ]
    },
    {
      "cell_type": "markdown",
      "source": [
        "# Уровень 1.2"
      ],
      "metadata": {
        "id": "3dZWvIFAP__7"
      }
    },
    {
      "cell_type": "markdown",
      "source": [
        "**Дано число. Выведите в консоль первую цифру этого числа**"
      ],
      "metadata": {
        "id": "xfvAddJ6QFOG"
      }
    },
    {
      "cell_type": "code",
      "source": [
        "numer = int(input())\n",
        "digi = __builtins__.str(numer) # Обращение к оригинальной функции str()\n",
        "print(f'the first digit of this number: {digi[0]} ')"
      ],
      "metadata": {
        "colab": {
          "base_uri": "https://localhost:8080/"
        },
        "id": "4qa1P1tcTRsQ",
        "outputId": "e9eba9c8-ae0e-43b9-dcaa-7ef71202425d"
      },
      "execution_count": null,
      "outputs": [
        {
          "output_type": "stream",
          "name": "stdout",
          "text": [
            "9\n",
            "the first digit of this number: 9 \n"
          ]
        }
      ]
    },
    {
      "cell_type": "markdown",
      "source": [
        "**Дано число. Выведите в консоль последнюю цифру этого числа**"
      ],
      "metadata": {
        "id": "P4TNLRNgVxD2"
      }
    },
    {
      "cell_type": "code",
      "source": [
        "n = int(input())\n",
        "dig = str(n)\n",
        "print(f'the last digit of this number: {dig[-1]} ')"
      ],
      "metadata": {
        "colab": {
          "base_uri": "https://localhost:8080/"
        },
        "id": "iiZ-Lwq5V1cQ",
        "outputId": "a7a65049-1bdd-4bcc-be24-6686869d93e0"
      },
      "execution_count": null,
      "outputs": [
        {
          "output_type": "stream",
          "name": "stdout",
          "text": [
            "88864\n",
            "the last digit of this number: 4 \n"
          ]
        }
      ]
    },
    {
      "cell_type": "markdown",
      "source": [
        "**Дано число. Выведите в консоль сумму первой и последней цифры этого числа**"
      ],
      "metadata": {
        "id": "BqkUHjGHYpS4"
      }
    },
    {
      "cell_type": "code",
      "source": [
        "num_1 = int(input())\n",
        "dig_1 = str(num_1)\n",
        "di_1 = dig_1 [0]\n",
        "di_2 = dig_1 [-1]\n",
        "sum_dig = int(di_1) + int(di_2)\n",
        "print(sum_dig)"
      ],
      "metadata": {
        "colab": {
          "base_uri": "https://localhost:8080/"
        },
        "id": "MBfLX1siYs_K",
        "outputId": "fa0284bc-221e-4d99-a166-e78de6048581"
      },
      "execution_count": null,
      "outputs": [
        {
          "output_type": "stream",
          "name": "stdout",
          "text": [
            "211196519563\n",
            "5\n"
          ]
        }
      ]
    },
    {
      "cell_type": "markdown",
      "source": [
        "**Дано число. Выведите количество цифр в этом числе**"
      ],
      "metadata": {
        "id": "keEXG_epbIcU"
      }
    },
    {
      "cell_type": "code",
      "source": [
        "num_2 = int(input())\n",
        "print(len(str(num_2)))"
      ],
      "metadata": {
        "colab": {
          "base_uri": "https://localhost:8080/"
        },
        "id": "cp0mjf8IbKsJ",
        "outputId": "c8d40f09-34bb-4d53-e8e1-a527d6329791"
      },
      "execution_count": null,
      "outputs": [
        {
          "output_type": "stream",
          "name": "stdout",
          "text": [
            "545\n",
            "3\n"
          ]
        }
      ]
    },
    {
      "cell_type": "markdown",
      "source": [
        "**Даны два числа. Проверьте, что первые цифры этих чисел совпадают**"
      ],
      "metadata": {
        "id": "96pvB7iBbmd-"
      }
    },
    {
      "cell_type": "code",
      "source": [
        "num_3 = int(input())\n",
        "num_4 = int(input())\n",
        "if str(num_3)[0] == str(num_4)[0]:\n",
        "  print('первые цифры чисел совпадают')\n",
        "else:\n",
        "  print('none')\n"
      ],
      "metadata": {
        "colab": {
          "base_uri": "https://localhost:8080/"
        },
        "id": "CgQ_L1t9bvvZ",
        "outputId": "245b6f97-fc76-4a14-80dd-3d9f25f869cf"
      },
      "execution_count": null,
      "outputs": [
        {
          "output_type": "stream",
          "name": "stdout",
          "text": [
            "969889\n",
            "77878\n",
            "none\n"
          ]
        }
      ]
    },
    {
      "cell_type": "markdown",
      "source": [
        "**Дан список:\n",
        "[1, 2, 3, 4, 5, 6]\n",
        "Получите из него следующий срез:\n",
        "\n",
        "[1, 2, 3]**"
      ],
      "metadata": {
        "id": "MNUfEt51cqeY"
      }
    },
    {
      "cell_type": "code",
      "source": [
        "list_1 = [1, 2, 3, 4, 5, 6]\n",
        "print(list_1[0:3])"
      ],
      "metadata": {
        "colab": {
          "base_uri": "https://localhost:8080/"
        },
        "id": "DzXmhpr-csmy",
        "outputId": "9e3bf957-adf1-4bc2-8778-a78e298960e8"
      },
      "execution_count": null,
      "outputs": [
        {
          "output_type": "stream",
          "name": "stdout",
          "text": [
            "[1, 2, 3]\n"
          ]
        }
      ]
    },
    {
      "cell_type": "markdown",
      "source": [
        "# Уровень 1.3"
      ],
      "metadata": {
        "id": "Ir_hQTGgdI0G"
      }
    },
    {
      "cell_type": "markdown",
      "source": [
        "**Дана строка. Если в этой строке более одного символа, выведите в консоль предпоследний символ этой строки**"
      ],
      "metadata": {
        "id": "iBKqnwXGdLw6"
      }
    },
    {
      "cell_type": "code",
      "source": [
        "str_1 = input()\n",
        "if len(str_1) > 1:\n",
        "  print(str_1[-2])\n",
        "else:\n",
        "  print(\"string has one symbol\")"
      ],
      "metadata": {
        "colab": {
          "base_uri": "https://localhost:8080/"
        },
        "id": "0O-ZcErgdP4n",
        "outputId": "9f9b8a0c-34a7-43ad-892e-8278534bb4bb"
      },
      "execution_count": null,
      "outputs": [
        {
          "output_type": "stream",
          "name": "stdout",
          "text": [
            "t\n",
            "string has one symbol\n"
          ]
        }
      ]
    },
    {
      "cell_type": "markdown",
      "source": [
        "**Даны два целых числа. Проверьте, что первое число без остатка делится на второе**"
      ],
      "metadata": {
        "id": "ylg4ibpte2on"
      }
    },
    {
      "cell_type": "code",
      "source": [
        "num_5 = int(input())\n",
        "num_6 = int(input())\n",
        "if num_5 % num_6 == 0:\n",
        "  print('первое число без остатка делится на второе')\n",
        "else:\n",
        "  num_7 = num_5 / num_6\n",
        "  print(f'Деление первого числа на второе равно: {num_7}')"
      ],
      "metadata": {
        "colab": {
          "base_uri": "https://localhost:8080/"
        },
        "id": "LlIitG2fe4LV",
        "outputId": "87157bdd-1e34-4731-c369-19f297a70c64"
      },
      "execution_count": null,
      "outputs": [
        {
          "output_type": "stream",
          "name": "stdout",
          "text": [
            "4\n",
            "78\n",
            "Деление первого числа на второе равно: 0.05128205128205128\n"
          ]
        }
      ]
    },
    {
      "cell_type": "markdown",
      "source": [
        "**Дана некоторая строка:\n",
        "\n",
        "'abcde'\n",
        "Получите список ее символов:\n",
        "\n",
        "['a', 'b', 'c', 'd', 'e']**"
      ],
      "metadata": {
        "id": "Bw05m-q3hC6k"
      }
    },
    {
      "cell_type": "code",
      "source": [
        "str_2 = 'abcde'\n",
        "print(list(str_2))"
      ],
      "metadata": {
        "colab": {
          "base_uri": "https://localhost:8080/"
        },
        "id": "wrY8cDzQhEnY",
        "outputId": "b966d690-97ad-4b1f-c885-95681031eff8"
      },
      "execution_count": null,
      "outputs": [
        {
          "output_type": "stream",
          "name": "stdout",
          "text": [
            "['a', 'b', 'c', 'd', 'e']\n"
          ]
        }
      ]
    },
    {
      "cell_type": "markdown",
      "source": [
        "**Дан список:\n",
        "\n",
        "[1, 2, 3, 4, 5, 6]\n",
        "Получите из него следующий срез:\n",
        "\n",
        "[3, 4, 5]**"
      ],
      "metadata": {
        "id": "5N3iFhtehVUe"
      }
    },
    {
      "cell_type": "code",
      "source": [
        "list_2 = [1, 2, 3, 4, 5, 6]\n",
        "print(list_2[2:5])"
      ],
      "metadata": {
        "colab": {
          "base_uri": "https://localhost:8080/"
        },
        "id": "EL_1wS4qhUe7",
        "outputId": "c65554d6-ac59-4b12-ad8b-d0f137d5315f"
      },
      "execution_count": null,
      "outputs": [
        {
          "output_type": "stream",
          "name": "stdout",
          "text": [
            "[3, 4, 5]\n"
          ]
        }
      ]
    },
    {
      "cell_type": "markdown",
      "source": [
        "**Дан словарь с датой:\n",
        "\n",
        "{\n",
        "\t'year' : '2025',\n",
        "\t'month': '12',\n",
        "\t'day'  : '31',\n",
        "}\n",
        "Из элементов этого словаря соберите дату в следующем формате:\n",
        "\n",
        "'2025-12-31'**"
      ],
      "metadata": {
        "id": "Gh1a354dhqi2"
      }
    },
    {
      "cell_type": "code",
      "source": [
        "dict_1 = { 'year' : '2025', 'month': '12', 'day' : '31', }\n",
        "form_date =f\"{dict_1['year']}-{dict_1['month']}-{dict_1['day']}\"\n",
        "print(form_date)"
      ],
      "metadata": {
        "colab": {
          "base_uri": "https://localhost:8080/"
        },
        "id": "UXplrig3hr9n",
        "outputId": "71dfe9da-d322-42b3-fa51-fc639c2c0609"
      },
      "execution_count": null,
      "outputs": [
        {
          "output_type": "stream",
          "name": "stdout",
          "text": [
            "2025-12-31\n"
          ]
        }
      ]
    },
    {
      "cell_type": "code",
      "source": [
        "date_dict = {'year': '2025', 'month': '12', 'day': '31'}\n",
        "formatted_date = \"{year}-{month}-{day}\".format(**date_dict)\n",
        "print(formatted_date)  # Выведет: 2025-12-31"
      ],
      "metadata": {
        "colab": {
          "base_uri": "https://localhost:8080/"
        },
        "id": "DO0V1C2QjgJL",
        "outputId": "8576508c-d3c5-4335-e2b9-c22c5f25a1c2"
      },
      "execution_count": null,
      "outputs": [
        {
          "output_type": "stream",
          "name": "stdout",
          "text": [
            "2025-12-31\n"
          ]
        }
      ]
    },
    {
      "cell_type": "markdown",
      "source": [
        "# Уровень 1.4"
      ],
      "metadata": {
        "id": "qRkmqrAFjrg5"
      }
    },
    {
      "cell_type": "markdown",
      "source": [
        "**Выведите в консоль все целые числа от 1 до 100**"
      ],
      "metadata": {
        "id": "bnUy2sKcj0sD"
      }
    },
    {
      "cell_type": "code",
      "source": [
        "for i in range(1,101):\n",
        "  print(i)"
      ],
      "metadata": {
        "colab": {
          "base_uri": "https://localhost:8080/"
        },
        "collapsed": true,
        "id": "tTKw1Vtoj4_b",
        "outputId": "5bd994d2-6f23-4f63-c64a-a2d37f42f75c"
      },
      "execution_count": null,
      "outputs": [
        {
          "output_type": "stream",
          "name": "stdout",
          "text": [
            "1\n",
            "2\n",
            "3\n",
            "4\n",
            "5\n",
            "6\n",
            "7\n",
            "8\n",
            "9\n",
            "10\n",
            "11\n",
            "12\n",
            "13\n",
            "14\n",
            "15\n",
            "16\n",
            "17\n",
            "18\n",
            "19\n",
            "20\n",
            "21\n",
            "22\n",
            "23\n",
            "24\n",
            "25\n",
            "26\n",
            "27\n",
            "28\n",
            "29\n",
            "30\n",
            "31\n",
            "32\n",
            "33\n",
            "34\n",
            "35\n",
            "36\n",
            "37\n",
            "38\n",
            "39\n",
            "40\n",
            "41\n",
            "42\n",
            "43\n",
            "44\n",
            "45\n",
            "46\n",
            "47\n",
            "48\n",
            "49\n",
            "50\n",
            "51\n",
            "52\n",
            "53\n",
            "54\n",
            "55\n",
            "56\n",
            "57\n",
            "58\n",
            "59\n",
            "60\n",
            "61\n",
            "62\n",
            "63\n",
            "64\n",
            "65\n",
            "66\n",
            "67\n",
            "68\n",
            "69\n",
            "70\n",
            "71\n",
            "72\n",
            "73\n",
            "74\n",
            "75\n",
            "76\n",
            "77\n",
            "78\n",
            "79\n",
            "80\n",
            "81\n",
            "82\n",
            "83\n",
            "84\n",
            "85\n",
            "86\n",
            "87\n",
            "88\n",
            "89\n",
            "90\n",
            "91\n",
            "92\n",
            "93\n",
            "94\n",
            "95\n",
            "96\n",
            "97\n",
            "98\n",
            "99\n",
            "100\n"
          ]
        }
      ]
    },
    {
      "cell_type": "markdown",
      "source": [
        "**Выведите в консоль все целые числа от -100 до 0**"
      ],
      "metadata": {
        "id": "5gzwn1IA3NJE"
      }
    },
    {
      "cell_type": "code",
      "source": [
        "for i in range(-100, 1):\n",
        "  print(i)"
      ],
      "metadata": {
        "colab": {
          "base_uri": "https://localhost:8080/"
        },
        "collapsed": true,
        "id": "JpPGdghS3S-P",
        "outputId": "4e53ef59-2362-44fd-8a35-f7274ba0986c"
      },
      "execution_count": null,
      "outputs": [
        {
          "output_type": "stream",
          "name": "stdout",
          "text": [
            "-100\n",
            "-99\n",
            "-98\n",
            "-97\n",
            "-96\n",
            "-95\n",
            "-94\n",
            "-93\n",
            "-92\n",
            "-91\n",
            "-90\n",
            "-89\n",
            "-88\n",
            "-87\n",
            "-86\n",
            "-85\n",
            "-84\n",
            "-83\n",
            "-82\n",
            "-81\n",
            "-80\n",
            "-79\n",
            "-78\n",
            "-77\n",
            "-76\n",
            "-75\n",
            "-74\n",
            "-73\n",
            "-72\n",
            "-71\n",
            "-70\n",
            "-69\n",
            "-68\n",
            "-67\n",
            "-66\n",
            "-65\n",
            "-64\n",
            "-63\n",
            "-62\n",
            "-61\n",
            "-60\n",
            "-59\n",
            "-58\n",
            "-57\n",
            "-56\n",
            "-55\n",
            "-54\n",
            "-53\n",
            "-52\n",
            "-51\n",
            "-50\n",
            "-49\n",
            "-48\n",
            "-47\n",
            "-46\n",
            "-45\n",
            "-44\n",
            "-43\n",
            "-42\n",
            "-41\n",
            "-40\n",
            "-39\n",
            "-38\n",
            "-37\n",
            "-36\n",
            "-35\n",
            "-34\n",
            "-33\n",
            "-32\n",
            "-31\n",
            "-30\n",
            "-29\n",
            "-28\n",
            "-27\n",
            "-26\n",
            "-25\n",
            "-24\n",
            "-23\n",
            "-22\n",
            "-21\n",
            "-20\n",
            "-19\n",
            "-18\n",
            "-17\n",
            "-16\n",
            "-15\n",
            "-14\n",
            "-13\n",
            "-12\n",
            "-11\n",
            "-10\n",
            "-9\n",
            "-8\n",
            "-7\n",
            "-6\n",
            "-5\n",
            "-4\n",
            "-3\n",
            "-2\n",
            "-1\n",
            "0\n"
          ]
        }
      ]
    },
    {
      "cell_type": "markdown",
      "source": [
        "**Выведите в консоль все целые числа от 100 до 1**"
      ],
      "metadata": {
        "id": "krXAGvF_3tr6"
      }
    },
    {
      "cell_type": "code",
      "source": [
        "for i in range(100,0,-1):\n",
        "  print(i)"
      ],
      "metadata": {
        "id": "qPYiH5_a4HTA",
        "colab": {
          "base_uri": "https://localhost:8080/"
        },
        "collapsed": true,
        "outputId": "83a1b795-a250-43c5-9aeb-6b567e75e4b0"
      },
      "execution_count": null,
      "outputs": [
        {
          "output_type": "stream",
          "name": "stdout",
          "text": [
            "100\n",
            "99\n",
            "98\n",
            "97\n",
            "96\n",
            "95\n",
            "94\n",
            "93\n",
            "92\n",
            "91\n",
            "90\n",
            "89\n",
            "88\n",
            "87\n",
            "86\n",
            "85\n",
            "84\n",
            "83\n",
            "82\n",
            "81\n",
            "80\n",
            "79\n",
            "78\n",
            "77\n",
            "76\n",
            "75\n",
            "74\n",
            "73\n",
            "72\n",
            "71\n",
            "70\n",
            "69\n",
            "68\n",
            "67\n",
            "66\n",
            "65\n",
            "64\n",
            "63\n",
            "62\n",
            "61\n",
            "60\n",
            "59\n",
            "58\n",
            "57\n",
            "56\n",
            "55\n",
            "54\n",
            "53\n",
            "52\n",
            "51\n",
            "50\n",
            "49\n",
            "48\n",
            "47\n",
            "46\n",
            "45\n",
            "44\n",
            "43\n",
            "42\n",
            "41\n",
            "40\n",
            "39\n",
            "38\n",
            "37\n",
            "36\n",
            "35\n",
            "34\n",
            "33\n",
            "32\n",
            "31\n",
            "30\n",
            "29\n",
            "28\n",
            "27\n",
            "26\n",
            "25\n",
            "24\n",
            "23\n",
            "22\n",
            "21\n",
            "20\n",
            "19\n",
            "18\n",
            "17\n",
            "16\n",
            "15\n",
            "14\n",
            "13\n",
            "12\n",
            "11\n",
            "10\n",
            "9\n",
            "8\n",
            "7\n",
            "6\n",
            "5\n",
            "4\n",
            "3\n",
            "2\n",
            "1\n"
          ]
        }
      ]
    },
    {
      "cell_type": "markdown",
      "source": [
        "**Выведите в консоль все четные числа из промежутка от 1 до 100**"
      ],
      "metadata": {
        "id": "gawEDjef5aUN"
      }
    },
    {
      "cell_type": "code",
      "source": [
        "for i in range(1, 101):\n",
        "    if i % 2 == 0:\n",
        "        print(i)"
      ],
      "metadata": {
        "colab": {
          "base_uri": "https://localhost:8080/"
        },
        "collapsed": true,
        "id": "4EueV-Yx6NrI",
        "outputId": "37e2b689-0149-4ba8-8580-3f617c3b7b33"
      },
      "execution_count": null,
      "outputs": [
        {
          "output_type": "stream",
          "name": "stdout",
          "text": [
            "2\n",
            "4\n",
            "6\n",
            "8\n",
            "10\n",
            "12\n",
            "14\n",
            "16\n",
            "18\n",
            "20\n",
            "22\n",
            "24\n",
            "26\n",
            "28\n",
            "30\n",
            "32\n",
            "34\n",
            "36\n",
            "38\n",
            "40\n",
            "42\n",
            "44\n",
            "46\n",
            "48\n",
            "50\n",
            "52\n",
            "54\n",
            "56\n",
            "58\n",
            "60\n",
            "62\n",
            "64\n",
            "66\n",
            "68\n",
            "70\n",
            "72\n",
            "74\n",
            "76\n",
            "78\n",
            "80\n",
            "82\n",
            "84\n",
            "86\n",
            "88\n",
            "90\n",
            "92\n",
            "94\n",
            "96\n",
            "98\n",
            "100\n"
          ]
        }
      ]
    },
    {
      "cell_type": "markdown",
      "source": [
        "**Выведите в консоль все числа кратные трем в промежутке от 1 до 100**"
      ],
      "metadata": {
        "id": "SzOQTRKz6Vqz"
      }
    },
    {
      "cell_type": "code",
      "source": [
        "for i in range(1,101):\n",
        "  if i % 3 == 0:\n",
        "    print(i)"
      ],
      "metadata": {
        "colab": {
          "base_uri": "https://localhost:8080/"
        },
        "collapsed": true,
        "id": "WPpN1nOC6bAJ",
        "outputId": "4e3a11cf-9193-45f3-b82f-8ce8452e5ca4"
      },
      "execution_count": null,
      "outputs": [
        {
          "output_type": "stream",
          "name": "stdout",
          "text": [
            "3\n",
            "6\n",
            "9\n",
            "12\n",
            "15\n",
            "18\n",
            "21\n",
            "24\n",
            "27\n",
            "30\n",
            "33\n",
            "36\n",
            "39\n",
            "42\n",
            "45\n",
            "48\n",
            "51\n",
            "54\n",
            "57\n",
            "60\n",
            "63\n",
            "66\n",
            "69\n",
            "72\n",
            "75\n",
            "78\n",
            "81\n",
            "84\n",
            "87\n",
            "90\n",
            "93\n",
            "96\n",
            "99\n"
          ]
        }
      ]
    },
    {
      "cell_type": "markdown",
      "source": [
        "**Дан список:\n",
        "\n",
        "[1, 2, 3, 4, 5, 6]\n",
        "Получите из него два последних элемента:\n",
        "\n",
        "[5, 6]**"
      ],
      "metadata": {
        "id": "DBUcxnIQ6qiv"
      }
    },
    {
      "cell_type": "code",
      "source": [
        "list_3 = [1, 2, 3, 4, 5, 6]\n",
        "print(list_3[4:6])"
      ],
      "metadata": {
        "colab": {
          "base_uri": "https://localhost:8080/"
        },
        "id": "SgQA0z3m6rzN",
        "outputId": "fce05438-6f27-4cf6-f3cc-6f59a0a73093"
      },
      "execution_count": null,
      "outputs": [
        {
          "output_type": "stream",
          "name": "stdout",
          "text": [
            "[5, 6]\n"
          ]
        }
      ]
    },
    {
      "cell_type": "code",
      "source": [
        "my_list = [1, 2, 3, 4, 5, 6]\n",
        "last_two = my_list[-2:]\n",
        "print(last_two)"
      ],
      "metadata": {
        "colab": {
          "base_uri": "https://localhost:8080/"
        },
        "id": "RaBRDbQC7zfk",
        "outputId": "43554fc3-a9bb-4ec4-9ddb-fe3fce8ae62e"
      },
      "execution_count": null,
      "outputs": [
        {
          "output_type": "stream",
          "name": "stdout",
          "text": [
            "[5, 6]\n"
          ]
        }
      ]
    },
    {
      "cell_type": "markdown",
      "source": [
        "**Дана некоторая строка:\n",
        "\n",
        "'abcdeabc'\n",
        "Получите сет ее символов:\n",
        "\n",
        "{'a', 'b', 'c', 'd', 'e'}**"
      ],
      "metadata": {
        "id": "akfFOXft8FqW"
      }
    },
    {
      "cell_type": "code",
      "source": [
        "str_9 = 'abcdeabc'\n",
        "print(set(str_9))"
      ],
      "metadata": {
        "colab": {
          "base_uri": "https://localhost:8080/"
        },
        "id": "D51rfRqM8KJK",
        "outputId": "30cda264-bc1e-49dc-8cc7-1e06c096cc3d"
      },
      "execution_count": null,
      "outputs": [
        {
          "output_type": "stream",
          "name": "stdout",
          "text": [
            "{'a', 'd', 'e', 'c', 'b'}\n"
          ]
        }
      ]
    },
    {
      "cell_type": "markdown",
      "source": [
        "# Уровень 1.5"
      ],
      "metadata": {
        "id": "R0EGrQ-08ouv"
      }
    },
    {
      "cell_type": "markdown",
      "source": [
        "**Найдите сумму всех целых чисел от 1 до 100**"
      ],
      "metadata": {
        "id": "MizYZzqL8r4w"
      }
    },
    {
      "cell_type": "code",
      "source": [
        "\n",
        "print(sum(range(1,101)))"
      ],
      "metadata": {
        "colab": {
          "base_uri": "https://localhost:8080/"
        },
        "id": "GBsCu9u280ng",
        "outputId": "e9d9ba35-0842-4ba9-8790-7a263c2ec470"
      },
      "execution_count": null,
      "outputs": [
        {
          "output_type": "stream",
          "name": "stdout",
          "text": [
            "5050\n"
          ]
        }
      ]
    },
    {
      "cell_type": "code",
      "source": [
        "n = 100\n",
        "sum_gauss = n * (n + 1) // 2\n",
        "print(sum_gauss)  # Выведет: 5050"
      ],
      "metadata": {
        "id": "CLCtkEeM_Bns"
      },
      "execution_count": null,
      "outputs": []
    },
    {
      "cell_type": "code",
      "source": [
        "total = 0\n",
        "for i in range(1, 101):\n",
        "    total += i\n",
        "print(total)  # Выведет: 5050"
      ],
      "metadata": {
        "id": "jZ7BUmm0_Dvw"
      },
      "execution_count": null,
      "outputs": []
    },
    {
      "cell_type": "markdown",
      "source": [
        "**Найдите сумму всех целых четных чисел в промежутке от 1 до 100**"
      ],
      "metadata": {
        "id": "ykgEPxZk_KeV"
      }
    },
    {
      "cell_type": "code",
      "source": [
        "total = 0\n",
        "for i in range(1, 101):\n",
        "  if i % 2 == 0:\n",
        "    total += i\n",
        "print(total)"
      ],
      "metadata": {
        "colab": {
          "base_uri": "https://localhost:8080/"
        },
        "id": "L1aWRink_TVa",
        "outputId": "dc2cef6c-1dc2-452b-8bf0-7be553f5aaa1"
      },
      "execution_count": null,
      "outputs": [
        {
          "output_type": "stream",
          "name": "stdout",
          "text": [
            "2550\n"
          ]
        }
      ]
    },
    {
      "cell_type": "markdown",
      "source": [
        "**Найдите сумму всех целых нечетных чисел в промежутке от 1 до 100**"
      ],
      "metadata": {
        "id": "Nq1Vjq2S_tbI"
      }
    },
    {
      "cell_type": "code",
      "source": [
        "total = 0\n",
        "for i in range(1, 101):\n",
        "  if i % 3 == 0:\n",
        "    total += i\n",
        "print(total)"
      ],
      "metadata": {
        "colab": {
          "base_uri": "https://localhost:8080/"
        },
        "id": "z52J5kk0_u0W",
        "outputId": "c618d2b5-5cbc-4479-9d79-877fc6710c10"
      },
      "execution_count": null,
      "outputs": [
        {
          "output_type": "stream",
          "name": "stdout",
          "text": [
            "1683\n"
          ]
        }
      ]
    },
    {
      "cell_type": "markdown",
      "source": [
        "**Даны два целых числа. Найдите остаток от деления первого числа на второе**"
      ],
      "metadata": {
        "id": "0KpnV7wsABzk"
      }
    },
    {
      "cell_type": "code",
      "source": [
        "num_7 = int(input())\n",
        "num_9 = int(input())\n",
        "print(f' остаток от деления первого числа на второе: {num_7 / num_9}')"
      ],
      "metadata": {
        "colab": {
          "base_uri": "https://localhost:8080/"
        },
        "id": "IR1tNHF0AC7r",
        "outputId": "e94f172e-3441-4094-a507-95d63f0d3c31"
      },
      "execution_count": null,
      "outputs": [
        {
          "output_type": "stream",
          "name": "stdout",
          "text": [
            "3\n",
            "7\n",
            " остаток от деления первого числа на второе: 0.42857142857142855\n"
          ]
        }
      ]
    },
    {
      "cell_type": "markdown",
      "source": [
        "**Дан список:\n",
        "\n",
        "[1, 2, 3, 4, 5, 6]\n",
        "Получите из него каждый второй элемент:\n",
        "\n",
        "[1, 3, 5]**"
      ],
      "metadata": {
        "id": "GIh6WmWaAl7z"
      }
    },
    {
      "cell_type": "code",
      "source": [
        "list_5 =[1, 2, 3, 4, 5, 6]\n",
        "print(list_5[0::2])"
      ],
      "metadata": {
        "colab": {
          "base_uri": "https://localhost:8080/"
        },
        "id": "sqV9FdVmApTC",
        "outputId": "ffe9e297-785a-4bcb-e992-d57faf6e8c50"
      },
      "execution_count": null,
      "outputs": [
        {
          "output_type": "stream",
          "name": "stdout",
          "text": [
            "[1, 3, 5]\n"
          ]
        }
      ]
    },
    {
      "cell_type": "markdown",
      "source": [
        "# Уровень 1.6"
      ],
      "metadata": {
        "id": "2uOy5xJ9BGQE"
      }
    },
    {
      "cell_type": "markdown",
      "source": [
        "**Дан список с числами:\n",
        "\n",
        "[1, 2, 3, 4, 5]\n",
        "Найдите сумму элементов этого списка**"
      ],
      "metadata": {
        "id": "ylDjsYoxpltp"
      }
    },
    {
      "cell_type": "code",
      "source": [
        "t = 0\n",
        "lis = [1, 2, 3, 4, 5]\n",
        "for i in lis:\n",
        "  t += i\n",
        "  print(t)\n"
      ],
      "metadata": {
        "colab": {
          "base_uri": "https://localhost:8080/"
        },
        "id": "gKLsDmdDpu7i",
        "outputId": "ff0cba9f-8297-46c6-dcc7-c5dfe39d7a6f"
      },
      "execution_count": null,
      "outputs": [
        {
          "output_type": "stream",
          "name": "stdout",
          "text": [
            "1\n",
            "3\n",
            "6\n",
            "10\n",
            "15\n"
          ]
        }
      ]
    },
    {
      "cell_type": "markdown",
      "source": [
        "**Дан список с числами:\n",
        "\n",
        "[1, 2, 3, 4, 5]\n",
        "Найдите сумму квадратов элементов этого списка**"
      ],
      "metadata": {
        "id": "5zx8EhsByRxj"
      }
    },
    {
      "cell_type": "code",
      "source": [
        "lis = [1, 2, 3, 4, 5]\n",
        "result = [i ** 2 for i in lis]\n",
        "print(sum(result))"
      ],
      "metadata": {
        "colab": {
          "base_uri": "https://localhost:8080/",
          "height": 176
        },
        "id": "bnw1RuCmyfjH",
        "outputId": "2bfb1a51-8fc7-4775-f009-ad4c9f578ba4"
      },
      "execution_count": null,
      "outputs": [
        {
          "output_type": "error",
          "ename": "TypeError",
          "evalue": "'int' object is not callable",
          "traceback": [
            "\u001b[0;31m---------------------------------------------------------------------------\u001b[0m",
            "\u001b[0;31mTypeError\u001b[0m                                 Traceback (most recent call last)",
            "\u001b[0;32m/tmp/ipython-input-3804534525.py\u001b[0m in \u001b[0;36m<cell line: 0>\u001b[0;34m()\u001b[0m\n\u001b[1;32m      1\u001b[0m \u001b[0mlis\u001b[0m \u001b[0;34m=\u001b[0m \u001b[0;34m[\u001b[0m\u001b[0;36m1\u001b[0m\u001b[0;34m,\u001b[0m \u001b[0;36m2\u001b[0m\u001b[0;34m,\u001b[0m \u001b[0;36m3\u001b[0m\u001b[0;34m,\u001b[0m \u001b[0;36m4\u001b[0m\u001b[0;34m,\u001b[0m \u001b[0;36m5\u001b[0m\u001b[0;34m]\u001b[0m\u001b[0;34m\u001b[0m\u001b[0;34m\u001b[0m\u001b[0m\n\u001b[1;32m      2\u001b[0m \u001b[0mresult\u001b[0m \u001b[0;34m=\u001b[0m \u001b[0;34m[\u001b[0m\u001b[0mi\u001b[0m \u001b[0;34m**\u001b[0m \u001b[0;36m2\u001b[0m \u001b[0;32mfor\u001b[0m \u001b[0mi\u001b[0m \u001b[0;32min\u001b[0m \u001b[0mlis\u001b[0m\u001b[0;34m]\u001b[0m\u001b[0;34m\u001b[0m\u001b[0;34m\u001b[0m\u001b[0m\n\u001b[0;32m----> 3\u001b[0;31m \u001b[0mprint\u001b[0m\u001b[0;34m(\u001b[0m\u001b[0msum\u001b[0m\u001b[0;34m(\u001b[0m\u001b[0mresult\u001b[0m\u001b[0;34m)\u001b[0m\u001b[0;34m)\u001b[0m\u001b[0;34m\u001b[0m\u001b[0;34m\u001b[0m\u001b[0m\n\u001b[0m",
            "\u001b[0;31mTypeError\u001b[0m: 'int' object is not callable"
          ]
        }
      ]
    },
    {
      "cell_type": "markdown",
      "source": [
        "**Дан список с числами:\n",
        "\n",
        "[1, 2, 3, 4, 5]\n",
        "Найдите сумму квадратных корней элементов этого списка**"
      ],
      "metadata": {
        "id": "D4ahJIgtrqkv"
      }
    },
    {
      "cell_type": "code",
      "source": [
        "import math\n",
        "lis = [1, 2, 3, 4, 5]\n",
        "result = [math.sqrt(i) for i in lis]\n",
        "print(sum(result))"
      ],
      "metadata": {
        "colab": {
          "base_uri": "https://localhost:8080/"
        },
        "id": "CW5XwUcGrxVF",
        "outputId": "afffdc6c-a1dd-4eb0-80e9-cf93c45d02a5"
      },
      "execution_count": null,
      "outputs": [
        {
          "output_type": "stream",
          "name": "stdout",
          "text": [
            "8.382332347441762\n"
          ]
        }
      ]
    },
    {
      "cell_type": "markdown",
      "source": [
        "**Дан список с числами:\n",
        "\n",
        "[1, 2, -3, 4, -5]\n",
        "Найдите сумму положительных элементов этого списка**"
      ],
      "metadata": {
        "id": "84_pmWeOs_1T"
      }
    },
    {
      "cell_type": "code",
      "source": [
        "numbers = [1, 2, -3, 4, -5]\n",
        "sum_positive = 0\n",
        "\n",
        "for num in numbers:\n",
        "    if num > 0:\n",
        "        sum_positive += num\n",
        "\n",
        "print(sum_positive)"
      ],
      "metadata": {
        "colab": {
          "base_uri": "https://localhost:8080/"
        },
        "id": "ZdBd1-QRtBa1",
        "outputId": "6b885584-1a8f-43a0-f860-1bb8f27ddde1"
      },
      "execution_count": null,
      "outputs": [
        {
          "output_type": "stream",
          "name": "stdout",
          "text": [
            "7\n"
          ]
        }
      ]
    },
    {
      "cell_type": "markdown",
      "source": [
        "**Дан список с числами:\n",
        "\n",
        "[-1, 2, -3, 4, 5, 11]\n",
        "Найдите сумму тех элементов этого списка, которые больше нуля и меньше десяти**"
      ],
      "metadata": {
        "id": "Hl1wmuL6aD7z"
      }
    },
    {
      "cell_type": "code",
      "source": [
        "l = [-1, 2, -3, 4, 5, 11]\n",
        "sum = 0\n",
        "for i in l:\n",
        "  if i >0 and i <10:\n",
        "    sum += i\n",
        "    print(sum)"
      ],
      "metadata": {
        "colab": {
          "base_uri": "https://localhost:8080/"
        },
        "id": "MPCogUjCaDiB",
        "outputId": "28514ed3-67f9-4936-f58f-7971221a6899"
      },
      "execution_count": null,
      "outputs": [
        {
          "output_type": "stream",
          "name": "stdout",
          "text": [
            "2\n",
            "6\n",
            "11\n"
          ]
        }
      ]
    },
    {
      "cell_type": "markdown",
      "source": [
        "**Дана некоторая строка:\n",
        "\n",
        "'abcde'\n",
        "Переберите и выведите в консоль по очереди все символы с конца строки**"
      ],
      "metadata": {
        "id": "cwIcOlNFbIQm"
      }
    },
    {
      "cell_type": "code",
      "source": [
        "st = 'abcde'\n",
        "for i in st[::-1]:\n",
        "  print(i)"
      ],
      "metadata": {
        "colab": {
          "base_uri": "https://localhost:8080/"
        },
        "id": "plnFGhONbLHX",
        "outputId": "b06a46f2-abe2-48b6-f6ed-095c87fc3392"
      },
      "execution_count": null,
      "outputs": [
        {
          "output_type": "stream",
          "name": "stdout",
          "text": [
            "e\n",
            "d\n",
            "c\n",
            "b\n",
            "a\n"
          ]
        }
      ]
    },
    {
      "cell_type": "markdown",
      "source": [
        "# Уровень 1.7"
      ],
      "metadata": {
        "id": "j0VCXSajntpe"
      }
    },
    {
      "cell_type": "markdown",
      "source": [
        "**Дан словарь:\n",
        "\n",
        "{\n",
        "\t'a': 1,\n",
        "\t'b': 2,\n",
        "\t'c': 3,\n",
        "\t'd': 4,\n",
        "}\n",
        "Найдите сумму элементов этого словаря**"
      ],
      "metadata": {
        "id": "bUFrp9V_Gxol"
      }
    },
    {
      "cell_type": "code",
      "source": [
        "dict_7 = { 'a': 1, 'b': 2, 'c': 3, 'd': 4, }\n",
        "print(sum(dict_7.values()))"
      ],
      "metadata": {
        "colab": {
          "base_uri": "https://localhost:8080/"
        },
        "id": "hH2CrvI9G2qM",
        "outputId": "54e6d9d3-042b-4bde-c442-86d6485f9f79"
      },
      "execution_count": null,
      "outputs": [
        {
          "output_type": "stream",
          "name": "stdout",
          "text": [
            "10\n"
          ]
        }
      ]
    },
    {
      "cell_type": "markdown",
      "source": [
        "**Дан словарь:\n",
        "\n",
        "{\n",
        "\t'a': 1,\n",
        "\t'b': 2,\n",
        "\t'c': 3,\n",
        "\t'd': 4,\n",
        "}\n",
        "Найдите сумму квадратов элементов этого словаря**"
      ],
      "metadata": {
        "id": "AdZQ0_tbJPSs"
      }
    },
    {
      "cell_type": "code",
      "source": [
        "dict_9 = {'a': 1, 'b': 2, 'c': 3, 'd': 4}\n",
        "\n",
        "# Способ 1: Через цикл for\n",
        "total = 0\n",
        "for value in dict_9.values():\n",
        "    total += value ** 2\n",
        "print(total)"
      ],
      "metadata": {
        "colab": {
          "base_uri": "https://localhost:8080/"
        },
        "id": "xvBKUL0wJW4P",
        "outputId": "b9ba288d-c677-40e2-a004-2453be5130dd"
      },
      "execution_count": null,
      "outputs": [
        {
          "output_type": "stream",
          "name": "stdout",
          "text": [
            "30\n"
          ]
        }
      ]
    },
    {
      "cell_type": "code",
      "source": [
        "sum_of_squares = sum(v ** 2 for v in dict_9.values())\n",
        "print(sum_of_squares)"
      ],
      "metadata": {
        "colab": {
          "base_uri": "https://localhost:8080/"
        },
        "id": "Qryj-8M4dWtY",
        "outputId": "ede6be41-3de1-4760-bd7a-ef403411536e"
      },
      "execution_count": null,
      "outputs": [
        {
          "output_type": "stream",
          "name": "stdout",
          "text": [
            "30\n"
          ]
        }
      ]
    },
    {
      "cell_type": "markdown",
      "source": [
        "**Дана строка:\n",
        "\n",
        "'abcde'\n",
        "Получите список букв этой строки**"
      ],
      "metadata": {
        "id": "t1FzxBXqdott"
      }
    },
    {
      "cell_type": "code",
      "source": [
        "sr = 'abcde'\n",
        "print(list(sr))"
      ],
      "metadata": {
        "colab": {
          "base_uri": "https://localhost:8080/"
        },
        "id": "YSEQet7qdtz8",
        "outputId": "69a36bf2-9395-4fed-b432-624ac0a3caed"
      },
      "execution_count": null,
      "outputs": [
        {
          "output_type": "stream",
          "name": "stdout",
          "text": [
            "['a', 'b', 'c', 'd', 'e']\n"
          ]
        }
      ]
    },
    {
      "cell_type": "markdown",
      "source": [
        "**Дано некоторое число:\n",
        "\n",
        "12345\n",
        "Получите список цифр этого числа**"
      ],
      "metadata": {
        "id": "4XQYqnFnepfT"
      }
    },
    {
      "cell_type": "code",
      "source": [
        "numb = 12345\n",
        "print(list(str(numb)))"
      ],
      "metadata": {
        "colab": {
          "base_uri": "https://localhost:8080/"
        },
        "id": "QFNwhqOveq_Y",
        "outputId": "fff8b1e2-9b2f-40a1-d2b0-853615a367f8"
      },
      "execution_count": null,
      "outputs": [
        {
          "output_type": "stream",
          "name": "stdout",
          "text": [
            "['1', '2', '3', '4', '5']\n"
          ]
        }
      ]
    },
    {
      "cell_type": "markdown",
      "source": [
        "**Дано некоторое число:\n",
        "\n",
        "12345\n",
        "Переверните его:\n",
        "\n",
        "54321**"
      ],
      "metadata": {
        "id": "DEQfi0nFfeQA"
      }
    },
    {
      "cell_type": "code",
      "source": [
        "num = 12345\n",
        "a = str(num)\n",
        "print(a[::-1])"
      ],
      "metadata": {
        "colab": {
          "base_uri": "https://localhost:8080/"
        },
        "id": "sEWWOU0Nfhhb",
        "outputId": "dfa97eee-ae31-4cd6-c373-f5af67e79a40"
      },
      "execution_count": null,
      "outputs": [
        {
          "output_type": "stream",
          "name": "stdout",
          "text": [
            "54321\n"
          ]
        }
      ]
    },
    {
      "cell_type": "code",
      "source": [
        "num = 12345\n",
        "reversed_num = int(str(num)[::-1])\n",
        "print(reversed_num)"
      ],
      "metadata": {
        "colab": {
          "base_uri": "https://localhost:8080/"
        },
        "id": "yBfS24_lnCdP",
        "outputId": "6f91ed14-a8fb-4214-ac27-fde19961727d"
      },
      "execution_count": null,
      "outputs": [
        {
          "output_type": "stream",
          "name": "stdout",
          "text": [
            "54321\n"
          ]
        }
      ]
    },
    {
      "cell_type": "markdown",
      "source": [
        "**Дано некоторое число:\n",
        "\n",
        "12345\n",
        "Найдите сумму цифр этого числа**"
      ],
      "metadata": {
        "id": "xLfO81E-nYGQ"
      }
    },
    {
      "cell_type": "code",
      "source": [
        "num = 12345\n",
        "\n",
        "print(num.split())\n",
        "#for i in n:\n",
        " # print(sum(i))"
      ],
      "metadata": {
        "colab": {
          "base_uri": "https://localhost:8080/",
          "height": 211
        },
        "id": "72CYiZGVnfU0",
        "outputId": "d9a801fa-e87e-4d74-f837-946caee3758a"
      },
      "execution_count": null,
      "outputs": [
        {
          "output_type": "error",
          "ename": "AttributeError",
          "evalue": "'int' object has no attribute 'split'",
          "traceback": [
            "\u001b[0;31m---------------------------------------------------------------------------\u001b[0m",
            "\u001b[0;31mAttributeError\u001b[0m                            Traceback (most recent call last)",
            "\u001b[0;32m/tmp/ipython-input-2880913321.py\u001b[0m in \u001b[0;36m<cell line: 0>\u001b[0;34m()\u001b[0m\n\u001b[1;32m      1\u001b[0m \u001b[0mnum\u001b[0m \u001b[0;34m=\u001b[0m \u001b[0;36m12345\u001b[0m\u001b[0;34m\u001b[0m\u001b[0;34m\u001b[0m\u001b[0m\n\u001b[1;32m      2\u001b[0m \u001b[0;34m\u001b[0m\u001b[0m\n\u001b[0;32m----> 3\u001b[0;31m \u001b[0mprint\u001b[0m\u001b[0;34m(\u001b[0m\u001b[0mnum\u001b[0m\u001b[0;34m.\u001b[0m\u001b[0msplit\u001b[0m\u001b[0;34m(\u001b[0m\u001b[0;34m)\u001b[0m\u001b[0;34m)\u001b[0m\u001b[0;34m\u001b[0m\u001b[0;34m\u001b[0m\u001b[0m\n\u001b[0m\u001b[1;32m      4\u001b[0m \u001b[0;31m#for i in n:\u001b[0m\u001b[0;34m\u001b[0m\u001b[0;34m\u001b[0m\u001b[0m\n\u001b[1;32m      5\u001b[0m  \u001b[0;31m# print(sum(i))\u001b[0m\u001b[0;34m\u001b[0m\u001b[0;34m\u001b[0m\u001b[0m\n",
            "\u001b[0;31mAttributeError\u001b[0m: 'int' object has no attribute 'split'"
          ]
        }
      ]
    },
    {
      "cell_type": "code",
      "source": [
        "\n",
        "#path = pwd\n",
        "col_fi = 0\n",
        "file = input()\n",
        "if file.split('.')[-1] == 'txt':\n",
        "  col_fi +=1\n",
        "  print(col_fi)\n",
        "elif file.split('.')[-1] == 'log':\n",
        "  col_fi += 1\n",
        "  print(col_fi)\n",
        "elif file.split('.')[-1] == 'scv':\n",
        "  col_fi +=1\n",
        "  print(col_fi)\n"
      ],
      "metadata": {
        "colab": {
          "base_uri": "https://localhost:8080/"
        },
        "id": "G8mbE_v8b1Zl",
        "outputId": "be7262b3-ba66-44ce-8707-878832438e91"
      },
      "execution_count": null,
      "outputs": [
        {
          "output_type": "stream",
          "name": "stdout",
          "text": [
            "fggdg.scv\n",
            "1\n"
          ]
        }
      ]
    },
    {
      "cell_type": "code",
      "source": [
        "# Инициализация счетчиков\n",
        "count_txt = 0\n",
        "count_log = 0\n",
        "count_csv = 0  # Исправлено с 'scv' на 'csv'\n",
        "\n",
        "print(\"Вводите имена файлов (для завершения введите 'stop'):\")\n",
        "\n",
        "while True:\n",
        "    file = input().strip()  # Удаляем лишние пробелы\n",
        "\n",
        "    # Выход из цикла\n",
        "    if file.lower() == 'stop':\n",
        "        break\n",
        "\n",
        "    # Разделяем имя файла на части\n",
        "    parts = file.split('.')\n",
        "\n",
        "    # Проверяем, есть ли расширение (минимум 2 части после split)\n",
        "    if len(parts) > 1:\n",
        "        extension = parts[-1].lower()  # Приводим к нижнему регистру\n",
        "\n",
        "        if extension == 'txt':\n",
        "            count_txt += 1\n",
        "        elif extension == 'log':\n",
        "            count_log += 1\n",
        "        elif extension == 'csv':  # Исправлено с 'scv' на 'csv'\n",
        "            count_csv += 1\n",
        "\n",
        "# Выводим результаты\n",
        "print(\"\\nРезультаты подсчета:\")\n",
        "print(f\".txt файлов: {count_txt}\")\n",
        "print(f\".log файлов: {count_log}\")\n",
        "print(f\".csv файлов: {count_csv}\")"
      ],
      "metadata": {
        "id": "LID7NDFw2Z7R"
      },
      "execution_count": null,
      "outputs": []
    },
    {
      "cell_type": "markdown",
      "source": [
        "# Уровень 1.8 (2)"
      ],
      "metadata": {
        "id": "r42EtHqEb5Zt"
      }
    },
    {
      "cell_type": "markdown",
      "source": [
        "**Дан кортеж с числами:\n",
        "\n",
        "(1, 2, 3, 4, 5)\n",
        "Найдите сумму элементов этого кортежа**"
      ],
      "metadata": {
        "id": "EqGxu9hSb66p"
      }
    },
    {
      "cell_type": "code",
      "source": [
        "dic = (1, 2, 3, 4, 5)\n",
        "s = 0\n",
        "for i in dic:\n",
        "  s += i\n",
        "print(s)"
      ],
      "metadata": {
        "colab": {
          "base_uri": "https://localhost:8080/"
        },
        "id": "lZmYubjgcBX5",
        "outputId": "53700f46-b28f-4652-af5e-7df231585581"
      },
      "execution_count": null,
      "outputs": [
        {
          "output_type": "stream",
          "name": "stdout",
          "text": [
            "15\n"
          ]
        }
      ]
    },
    {
      "cell_type": "markdown",
      "source": [
        "**Дан список с числами:\n",
        "\n",
        "[1, 2, 3, 4, 5, 6]\n",
        "Увеличьте каждое число из списка на 10 процентов**"
      ],
      "metadata": {
        "id": "lZPmRRa0d0mx"
      }
    },
    {
      "cell_type": "code",
      "source": [
        "li = [1, 2, 3, 4, 5, 6]\n",
        "for i in li:\n",
        "  i *= 10 / 100\n",
        "  print(i)"
      ],
      "metadata": {
        "colab": {
          "base_uri": "https://localhost:8080/"
        },
        "id": "Fus-m-PXd3-O",
        "outputId": "b36e5d2f-4a62-475a-d7f7-acd4d91b1088"
      },
      "execution_count": null,
      "outputs": [
        {
          "output_type": "stream",
          "name": "stdout",
          "text": [
            "0.1\n",
            "0.2\n",
            "0.30000000000000004\n",
            "0.4\n",
            "0.5\n",
            "0.6000000000000001\n"
          ]
        }
      ]
    },
    {
      "cell_type": "markdown",
      "source": [
        "**Дана строка:\n",
        "\n",
        "'abcdef'\n",
        "Получите первых три символа этой строки:\n",
        "\n",
        "'abc'**"
      ],
      "metadata": {
        "id": "9M86OJNNhh1w"
      }
    },
    {
      "cell_type": "code",
      "source": [
        "strin = 'abcdef'\n",
        "print(strin[0:3])"
      ],
      "metadata": {
        "colab": {
          "base_uri": "https://localhost:8080/"
        },
        "id": "Bkr3Gj4hhkfN",
        "outputId": "0c893c7a-a64c-4d4e-f12b-0647d6531dec"
      },
      "execution_count": null,
      "outputs": [
        {
          "output_type": "stream",
          "name": "stdout",
          "text": [
            "abc\n"
          ]
        }
      ]
    },
    {
      "cell_type": "markdown",
      "source": [
        "# Уровень 1.9"
      ],
      "metadata": {
        "id": "_2hXztb_iB_H"
      }
    },
    {
      "cell_type": "markdown",
      "source": [
        "**Дана строка:\n",
        "\n",
        "'abcdef'\n",
        "Получите три последних символа этой строки:\n",
        "\n",
        "'def'**"
      ],
      "metadata": {
        "id": "xXMJKSWCiEWS"
      }
    },
    {
      "cell_type": "code",
      "source": [
        "stri = 'abcdef'\n",
        "print(stri[3:6:])"
      ],
      "metadata": {
        "colab": {
          "base_uri": "https://localhost:8080/"
        },
        "id": "Akw63oEfiKC6",
        "outputId": "74e02f19-50a4-429b-a67c-4e33b6753ce9"
      },
      "execution_count": null,
      "outputs": [
        {
          "output_type": "stream",
          "name": "stdout",
          "text": [
            "def\n"
          ]
        }
      ]
    },
    {
      "cell_type": "code",
      "source": [
        "s = 'abcdef'\n",
        "last_three = s[-3:]  # Берём символы от 3-го с конца до конца строки\n",
        "print(last_three)    # Выведет: 'def'"
      ],
      "metadata": {
        "colab": {
          "base_uri": "https://localhost:8080/"
        },
        "id": "ksZHqd2vjFII",
        "outputId": "393557aa-f34c-46a4-cb69-c03651599933"
      },
      "execution_count": null,
      "outputs": [
        {
          "output_type": "stream",
          "name": "stdout",
          "text": [
            "def\n"
          ]
        }
      ]
    },
    {
      "cell_type": "markdown",
      "source": [
        "**Дан словарь с числами:\n",
        "\n",
        "{\n",
        "\t'a': 1,\n",
        "\t'b': 2,\n",
        "\t'c': 3,\n",
        "\t'd': 4,\n",
        "}\n",
        "Увеличьте каждое число из словаря в 2 раза:\n",
        "\n",
        "{\n",
        "\t'a': 2,\n",
        "\t'b': 4,\n",
        "\t'c': 6,\n",
        "\t'd': 8,\n",
        "}**"
      ],
      "metadata": {
        "id": "8mq85HfIjOkk"
      }
    },
    {
      "cell_type": "code",
      "source": [
        "dic = {\n",
        "\t'a': 1,\n",
        "\t'b': 2,\n",
        "\t'c': 3,\n",
        "\t'd': 4,\n",
        "}\n",
        "for i in dic.values():\n",
        "  fgt = i * 2\n",
        "  print(fgt)"
      ],
      "metadata": {
        "colab": {
          "base_uri": "https://localhost:8080/"
        },
        "id": "cQFle13sjVbS",
        "outputId": "f8e32029-a0b1-4afe-e307-6a58badfd9d4"
      },
      "execution_count": null,
      "outputs": [
        {
          "output_type": "stream",
          "name": "stdout",
          "text": [
            "2\n",
            "4\n",
            "6\n",
            "8\n"
          ]
        }
      ]
    },
    {
      "cell_type": "code",
      "source": [
        "dic = {\n",
        "    'a': 1,\n",
        "    'b': 2,\n",
        "    'c': 3,\n",
        "    'd': 4,\n",
        "}\n",
        "\n",
        "# Вариант 1: Создаем новый словарь с удвоенными значениями\n",
        "new_dic = {key: value * 2 for key, value in dic.items()}\n",
        "print(new_dic)\n"
      ],
      "metadata": {
        "colab": {
          "base_uri": "https://localhost:8080/"
        },
        "id": "_u6dCWukllBZ",
        "outputId": "7071b658-8202-48f7-b517-be6464d2e8c0"
      },
      "execution_count": null,
      "outputs": [
        {
          "output_type": "stream",
          "name": "stdout",
          "text": [
            "{'a': 2, 'b': 4, 'c': 6, 'd': 8}\n"
          ]
        }
      ]
    },
    {
      "cell_type": "code",
      "source": [
        "dic = {\n",
        "    'a': 1,\n",
        "    'b': 2,\n",
        "    'c': 3,\n",
        "    'd': 4,\n",
        "}\n",
        "\n",
        "for key in dic:\n",
        "    dic[key] *= 2\n",
        "print(dic)"
      ],
      "metadata": {
        "colab": {
          "base_uri": "https://localhost:8080/"
        },
        "id": "U4GC58G9lrAt",
        "outputId": "96fcd124-7942-4726-f308-e0a07bb34ea5"
      },
      "execution_count": null,
      "outputs": [
        {
          "output_type": "stream",
          "name": "stdout",
          "text": [
            "{'a': 2, 'b': 4, 'c': 6, 'd': 8}\n"
          ]
        }
      ]
    },
    {
      "cell_type": "markdown",
      "source": [
        "# Уровень 1.10"
      ],
      "metadata": {
        "id": "HrPq63tqWFxs"
      }
    },
    {
      "cell_type": "markdown",
      "source": [
        "**Дана строка:\n",
        "\n",
        "'abcdef'\n",
        "Получите каждый второй символ этой строки:\n",
        "\n",
        "'ace'**"
      ],
      "metadata": {
        "id": "_m7AFg9vWH-T"
      }
    },
    {
      "cell_type": "code",
      "source": [
        "st = 'abcdef'\n",
        "print(st[::2])"
      ],
      "metadata": {
        "colab": {
          "base_uri": "https://localhost:8080/"
        },
        "id": "UpgtIQrYWTTZ",
        "outputId": "33f53f33-b5ab-4f20-a6bc-64f0dc4ef076"
      },
      "execution_count": null,
      "outputs": [
        {
          "output_type": "stream",
          "name": "stdout",
          "text": [
            "ace\n"
          ]
        }
      ]
    },
    {
      "cell_type": "markdown",
      "source": [
        "**Дано некоторое число:\n",
        "\n",
        "12345\n",
        "Выведите в консоль все его символы с конца**"
      ],
      "metadata": {
        "id": "v-25dH18WyHo"
      }
    },
    {
      "cell_type": "code",
      "source": [
        "num = 12345\n",
        "print(str(num)[::-1])"
      ],
      "metadata": {
        "colab": {
          "base_uri": "https://localhost:8080/"
        },
        "id": "6rbNVcsTW3HH",
        "outputId": "c5d0e751-6b62-42bb-f2df-8085b16ba458"
      },
      "execution_count": null,
      "outputs": [
        {
          "output_type": "stream",
          "name": "stdout",
          "text": [
            "54321\n"
          ]
        }
      ]
    },
    {
      "cell_type": "markdown",
      "source": [
        "# Уровень 2.1"
      ],
      "metadata": {
        "id": "nm2KQ8QmXq39"
      }
    },
    {
      "cell_type": "markdown",
      "source": [
        "**Дан список со строками. Оставьте в этом списке только те строки, которые начинаются на http://**"
      ],
      "metadata": {
        "id": "ThTOpQIyXuCV"
      }
    },
    {
      "cell_type": "code",
      "source": [
        "stri = ['nlnglkmlgklgk', 'http://lglkglkggmlkglkgglkg', 'ggmmlgjlgkj', 'http://', 'http://fkgjldkjgllgk;fgl;L']\n",
        "\n",
        "for i in stri:\n",
        "    if 'http://' in i:\n",
        "        print(i)"
      ],
      "metadata": {
        "colab": {
          "base_uri": "https://localhost:8080/"
        },
        "id": "kMSqDToHba62",
        "outputId": "2291752a-7e8e-4697-9073-341fea8b7223"
      },
      "execution_count": null,
      "outputs": [
        {
          "output_type": "stream",
          "name": "stdout",
          "text": [
            "http://lglkglkggmlkglkgglkg\n",
            "http://\n",
            "http://fkgjldkjgllgk;fgl;L\n"
          ]
        }
      ]
    },
    {
      "cell_type": "code",
      "source": [
        "for i in stri:\n",
        "    if i.startswith('http://'):\n",
        "        print(i)"
      ],
      "metadata": {
        "colab": {
          "base_uri": "https://localhost:8080/"
        },
        "id": "oiD4NQFSboFe",
        "outputId": "5659dfb5-98ab-46bb-9411-a18913d294f2"
      },
      "execution_count": null,
      "outputs": [
        {
          "output_type": "stream",
          "name": "stdout",
          "text": [
            "http://lglkglkggmlkglkgglkg\n",
            "http://\n",
            "http://fkgjldkjgllgk;fgl;L\n"
          ]
        }
      ]
    },
    {
      "cell_type": "markdown",
      "source": [
        "**Дана некоторая строка. Найдите позицию первого нуля в строке**"
      ],
      "metadata": {
        "id": "xOOMLBQtdEhH"
      }
    },
    {
      "cell_type": "code",
      "source": [
        "stroka = input()\n",
        "index = stroka.find('0')  # Ищем первый '0'\n",
        "\n",
        "if index != -1:\n",
        "    print(f\"Первый '0' на позиции: {index}\")\n",
        "else:\n",
        "    print(\"Нулей в строке нет\")"
      ],
      "metadata": {
        "colab": {
          "base_uri": "https://localhost:8080/"
        },
        "id": "F7X30jTUdKfK",
        "outputId": "b79d1afb-dd42-4db0-807a-32c1ef11581a"
      },
      "execution_count": null,
      "outputs": [
        {
          "output_type": "stream",
          "name": "stdout",
          "text": [
            "kjkjkjk0jjkj\n",
            "Первый '0' на позиции: 7\n"
          ]
        }
      ]
    },
    {
      "cell_type": "code",
      "source": [
        "s = \"abc0123x045\"\n",
        "\n",
        "for i, char in enumerate(s):\n",
        "    if char == '0':\n",
        "        print(f\"Первый '0' на позиции: {i}\")\n",
        "        break\n",
        "else:\n",
        "    print(\"Нулей в строке нет\")"
      ],
      "metadata": {
        "colab": {
          "base_uri": "https://localhost:8080/"
        },
        "id": "xNNxkJ4SfHqo",
        "outputId": "d082aa50-f539-4853-ec64-83986ea408a0"
      },
      "execution_count": null,
      "outputs": [
        {
          "output_type": "stream",
          "name": "stdout",
          "text": [
            "Первый '0' на позиции: 3\n"
          ]
        }
      ]
    },
    {
      "cell_type": "markdown",
      "source": [
        "**Дан список. Удалите из него элементы с заданным значением**"
      ],
      "metadata": {
        "id": "lBtbgdAigcCq"
      }
    },
    {
      "cell_type": "code",
      "source": [
        "numbers = [10, 20, 30, 40, 50, 60, 70]\n",
        "\n",
        "# Удаляем элементы, которые делятся на 20 ИЛИ больше 50\n",
        "filtered = [x for x in numbers if not (x % 20 == 0 or x > 50)]\n",
        "print(filtered)  # [10, 30, 40]"
      ],
      "metadata": {
        "colab": {
          "base_uri": "https://localhost:8080/"
        },
        "id": "d8dr3_oe741J",
        "outputId": "8f115a07-a2c5-45ec-e0ed-f0492e50a167"
      },
      "execution_count": null,
      "outputs": [
        {
          "output_type": "stream",
          "name": "stdout",
          "text": [
            "[10, 30, 50]\n"
          ]
        }
      ]
    },
    {
      "cell_type": "code",
      "source": [
        "my_list = [1, 2, 3, 4, 5]\n",
        "del my_list[1]  # Удаляет элемент с индексом 1 (число 2)\n",
        "print(my_list)  # [1, 3, 4, 5]"
      ],
      "metadata": {
        "colab": {
          "base_uri": "https://localhost:8080/"
        },
        "id": "vUlyuFsv5Ntr",
        "outputId": "64b23b8f-3bed-4eee-8437-2e8d34d38e67"
      },
      "execution_count": null,
      "outputs": [
        {
          "output_type": "stream",
          "name": "stdout",
          "text": [
            "[1, 3, 4, 5]\n"
          ]
        }
      ]
    },
    {
      "cell_type": "code",
      "source": [
        "las = [1,2,3,4,5,56,6,78,8,89,78,99]\n",
        "a = las.remove(2)\n",
        "print(las)"
      ],
      "metadata": {
        "colab": {
          "base_uri": "https://localhost:8080/"
        },
        "id": "6uHLiPKggnAY",
        "outputId": "910307c8-4c2e-4fa4-8de5-9691fe609a74"
      },
      "execution_count": null,
      "outputs": [
        {
          "output_type": "stream",
          "name": "stdout",
          "text": [
            "[1, 3, 4, 5, 56, 6, 78, 8, 89, 78, 99]\n"
          ]
        }
      ]
    },
    {
      "cell_type": "code",
      "source": [
        "my_list = [10, 20, 30]\n",
        "popped = my_list.pop(1)  # Удаляет и возвращает элемент с индексом 1\n",
        "print(popped)  # 20\n",
        "print(my_list)  # [10, 30]"
      ],
      "metadata": {
        "colab": {
          "base_uri": "https://localhost:8080/"
        },
        "id": "8okvEV4Z52Tq",
        "outputId": "f60b1ef9-7aa0-4a59-e523-87682aa344d9"
      },
      "execution_count": null,
      "outputs": [
        {
          "output_type": "stream",
          "name": "stdout",
          "text": [
            "20\n",
            "[10, 30]\n"
          ]
        }
      ]
    },
    {
      "cell_type": "code",
      "source": [
        "my_list = [1, 2, 3]\n",
        "my_list.clear()\n",
        "print(my_list)  # []"
      ],
      "metadata": {
        "colab": {
          "base_uri": "https://localhost:8080/"
        },
        "id": "4dMf4giz5-D1",
        "outputId": "b6ed071b-1e07-4d50-f59c-6ac5606b6587"
      },
      "execution_count": null,
      "outputs": [
        {
          "output_type": "stream",
          "name": "stdout",
          "text": [
            "[]\n"
          ]
        }
      ]
    },
    {
      "cell_type": "code",
      "source": [
        "my_dict = {'a': 1, 'b': 2, 'c': 3}\n",
        "del my_dict['b']\n",
        "print(my_dict)  # {'a': 1, 'c': 3}"
      ],
      "metadata": {
        "id": "KC2pngY_6C_-"
      },
      "execution_count": null,
      "outputs": []
    },
    {
      "cell_type": "markdown",
      "source": [
        "**Выведите в консоль все числа в промежутке от 10 до 1000, сумма первой и второй цифры которых равна пяти**"
      ],
      "metadata": {
        "id": "jo5G2CrfnIO4"
      }
    },
    {
      "cell_type": "code",
      "source": [
        "for number in range(10, 1001):  # Перебираем числа от 10 до 1000 включительно\n",
        "    # Преобразуем число в строку и берем первые две цифры\n",
        "    digits = str(number)\n",
        "    if len(digits) >= 2:  # Проверяем, что число двузначное или больше\n",
        "        first_digit = int(digits[0])\n",
        "        second_digit = int(digits[1])\n",
        "        if first_digit + second_digit == 5:  # Проверяем сумму\n",
        "            print(number)"
      ],
      "metadata": {
        "colab": {
          "base_uri": "https://localhost:8080/"
        },
        "collapsed": true,
        "id": "bDIcBz1znTcI",
        "outputId": "d59519ce-f4eb-4f8b-ea21-df8740ba631f"
      },
      "execution_count": null,
      "outputs": [
        {
          "output_type": "stream",
          "name": "stdout",
          "text": [
            "14\n",
            "23\n",
            "32\n",
            "41\n",
            "50\n",
            "140\n",
            "141\n",
            "142\n",
            "143\n",
            "144\n",
            "145\n",
            "146\n",
            "147\n",
            "148\n",
            "149\n",
            "230\n",
            "231\n",
            "232\n",
            "233\n",
            "234\n",
            "235\n",
            "236\n",
            "237\n",
            "238\n",
            "239\n",
            "320\n",
            "321\n",
            "322\n",
            "323\n",
            "324\n",
            "325\n",
            "326\n",
            "327\n",
            "328\n",
            "329\n",
            "410\n",
            "411\n",
            "412\n",
            "413\n",
            "414\n",
            "415\n",
            "416\n",
            "417\n",
            "418\n",
            "419\n",
            "500\n",
            "501\n",
            "502\n",
            "503\n",
            "504\n",
            "505\n",
            "506\n",
            "507\n",
            "508\n",
            "509\n"
          ]
        }
      ]
    },
    {
      "cell_type": "code",
      "source": [
        "# Для двузначных чисел (10-99)\n",
        "for num in range(10, 100):\n",
        "    if (num // 10) + (num % 10) == 5:\n",
        "        print(num)\n",
        "\n",
        "# Для трехзначных чисел (100-999)\n",
        "for num in range(100, 1000):\n",
        "    if (num // 100) + ((num // 10) % 10) == 5:\n",
        "        print(num)\n",
        "\n",
        "# Число 1000\n",
        "if (1 + 0) == 5:  # Не выполнится, так как 1+0≠5\n",
        "    print(1000)"
      ],
      "metadata": {
        "colab": {
          "base_uri": "https://localhost:8080/"
        },
        "collapsed": true,
        "id": "tyE9gy4-pOFx",
        "outputId": "cca6a393-e35e-4b69-aae5-0da3be4dc085"
      },
      "execution_count": null,
      "outputs": [
        {
          "output_type": "stream",
          "name": "stdout",
          "text": [
            "14\n",
            "23\n",
            "32\n",
            "41\n",
            "50\n",
            "140\n",
            "141\n",
            "142\n",
            "143\n",
            "144\n",
            "145\n",
            "146\n",
            "147\n",
            "148\n",
            "149\n",
            "230\n",
            "231\n",
            "232\n",
            "233\n",
            "234\n",
            "235\n",
            "236\n",
            "237\n",
            "238\n",
            "239\n",
            "320\n",
            "321\n",
            "322\n",
            "323\n",
            "324\n",
            "325\n",
            "326\n",
            "327\n",
            "328\n",
            "329\n",
            "410\n",
            "411\n",
            "412\n",
            "413\n",
            "414\n",
            "415\n",
            "416\n",
            "417\n",
            "418\n",
            "419\n",
            "500\n",
            "501\n",
            "502\n",
            "503\n",
            "504\n",
            "505\n",
            "506\n",
            "507\n",
            "508\n",
            "509\n"
          ]
        }
      ]
    },
    {
      "cell_type": "markdown",
      "source": [
        "**Дана некоторая строка:\n",
        "\n",
        "'abcdeabc'\n",
        "Очистите ее от дублей символов:\n",
        "\n",
        "'abcde'**"
      ],
      "metadata": {
        "id": "n2AjQGcpsnzr"
      }
    },
    {
      "cell_type": "code",
      "source": [
        "strin = 'abcdeabc'\n",
        "print(set(strin))"
      ],
      "metadata": {
        "colab": {
          "base_uri": "https://localhost:8080/"
        },
        "id": "XXy2CBV_s2MI",
        "outputId": "2a93f234-336e-450e-aaf2-9b9c1fa65551"
      },
      "execution_count": null,
      "outputs": [
        {
          "output_type": "stream",
          "name": "stdout",
          "text": [
            "{'b', 'c', 'd', 'a', 'e'}\n"
          ]
        }
      ]
    },
    {
      "cell_type": "code",
      "source": [
        "s = 'abcdeabc'\n",
        "result = ''.join(dict.fromkeys(s))\n",
        "print(result)  # 'abcde'"
      ],
      "metadata": {
        "colab": {
          "base_uri": "https://localhost:8080/"
        },
        "id": "U6yfkiC1tJRV",
        "outputId": "b80f4d5d-ea8b-466d-91ea-fd872c3c3139"
      },
      "execution_count": null,
      "outputs": [
        {
          "output_type": "stream",
          "name": "stdout",
          "text": [
            "abcde\n"
          ]
        }
      ]
    },
    {
      "cell_type": "markdown",
      "source": [
        "# Уровень 2.2 (2!, 4!, 5!)"
      ],
      "metadata": {
        "id": "h7cWi7UewwPc"
      }
    },
    {
      "cell_type": "markdown",
      "source": [
        "**Дан список с числами. Подсчитайте количество отрицательных чисел в этом списке**"
      ],
      "metadata": {
        "id": "kHcUXpHAI7Uz"
      }
    },
    {
      "cell_type": "code",
      "source": [
        "count = 0\n",
        "lst = [6,-7,-9,1,-9]\n",
        "for i in lst:\n",
        "  if(i <= 0):\n",
        "    count += 1\n",
        "    print(count)\n"
      ],
      "metadata": {
        "colab": {
          "base_uri": "https://localhost:8080/"
        },
        "id": "BVXh56Y2I9eX",
        "outputId": "934a2dbf-d882-48fc-ef1a-1634127a5b77"
      },
      "execution_count": null,
      "outputs": [
        {
          "output_type": "stream",
          "name": "stdout",
          "text": [
            "1\n",
            "2\n",
            "3\n"
          ]
        }
      ]
    },
    {
      "cell_type": "markdown",
      "source": [
        "**Дан список с числами. Оставьте в нем только положительные числа**"
      ],
      "metadata": {
        "id": "Rd-XrdiBA1qX"
      }
    },
    {
      "cell_type": "code",
      "source": [
        "lst = [6,-7,-9,1,-9]\n",
        "lstt = []\n",
        "for i in lst:\n",
        "  if i > 0:\n",
        "    lstt.append(i)\n",
        "print(lstt)"
      ],
      "metadata": {
        "colab": {
          "base_uri": "https://localhost:8080/"
        },
        "id": "D5qFTwYZA9YU",
        "outputId": "fd89afdb-25e5-4d40-9e2a-e12f470417fe"
      },
      "execution_count": null,
      "outputs": [
        {
          "output_type": "stream",
          "name": "stdout",
          "text": [
            "[6, 1]\n"
          ]
        }
      ]
    },
    {
      "cell_type": "code",
      "source": [
        "lst = [6,-7,-9,1,-9]\n",
        "lstt = []\n",
        "for i in lst:\n",
        "    if i > 0:\n",
        "        lstt += [i]  # Note the brackets around i\n",
        "print(lstt)  # Output: [6, 1]"
      ],
      "metadata": {
        "colab": {
          "base_uri": "https://localhost:8080/"
        },
        "id": "wwr_gj4xCtOw",
        "outputId": "134b6631-8e92-48f6-faed-6a016f7a3b02"
      },
      "execution_count": null,
      "outputs": [
        {
          "output_type": "stream",
          "name": "stdout",
          "text": [
            "[6, 1]\n"
          ]
        }
      ]
    },
    {
      "cell_type": "markdown",
      "source": [
        "**Дана строка. Удалите предпоследний символ из этой строки**"
      ],
      "metadata": {
        "id": "azABvQlSDSS5"
      }
    },
    {
      "cell_type": "code",
      "source": [
        "srt = input('Enter a string: ')\n",
        "if len(srt) >= 2:\n",
        "    srt_1 = srt[:-2] + srt[-1]  # Remove second last character\n",
        "else:\n",
        "    srt_1 = srt  # String is too short to remove second last character\n",
        "\n",
        "print(srt_1)"
      ],
      "metadata": {
        "colab": {
          "base_uri": "https://localhost:8080/"
        },
        "id": "-e1U1LZIDWKc",
        "outputId": "dd266189-cf96-4f23-853b-f1055aead423"
      },
      "execution_count": null,
      "outputs": [
        {
          "output_type": "stream",
          "name": "stdout",
          "text": [
            "Enter a string: l;,\n",
            "l,\n"
          ]
        }
      ]
    },
    {
      "cell_type": "code",
      "source": [
        "srt = input('Enter a string: ')\n",
        "srt_1 = ''\n",
        "for index, char in enumerate(srt):\n",
        "    if index != len(srt) - 2:  # Skip the second last character\n",
        "        srt_1 += char\n",
        "\n",
        "print(srt_1)"
      ],
      "metadata": {
        "id": "orOgtZRMB7wJ"
      },
      "execution_count": null,
      "outputs": []
    },
    {
      "cell_type": "markdown",
      "source": [
        "**Дан список со строками. Оставьте в этом списке только те строки, которые заканчиваются на .html**"
      ],
      "metadata": {
        "id": "vDDyEhZVCj4Q"
      }
    },
    {
      "cell_type": "code",
      "source": [
        "strings = ['index.html', 'style.css', 'script.js', 'about.html', 'image.png']\n",
        "result = [s for s in strings if s.endswith('.html')]\n",
        "print(result)"
      ],
      "metadata": {
        "colab": {
          "base_uri": "https://localhost:8080/"
        },
        "id": "mxRpTLD5Cnfl",
        "outputId": "91bdd2d9-b555-48b2-e899-9dea2a31995d"
      },
      "execution_count": null,
      "outputs": [
        {
          "output_type": "stream",
          "name": "stdout",
          "text": [
            "['index.html', 'about.html']\n"
          ]
        }
      ]
    },
    {
      "cell_type": "markdown",
      "source": [
        "**Дан список с дробями:\n",
        "\n",
        "[1.456, 2.125, 3.32, 4.1, 5.34]\n",
        "Округлите эти дроби до одного знака в дробной части**"
      ],
      "metadata": {
        "id": "CXiQjBfiKKnm"
      }
    },
    {
      "cell_type": "code",
      "source": [
        "lst = [1.456, 2.125, 3.32, 4.1, 5.34]\n",
        "lst_1 = [round(d, 1) for d in lst]\n",
        "print(lst_1)"
      ],
      "metadata": {
        "colab": {
          "base_uri": "https://localhost:8080/"
        },
        "id": "Mop-5lsDj-Bv",
        "outputId": "a3030cbd-5dc8-4f3b-dc5a-4790744c84e2"
      },
      "execution_count": null,
      "outputs": [
        {
          "output_type": "stream",
          "name": "stdout",
          "text": [
            "[1.5, 2.1, 3.3, 4.1, 5.3]\n"
          ]
        }
      ]
    },
    {
      "cell_type": "markdown",
      "source": [
        "**Дан словарь:\n",
        "\n",
        "{\n",
        "\t'a': 1,\n",
        "\t'b': 2,\n",
        "\t'c': 3,\n",
        "\t'd': 4,\n",
        "}\n",
        "Получите список его значений:\n",
        "\n",
        "[1, 2, 3, 4]**"
      ],
      "metadata": {
        "id": "0W5Y5YEFm2sB"
      }
    },
    {
      "cell_type": "code",
      "source": [
        "dict = {\n",
        "\t'a': 1,\n",
        "\t'b': 2,\n",
        "\t'c': 3,\n",
        "\t'd': 4,\n",
        "}\n",
        "print(list(dict.values()))"
      ],
      "metadata": {
        "colab": {
          "base_uri": "https://localhost:8080/"
        },
        "id": "Rxg5wrcZm6KW",
        "outputId": "89c51f36-a512-4aaa-ed8a-7c437f7ae004"
      },
      "execution_count": null,
      "outputs": [
        {
          "output_type": "stream",
          "name": "stdout",
          "text": [
            "[1, 2, 3, 4]\n"
          ]
        }
      ]
    },
    {
      "cell_type": "markdown",
      "source": [
        "# Уровень 2.3(3!)"
      ],
      "metadata": {
        "id": "hj4xrIGunSq4"
      }
    },
    {
      "cell_type": "markdown",
      "source": [
        "**Даны два слова. Проверьте, что последняя буква первого слова совпадает с первой буквой второго слова**"
      ],
      "metadata": {
        "id": "c5T_OYP_nVhJ"
      }
    },
    {
      "cell_type": "code",
      "source": [
        "word_1 = input(\"enter the word: \")\n",
        "word_2 = input(\"enter the word: \")\n",
        "if word_1[-1] == word_2[0]:\n",
        "  print('the last word It matches is first word second word')\n",
        "else:\n",
        "  print('the last letter in a first word not matches the first letter a second word')\n",
        "\n"
      ],
      "metadata": {
        "colab": {
          "base_uri": "https://localhost:8080/"
        },
        "id": "1CmTKkTQndJ3",
        "outputId": "52f4a77e-6b4e-4bf0-fc51-43de4dabe56e"
      },
      "execution_count": null,
      "outputs": [
        {
          "output_type": "stream",
          "name": "stdout",
          "text": [
            "enter the word: gsg\n",
            "enter the word: ggsdffsfgsg\n",
            "the last word It matches is first word second word\n"
          ]
        }
      ]
    },
    {
      "cell_type": "markdown",
      "source": [
        "**Дана некоторая строка. Найдите позицию третьего нуля в строке**"
      ],
      "metadata": {
        "id": "_5IYps_xqlUY"
      }
    },
    {
      "cell_type": "code",
      "source": [
        "srt = input('enter string: ')\n",
        "count = 0\n",
        "for index, char in enumerate(srt):\n",
        "    if char == '0':\n",
        "      count += 1\n",
        "      if count == 3:\n",
        "          print(index)\n"
      ],
      "metadata": {
        "colab": {
          "base_uri": "https://localhost:8080/"
        },
        "id": "ni8-EAcxqme5",
        "outputId": "35aeb61d-3b87-408c-b866-49fee57bd6ea"
      },
      "execution_count": null,
      "outputs": [
        {
          "output_type": "stream",
          "name": "stdout",
          "text": [
            "enter string: rhr0hrt00h0hh\n",
            "8\n"
          ]
        }
      ]
    },
    {
      "cell_type": "markdown",
      "source": [
        "**Даны числа, разделенные запятыми:\n",
        "\n",
        "'12,34,56'\n",
        "Найдите сумму этих чисел**"
      ],
      "metadata": {
        "id": "rou3DYp3vWBp"
      }
    },
    {
      "cell_type": "code",
      "source": [
        "numbers_str = '12,34,56'\n",
        "sum_result = sum(int(x) for x in numbers_str.split(','))\n",
        "print(f\"Сумма чисел: {sum_result}\")"
      ],
      "metadata": {
        "colab": {
          "base_uri": "https://localhost:8080/"
        },
        "id": "x41V1dKyvcsa",
        "outputId": "1ae9163b-29dc-43fd-b6e5-bfb5228b7db3"
      },
      "execution_count": null,
      "outputs": [
        {
          "output_type": "stream",
          "name": "stdout",
          "text": [
            "Сумма чисел: 102\n"
          ]
        }
      ]
    },
    {
      "cell_type": "markdown",
      "source": [
        "**Дана дата в следующем формате:\n",
        "\n",
        "'2025-12-31'\n",
        "Преобразуйте эту дату в следующий словарь:\n",
        "\n",
        "{\n",
        "\t'year' : '2025',\n",
        "\t'month': '12',\n",
        "\t'day'  : '31',\n",
        "}**"
      ],
      "metadata": {
        "id": "87Cmhg9J0NNU"
      }
    },
    {
      "cell_type": "code",
      "source": [
        "data = '2025-12-31'\n",
        "dict_data = {\n",
        "'year' : data[0:4],\n",
        "'month': data[5:7],\n",
        "'day' : data[8:10]\n",
        "}\n",
        "print(dict_data)"
      ],
      "metadata": {
        "colab": {
          "base_uri": "https://localhost:8080/"
        },
        "id": "ammkasyJ0Q5g",
        "outputId": "e750c311-a99f-45da-f244-d54e347d9654"
      },
      "execution_count": null,
      "outputs": [
        {
          "output_type": "stream",
          "name": "stdout",
          "text": [
            "{'year': '2025', 'month': '12', 'day': '31'}\n"
          ]
        }
      ]
    },
    {
      "cell_type": "markdown",
      "source": [
        "**Дан словарь:\n",
        "\n",
        "{\n",
        "\t'a': 1,\n",
        "\t'b': 2,\n",
        "\t'c': 3,\n",
        "\t'd': 4,\n",
        "}\n",
        "Получите сет его значений:\n",
        "\n",
        "{1, 2, 3, 4}**"
      ],
      "metadata": {
        "id": "w8YSubF81gfO"
      }
    },
    {
      "cell_type": "code",
      "source": [
        "dict = {\n",
        "\t'a': 1,\n",
        "\t'b': 2,\n",
        "\t'c': 3,\n",
        "\t'd': 4,\n",
        "}\n",
        "print(set(dict.values()))"
      ],
      "metadata": {
        "colab": {
          "base_uri": "https://localhost:8080/"
        },
        "id": "7NaAc_Bj1i9g",
        "outputId": "44476867-c9ab-4207-afec-4cf5f5c9b607"
      },
      "execution_count": null,
      "outputs": [
        {
          "output_type": "stream",
          "name": "stdout",
          "text": [
            "{1, 2, 3, 4}\n"
          ]
        }
      ]
    },
    {
      "cell_type": "markdown",
      "source": [
        "# Уровень 2.4"
      ],
      "metadata": {
        "id": "hpjt-zOC16G0"
      }
    },
    {
      "cell_type": "markdown",
      "source": [
        "**Дана некоторая строка с буквами и цифрами. Получите позицию первой цифры в этой строке**"
      ],
      "metadata": {
        "id": "Go1hzhfp17MK"
      }
    },
    {
      "cell_type": "code",
      "source": [
        "srt = 'eeo95t4oij4otj4oip'\n",
        "count = 0\n",
        "for index, digit in enumerate(srt):\n",
        "  if digit.isdigit():\n",
        "    count += 1\n",
        "    if count == 1:\n",
        "     print(f'the position is a first digit in a string: {index}')"
      ],
      "metadata": {
        "colab": {
          "base_uri": "https://localhost:8080/"
        },
        "id": "12NYiZIV2DaK",
        "outputId": "7a7b872c-b7c8-4e11-b2be-978b656479c2"
      },
      "execution_count": null,
      "outputs": [
        {
          "output_type": "stream",
          "name": "stdout",
          "text": [
            "the position is a first digit in a string: 3\n"
          ]
        }
      ]
    },
    {
      "cell_type": "markdown",
      "source": [
        "**Дано число. Выведите в консоль количество четных цифр в этом числе**"
      ],
      "metadata": {
        "id": "niIPutxz6sFZ"
      }
    },
    {
      "cell_type": "code",
      "source": [
        "number = input('the enter is number: ')\n",
        "num = str(number)\n",
        "count = 0\n",
        "for n in num:\n",
        "  if int(n) % 2 == 0:\n",
        "    count += 1\n",
        "print(f'the count is even digit: {count}')\n"
      ],
      "metadata": {
        "colab": {
          "base_uri": "https://localhost:8080/"
        },
        "id": "iGKRKGTt6uM2",
        "outputId": "c088ec9b-2da6-461b-b8e0-5fbffe425517"
      },
      "execution_count": null,
      "outputs": [
        {
          "output_type": "stream",
          "name": "stdout",
          "text": [
            "the enter is number: 23456\n",
            "the count is event digit: 3\n"
          ]
        }
      ]
    },
    {
      "cell_type": "markdown",
      "source": [
        "**Дан словарь:\n",
        "\n",
        "{\n",
        "\t'a': 1,\n",
        "\t'b': 2,\n",
        "\t'c': 3,\n",
        "\t'd': 4,\n",
        "}\n",
        "Получите список его ключей:\n",
        "\n",
        "['a', 'b', 'c', 'd']**"
      ],
      "metadata": {
        "id": "2Al-no1d-ccv"
      }
    },
    {
      "cell_type": "code",
      "source": [
        "dict = {\n",
        "\t'a': 1,\n",
        "\t'b': 2,\n",
        "\t'c': 3,\n",
        "\t'd': 4,\n",
        "}\n",
        "print(list(dict.keys()))"
      ],
      "metadata": {
        "colab": {
          "base_uri": "https://localhost:8080/"
        },
        "id": "bzkTs9FH-ef5",
        "outputId": "c594fb85-5077-4341-87ce-9a3f8617539c"
      },
      "execution_count": null,
      "outputs": [
        {
          "output_type": "stream",
          "name": "stdout",
          "text": [
            "['a', 'b', 'c', 'd']\n"
          ]
        }
      ]
    },
    {
      "cell_type": "markdown",
      "source": [
        "**Дана некоторая строка:\n",
        "\n",
        "'abcde'\n",
        "Переведите в верхний регистр все нечетные буквы этой строки. В нашем случае должно получится следующее:\n",
        "\n",
        "'AbCdE'**"
      ],
      "metadata": {
        "id": "y4Y17HlU_jbo"
      }
    },
    {
      "cell_type": "code",
      "source": [
        "srt = 'abcde'\n",
        "mod_srt = ''\n",
        "for index, char in enumerate(srt):\n",
        "  if index % 2 == 0:\n",
        "    mod_srt += char.upper()\n",
        "  else:\n",
        "    mod_srt += char\n",
        "print(mod_srt)"
      ],
      "metadata": {
        "colab": {
          "base_uri": "https://localhost:8080/"
        },
        "id": "sGA9EFr__mtl",
        "outputId": "6656b9ab-7d31-4fd7-cf1c-bde34e4923ad"
      },
      "execution_count": null,
      "outputs": [
        {
          "output_type": "stream",
          "name": "stdout",
          "text": [
            "AbCdE\n"
          ]
        }
      ]
    },
    {
      "cell_type": "markdown",
      "source": [
        "**\n",
        "Дана некоторая строка со словами:\n",
        "\n",
        "'aaa bbb ccc'\n",
        "Сделайте заглавным первый символ каждого слова в этой строке. В нашем случае должно получится следующее:\n",
        "\n",
        "'Aaa Bbb Ccc'**"
      ],
      "metadata": {
        "id": "XnZR61fwCkml"
      }
    },
    {
      "cell_type": "code",
      "source": [
        "srt = 'aaa bbb ccc'\n",
        "mod_srt = ''\n",
        "for index, char in enumerate(srt):\n",
        "  if index == 0:\n",
        "   mod_srt += char.upper()\n",
        "  elif index == 4:\n",
        "    mod_srt += char.upper()\n",
        "  elif index == 8:\n",
        "    mod_srt += char.upper()\n",
        "  else:\n",
        "    mod_srt += char\n",
        "print(mod_srt)\n"
      ],
      "metadata": {
        "colab": {
          "base_uri": "https://localhost:8080/"
        },
        "id": "eMa5bnOpCsel",
        "outputId": "3616ab48-2564-4513-fd07-08f244164f68"
      },
      "execution_count": null,
      "outputs": [
        {
          "output_type": "stream",
          "name": "stdout",
          "text": [
            "Aaa Bbb Ccc\n"
          ]
        }
      ]
    },
    {
      "cell_type": "markdown",
      "source": [
        "**Дана дата в следующем формате:\n",
        "\n",
        "'2025-12-31'\n",
        "Преобразуйте эту дату в следующий кортеж:\n",
        "\n",
        "('31', '12', '2025')**"
      ],
      "metadata": {
        "id": "aFHla6lJy1am"
      }
    },
    {
      "cell_type": "code",
      "source": [
        "data = '2025-12-31'\n",
        "mod_data = {\n",
        "    'a' : data[8:10],\n",
        "    'b' : data[5:7],\n",
        "    'c' : data[0:4]\n",
        "}\n",
        "print(tuple(mod_data.values()))"
      ],
      "metadata": {
        "colab": {
          "base_uri": "https://localhost:8080/"
        },
        "id": "41YpFxnZzEex",
        "outputId": "47638bcc-0bb5-477a-c250-cbe3f2ae5a91"
      },
      "execution_count": 10,
      "outputs": [
        {
          "output_type": "stream",
          "name": "stdout",
          "text": [
            "('31', '12', '2025')\n"
          ]
        }
      ]
    },
    {
      "cell_type": "markdown",
      "source": [
        "# Уровень 2.5"
      ],
      "metadata": {
        "id": "7yn17jf73Kmj"
      }
    },
    {
      "cell_type": "markdown",
      "source": [
        "**Дана некоторая строка, например, вот такая:\n",
        "\n",
        "'023m0df0dfg0'\n",
        "Получите сет позиций всех нулей в этой в строке**"
      ],
      "metadata": {
        "id": "6ARaiAOi3M5w"
      }
    },
    {
      "cell_type": "code",
      "source": [
        "srt = '023m0df0dfg0'\n",
        "for index, digit in enumerate(srt):\n",
        "  if digit == '0':\n",
        "    print(index)"
      ],
      "metadata": {
        "colab": {
          "base_uri": "https://localhost:8080/"
        },
        "id": "b1o4IUOF3a94",
        "outputId": "c68e67d6-5718-4443-ae2f-d8fc056518a8"
      },
      "execution_count": 14,
      "outputs": [
        {
          "output_type": "stream",
          "name": "stdout",
          "text": [
            "0\n",
            "4\n",
            "7\n",
            "11\n"
          ]
        }
      ]
    },
    {
      "cell_type": "code",
      "source": [
        "srt = '023m0df0dfg0'\n",
        "\n",
        "# Находим все позиции символа '0'\n",
        "positions = []\n",
        "index = -1\n",
        "while True:\n",
        "    index = srt.find('0', index + 1)\n",
        "    if index == -1:\n",
        "        break\n",
        "    positions.append(index)\n",
        "\n",
        "# Выводим все позиции в нужном формате\n",
        "for i, pos in enumerate(positions, 1):\n",
        "    print(f\"Позиция {i}: {pos}\")"
      ],
      "metadata": {
        "colab": {
          "base_uri": "https://localhost:8080/"
        },
        "id": "PyIkuxkL5fWA",
        "outputId": "d22ca30e-cdef-44ac-bd02-c982e9b301d2"
      },
      "execution_count": 16,
      "outputs": [
        {
          "output_type": "stream",
          "name": "stdout",
          "text": [
            "Позиция 1: 0\n",
            "Позиция 2: 4\n",
            "Позиция 3: 7\n",
            "Позиция 4: 11\n"
          ]
        }
      ]
    },
    {
      "cell_type": "markdown",
      "source": [
        "**Дана некоторая строка:\n",
        "\n",
        "'abcdefg'\n",
        "Удалите из этой строки каждый третий символ. В нашем случае должно получится следующее:\n",
        "\n",
        "'abdeg'**"
      ],
      "metadata": {
        "id": "rU5e0me66WdC"
      }
    },
    {
      "cell_type": "code",
      "source": [
        "s = 'abcdefg'\n",
        "result = ''.join(char for index, char in enumerate(s) if (index + 1) % 3 != 0)\n",
        "print(result)  # 'abdeg'"
      ],
      "metadata": {
        "colab": {
          "base_uri": "https://localhost:8080/"
        },
        "id": "PR24DC0q6aTU",
        "outputId": "58ff3162-8b59-4abb-9ec9-a47789dc9f5e"
      },
      "execution_count": 38,
      "outputs": [
        {
          "output_type": "stream",
          "name": "stdout",
          "text": [
            "abdeg\n"
          ]
        }
      ]
    },
    {
      "cell_type": "markdown",
      "source": [
        "**Дан некоторый список, например, вот такой:\n",
        "\n",
        "[1, 2, 3, 4, 5, 6]\n",
        "Поделите сумму элементов, стоящих на четных позициях, на сумму элементов, стоящих на нечетных позициях**"
      ],
      "metadata": {
        "id": "NJZYL-7mBSG8"
      }
    },
    {
      "cell_type": "code",
      "source": [
        "lst = [1, 2, 3, 4, 5, 6]\n",
        "for index, digit in enumerate(lst):\n",
        "  if index % 2 != 0:\n",
        "    print(digit)\n"
      ],
      "metadata": {
        "colab": {
          "base_uri": "https://localhost:8080/"
        },
        "id": "65Y6K_ucX8HW",
        "outputId": "ded369b1-fabb-4a4c-b1db-9771c09d031d"
      },
      "execution_count": 14,
      "outputs": [
        {
          "output_type": "stream",
          "name": "stdout",
          "text": [
            "2\n",
            "4\n",
            "6\n"
          ]
        }
      ]
    },
    {
      "cell_type": "code",
      "source": [
        "lst = [1, 2, 3, 4, 5, 6]\n",
        "total = 0\n",
        "total1 = 0\n",
        "for index, digit in enumerate(lst):\n",
        "  if index % 2 == 0:\n",
        "     total += digit\n",
        "  elif index % 2 != 0:\n",
        "     total1 += digit\n",
        "print(total / total1)"
      ],
      "metadata": {
        "colab": {
          "base_uri": "https://localhost:8080/"
        },
        "id": "LJhH3dfvBZX6",
        "outputId": "98b0ce16-3687-4bf3-fd99-2fbb04f2ab0f"
      },
      "execution_count": 22,
      "outputs": [
        {
          "output_type": "stream",
          "name": "stdout",
          "text": [
            "0.75\n"
          ]
        }
      ]
    },
    {
      "cell_type": "markdown",
      "source": [
        "# Уровень 2.6"
      ],
      "metadata": {
        "id": "eJqQtBMneJXN"
      }
    },
    {
      "cell_type": "markdown",
      "source": [
        "**Дана некоторая строка с буквами и цифрами. Получите список позиций всех цифр из этой строки**"
      ],
      "metadata": {
        "id": "RHENYxATem0R"
      }
    },
    {
      "cell_type": "code",
      "source": [
        "srt = '023m0df0dfg0'\n",
        "for index, char in enumerate(srt):\n",
        "  if char.isdigit():\n",
        "    print(index)"
      ],
      "metadata": {
        "colab": {
          "base_uri": "https://localhost:8080/"
        },
        "id": "SqJ0wGEGer9u",
        "outputId": "28200dfc-7029-4bb0-b005-c2ccc324d6d0"
      },
      "execution_count": 24,
      "outputs": [
        {
          "output_type": "stream",
          "name": "stdout",
          "text": [
            "0\n",
            "1\n",
            "2\n",
            "4\n",
            "7\n",
            "11\n"
          ]
        }
      ]
    },
    {
      "cell_type": "markdown",
      "source": [
        "**Дана некоторая строка:\n",
        "\n",
        "'AbCdE'\n",
        "Смените регистр букв этой строки на противоположный. В нашем случае должно получится следующее:\n",
        "\n",
        "'aBcDe'**"
      ],
      "metadata": {
        "id": "kFzrJD4VgfXt"
      }
    },
    {
      "cell_type": "code",
      "source": [
        "srt = 'AbCdE'\n",
        "srt_m = ''\n",
        "for i in srt:\n",
        "  if i.isupper():\n",
        "    a =  i.lower()\n",
        "    srt_m += a\n",
        "  else:\n",
        "    m = i.upper()\n",
        "    srt_m += m\n",
        "print(srt_m)"
      ],
      "metadata": {
        "colab": {
          "base_uri": "https://localhost:8080/"
        },
        "id": "FA9WPVW-giqB",
        "outputId": "12903610-7182-4e3d-af11-f125d624a8a0"
      },
      "execution_count": 40,
      "outputs": [
        {
          "output_type": "stream",
          "name": "stdout",
          "text": [
            "aBcDe\n"
          ]
        }
      ]
    },
    {
      "cell_type": "markdown",
      "source": [
        "**Дан некоторый список с числами, например, вот такой:\n",
        "\n",
        "[1, 2, 3, 4, 5, 6]\n",
        "Слейте пары элементов вместе:\n",
        "\n",
        "[12, 34, 56]**"
      ],
      "metadata": {
        "id": "WxLyQrRKkAyb"
      }
    },
    {
      "cell_type": "code",
      "source": [
        "lst = [1, 2, 3, 4, 5, 6]\n",
        "\n",
        "# Разбиваем на пары: [1,3,5] и [2,4,6]\n",
        "pairs = zip(lst[::2], lst[1::2])\n",
        "\n",
        "# Объединяем каждую пару\n",
        "result = [int(str(x) + str(y)) for x, y in pairs]\n",
        "\n",
        "print(result)  # [12, 34, 56]"
      ],
      "metadata": {
        "colab": {
          "base_uri": "https://localhost:8080/"
        },
        "id": "spjGQBock3lZ",
        "outputId": "12ed1df6-59f2-49ae-aec7-e1ed71f9238a"
      },
      "execution_count": 48,
      "outputs": [
        {
          "output_type": "stream",
          "name": "stdout",
          "text": [
            "['12kl', 'k']\n"
          ]
        }
      ]
    },
    {
      "cell_type": "code",
      "source": [
        "lst = [1, 2, 3, 4, 5, 6]\n"
      ],
      "metadata": {
        "id": "yGEVwuo1kJdZ"
      },
      "execution_count": null,
      "outputs": []
    }
  ]
}