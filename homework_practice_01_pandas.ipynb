{
  "cells": [
    {
      "cell_type": "markdown",
      "metadata": {
        "id": "view-in-github",
        "colab_type": "text"
      },
      "source": [
        "<a href=\"https://colab.research.google.com/github/Tkaheva/Python/blob/main/homework_practice_01_pandas.ipynb\" target=\"_parent\"><img src=\"https://colab.research.google.com/assets/colab-badge.svg\" alt=\"Open In Colab\"/></a>"
      ]
    },
    {
      "cell_type": "markdown",
      "metadata": {
        "id": "HcF9My_FhLuk"
      },
      "source": [
        "## Современные методы анализа данных и машинного обучения\n",
        "\n",
        "## Лабораторная работа 1\n",
        "\n",
        "### Общая информация\n"
      ]
    },
    {
      "cell_type": "markdown",
      "metadata": {
        "id": "G64TptyJhLuo"
      },
      "source": [
        "### О задании\n",
        "\n",
        "Задание состоит из двух разделов, посвященных работе с табличными данными с помощью библиотеки pandas и визуализации с помощью matplotlib. В первом разделе вам предстоит выполнить базовые задания с помощью вышеуказанных библиотек, а во втором распределить студентов по курсам. Баллы даются за выполнение отдельных пунктов. Задачи в рамках одного раздела рекомендуется решать в том порядке, в котором они даны в задании.\n",
        "\n",
        "Задание направлено на освоение jupyter notebook (будет использоваться в дальнейших заданиях), библиотек pandas и matplotlib.\n",
        "\n"
      ]
    },
    {
      "cell_type": "markdown",
      "metadata": {
        "id": "BaXlfHE_hLup"
      },
      "source": [
        "## 0. Введение"
      ]
    },
    {
      "cell_type": "markdown",
      "metadata": {
        "id": "wirAvJNxhLup"
      },
      "source": [
        "Сейчас мы находимся в jupyter-ноутбуке (или ipython-ноутбуке). Это удобная среда для написания кода, проведения экспериментов, изучения данных, построения визуализаций и других нужд, не связанных с написанием production-кода.\n",
        "\n",
        "Ноутбук состоит из ячеек, каждая из которых может быть либо ячейкой с кодом, либо ячейкой с текстом размеченным и неразмеченным. Текст поддерживает markdown-разметку и формулы в Latex.\n",
        "\n",
        "Для работы с содержимым ячейки используется *режим редактирования* (*Edit mode*, включается нажатием клавиши **Enter** после выбора ячейки), а для навигации между ячейками искользуется *командный режим* (*Command mode*, включается нажатием клавиши **Esc**). Тип ячейки можно задать в командном режиме либо с помощью горячих клавиш (**y** to code, **m** to markdown, **r** to edit raw text), либо в меню *Cell -> Cell type*.\n",
        "\n",
        "После заполнения ячейки нужно нажать *Shift + Enter*, эта команда обработает содержимое ячейки: проинтерпретирует код или сверстает размеченный текст."
      ]
    },
    {
      "cell_type": "code",
      "execution_count": null,
      "metadata": {
        "id": "aQ2_j3nkhLuq"
      },
      "outputs": [],
      "source": [
        "# ячейка с кодом, при выполнении которой появится output\n",
        "2 + 2"
      ]
    },
    {
      "cell_type": "markdown",
      "metadata": {
        "id": "ZlulCwVKhLur"
      },
      "source": [
        "Ячейка с неразмеченным текстом."
      ]
    },
    {
      "cell_type": "markdown",
      "metadata": {
        "id": "A4wkVlIehLur"
      },
      "source": [
        "Попробуйте создать свои ячейки, написать какой-нибудь код и текст какой-нибудь формулой."
      ]
    },
    {
      "cell_type": "code",
      "execution_count": null,
      "metadata": {
        "id": "BIuaYSvqhLus"
      },
      "outputs": [],
      "source": [
        "# your code"
      ]
    },
    {
      "cell_type": "markdown",
      "metadata": {
        "id": "iWs6ljrIhLus"
      },
      "source": [
        "[Здесь](https://athena.brynmawr.edu/jupyter/hub/dblank/public/Jupyter%20Notebook%20Users%20Manual.ipynb) находится <s>не</s>большая заметка о используемом языке разметки Markdown. Он позволяет:\n",
        "\n",
        "0. Составлять упорядоченные списки\n",
        "1. Выделять *текст* <s>при</s> **необходимости**\n",
        "2. Добавлять [ссылки](http://imgs.xkcd.com/comics/the_universal_label.png)\n",
        "\n",
        "\n",
        "* Составлять неупорядоченные списки\n",
        "\n",
        "Делать вставки с помощью LaTex:\n",
        "    \n",
        "$\n",
        "\\left\\{\n",
        "\\begin{array}{ll}\n",
        "x = 16 \\sin^3 (t) \\\\\n",
        "y = 13 \\cos (t) - 5 \\cos (2t) - 2 \\cos (3t) - \\cos (4t) \\\\\n",
        "t \\in [0, 2 \\pi]\n",
        "\\end{array}\n",
        "\\right.$"
      ]
    },
    {
      "cell_type": "markdown",
      "metadata": {
        "id": "6fmTGcXOhLus"
      },
      "source": [
        "А ещё можно вставлять картинки, или гифки, или что захотите:\n",
        "\n",
        "<img src=\"https://media1.tenor.com/images/9b8fbe9214504bcf6c60fe4e4f7e114e/tenor.gif?itemid=5416416\" style=\"width: 400px\">"
      ]
    },
    {
      "cell_type": "markdown",
      "metadata": {
        "id": "J_toGw7DhLut"
      },
      "source": [
        "### Google Colab"
      ]
    },
    {
      "cell_type": "markdown",
      "metadata": {
        "id": "jpkbCVjGhLut"
      },
      "source": [
        "Что за колаб?\n",
        "\n",
        "**Google Colab (Colaboratory)** это **Jupyter Notebook + Cloud + Google Drive.**\n",
        "\n",
        "Компания Google предоставляет возможность бесплатно запускать ноутбуки (предварительно загрузив их на свой гугл-диск) прямо в облаке. При этом вам не требуется установка никаких пакетов на свою машину, а работать можно прямиком из браузера. Вот ссылка:"
      ]
    },
    {
      "cell_type": "markdown",
      "metadata": {
        "id": "06MQog3yhLut"
      },
      "source": [
        "https://colab.research.google.com"
      ]
    },
    {
      "cell_type": "markdown",
      "metadata": {
        "id": "5_hfWXKPhLut"
      },
      "source": [
        "При использовании вы увидете много сходств с jupyter ноутбуком. Одним из преимуществ является доступность GPU, соответствующую опцию можно активировать в настройках сервиса. При желании вы сможете найти в интернете много туториалов по использованию или разобраться самостоятельно =)"
      ]
    },
    {
      "cell_type": "markdown",
      "metadata": {
        "id": "sUe2vnFGhLuu"
      },
      "source": [
        "## 1. Табличные данные и Pandas"
      ]
    },
    {
      "cell_type": "markdown",
      "metadata": {
        "id": "DJQzjjqJhLuu"
      },
      "source": [
        "Pandas — удобная библиотека для работы с табличными данными в Python, если данных не слишком много и они помещаются в оперативную память вашего компьютера. Несмотря на неэффективность реализации и некоторые проблемы, библиотека стала стандартом в анализе данных.\n",
        "\n",
        "Основной объект в pandas — это DataFrame, представляющий собой таблицу с именованными колонками различных типов, индексом (может быть многоуровневым). DataFrame можно создавать, считывая таблицу из файла или задавая вручную из других объектов.\n",
        "\n",
        "В этой части потребуется выполнить несколько небольших заданий. Можно пойти двумя путями: сначала изучить материалы, а потом приступить к заданиям, или же разбираться \"по ходу\". Выбирайте сами.\n",
        "\n",
        "Материалы:\n",
        "1. [Pandas за 10 минут из официального руководства](http://pandas.pydata.org/pandas-docs/stable/10min.html)\n",
        "2. [Документация](http://pandas.pydata.org/pandas-docs/stable/index.html) (стоит обращаться, если не понятно, как вызывать конкретный метод)\n",
        "3. [Примеры использования функционала](http://nbviewer.jupyter.org/github/justmarkham/pandas-videos/blob/master/pandas.ipynb)\n",
        "\n",
        "Многие из заданий можно выполнить несколькими способами. Не существуют единственно верного, но попробуйте максимально задействовать арсенал pandas и ориентируйтесь на простоту и понятность вашего кода. Мы не будем подсказывать, что нужно использовать для решения конкретной задачи, попробуйте находить необходимый функционал сами (название метода чаще всего очевидно). В помощь вам документация, поиск и stackoverflow."
      ]
    },
    {
      "cell_type": "code",
      "execution_count": 9,
      "metadata": {
        "id": "26zbFY25hLuv",
        "outputId": "34636c65-79c3-4ff3-ff03-079ce8294b25",
        "colab": {
          "base_uri": "https://localhost:8080/"
        }
      },
      "outputs": [
        {
          "output_type": "stream",
          "name": "stdout",
          "text": [
            "Populating the interactive namespace from numpy and matplotlib\n"
          ]
        }
      ],
      "source": [
        "%pylab inline\n",
        "import pandas as pd"
      ]
    },
    {
      "cell_type": "markdown",
      "metadata": {
        "id": "RAvMaEDQKmY4"
      },
      "source": [
        "<span style=\"color:red\">Перед выполнением задания необходимо ознакомиться с первым семинаром (seminars/sem01-pandas.ipynb) </span>.\n",
        "\n",
        "Это поможет вам получить общее понимание происходяшего и успешнее справиться с заданием.\n",
        "\n",
        "Также успешному выполнению способствует внимательное чтение текста задания от начала до конца.\n",
        "\n",
        "Удачи!"
      ]
    },
    {
      "cell_type": "markdown",
      "metadata": {
        "id": "dneJl9TyhLuv"
      },
      "source": [
        "Скачаем подготовленные на семинаре данные:"
      ]
    },
    {
      "cell_type": "code",
      "execution_count": 6,
      "metadata": {
        "id": "rj_I0RslhLuw"
      },
      "outputs": [],
      "source": [
        "!wget  -O 'end_seminar.xlsx' -q 'https://www.dropbox.com/s/f4rm8sjc3v99p0m/_end_seminar.xlsx?dl=0'"
      ]
    },
    {
      "cell_type": "markdown",
      "metadata": {
        "id": "5hp7bn_ThLuw"
      },
      "source": [
        "Для пользователей Windows: скачайте файл самостоятельно и поместите его в папку с тетрадкой. Или попробуйте один из следующих вариантов:"
      ]
    },
    {
      "cell_type": "code",
      "execution_count": null,
      "metadata": {
        "id": "4h4_BaX8hLuw"
      },
      "outputs": [],
      "source": [
        "# !powershell iwr -outf somefile https://somesite/somefile"
      ]
    },
    {
      "cell_type": "code",
      "execution_count": 7,
      "metadata": {
        "id": "7bHroLGChLuw",
        "colab": {
          "base_uri": "https://localhost:8080/",
          "height": 53
        },
        "outputId": "3dfbc02c-9d4e-48f7-eef5-65b8db2e7642"
      },
      "outputs": [
        {
          "output_type": "stream",
          "name": "stdout",
          "text": [
            "Requirement already satisfied: wget in /usr/local/lib/python3.12/dist-packages (3.2)\n"
          ]
        },
        {
          "output_type": "execute_result",
          "data": {
            "text/plain": [
              "'end_seminar (2).xlsx'"
            ],
            "application/vnd.google.colaboratory.intrinsic+json": {
              "type": "string"
            }
          },
          "metadata": {},
          "execution_count": 7
        }
      ],
      "source": [
        "!pip install wget\n",
        "import wget\n",
        "wget.download('https://dropbox.com/s/f4rm8sjc3v99p0m/_end_seminar.xlsx?dl=1', 'end_seminar.xlsx')"
      ]
    },
    {
      "cell_type": "markdown",
      "metadata": {
        "id": "VFs_6IythLux"
      },
      "source": [
        "##### В первой части задания (до раздела \"Распределение студентов по курсам\") использование циклов запрещается и повлечет за собой снижение оценки. Использование <code>vectorize</code> и  <code>apply</code>, <code>apply_along_axis</code> крайне нежелательно."
      ]
    },
    {
      "cell_type": "markdown",
      "metadata": {
        "id": "shFkfJkohLux"
      },
      "source": [
        "Для каждой задачи из этого раздела вы должны написать код для получения ответа, а также дать текстовый ответ, если он предполагается.\n",
        "\n",
        "На некоторые вопросы вы можете получить путём пристального взгляда на таблицу, но это не будет засчитываться. Вы в любом случае должны получить ответ с помощью кода."
      ]
    },
    {
      "cell_type": "markdown",
      "metadata": {
        "id": "gDD85M7bhLux"
      },
      "source": [
        "#### 1. [0 баллов] Откройте файл с таблицей (не забудьте про её формат). Выведите последние 10 строк.\n",
        "\n",
        "Посмотрите на данные и скажите, что они из себя представляют, сколько в таблице строк, какие столбцы? (на это не надо отвечать, просто подумайте об этом)"
      ]
    },
    {
      "cell_type": "code",
      "execution_count": 10,
      "metadata": {
        "id": "PKulur3LhLuy",
        "outputId": "9542ad66-9d42-4a25-ff7e-6d7fa27ee4ae",
        "colab": {
          "base_uri": "https://localhost:8080/",
          "height": 756
        }
      },
      "outputs": [
        {
          "output_type": "execute_result",
          "data": {
            "text/plain": [
              "                  timestamp                                id  rating  \\\n",
              "0   2020-05-15 01:12:50.543  93ff79a51cd602f1dd3028ba2c129503     698   \n",
              "1   2020-05-15 02:46:48.066  26b01b1c4cd5656bab18d24c548834fb     647   \n",
              "2   2020-05-15 03:12:41.480  30f3653fc176d54e89ac3179c455c6dd     624   \n",
              "3   2020-05-15 04:43:08.994  1528f0eaa027580820ccf0d92a53ad68     579   \n",
              "4   2020-05-15 07:47:17.197  496ea4f0d4abe264b1bb1b80eb3830c5     572   \n",
              "..                      ...                               ...     ...   \n",
              "356 2020-05-19 19:04:17.873  c5870b37ee3f672e4259dfb2fc02ed8f    1029   \n",
              "357 2020-05-19 20:19:25.815  f44aea1095f9f5b8e2f5f0ed2b17891b    1060   \n",
              "358 2020-05-20 11:54:38.318  d7118b44c7e8fdbbaaca226d2da6fef1    1111   \n",
              "359 2020-05-23 21:16:40.916  79d14db48e4737af731960ae212d5134     966   \n",
              "360 2020-05-23 21:16:40.916  f2d210ace25a841e1e58036b257d5d47    1195   \n",
              "\n",
              "     18_group  is_mi                                           fall_1  \\\n",
              "0       181.0    NaN                                         Язык SQL   \n",
              "1       181.0    NaN                Высокопроизводительные вычисления   \n",
              "2       185.0    NaN                 Безопасность компьютерных систем   \n",
              "3       182.0    NaN                      Statistical Learning Theory   \n",
              "4       183.0    NaN                Высокопроизводительные вычисления   \n",
              "..        ...    ...                                              ...   \n",
              "356       NaN    NaN                      Statistical Learning Theory   \n",
              "357       NaN    NaN                Анализ неструктурированных данных   \n",
              "358       NaN    NaN  Сбор и обработка данных с помощью краудсорсинга   \n",
              "359       NaN    NaN                 Безопасность компьютерных систем   \n",
              "360       NaN    NaN                Анализ неструктурированных данных   \n",
              "\n",
              "                                                fall_2  \\\n",
              "0                    Высокопроизводительные вычисления   \n",
              "1                     Безопасность компьютерных систем   \n",
              "2                                 Матричные вычисления   \n",
              "3                    Высокопроизводительные вычисления   \n",
              "4                     Безопасность компьютерных систем   \n",
              "..                                                 ...   \n",
              "356                  Анализ неструктурированных данных   \n",
              "357                  Высокопроизводительные вычисления   \n",
              "358                        Statistical Learning Theory   \n",
              "359  Принятие решений в условиях риска и неопределё...   \n",
              "360                      Моделирование временных рядов   \n",
              "\n",
              "                                              fall_3  \\\n",
              "0                               Матричные вычисления   \n",
              "1                                           Язык SQL   \n",
              "2                      Моделирование временных рядов   \n",
              "3                               Матричные вычисления   \n",
              "4                                  Теория баз данных   \n",
              "..                                               ...   \n",
              "356  Сбор и обработка данных с помощью краудсорсинга   \n",
              "357                    Моделирование временных рядов   \n",
              "358                Анализ неструктурированных данных   \n",
              "359                Анализ неструктурированных данных   \n",
              "360                Высокопроизводительные вычисления   \n",
              "\n",
              "                                              spring_1  \\\n",
              "0                               Дискретная оптимизация   \n",
              "1                               Дискретная оптимизация   \n",
              "2                               Дискретная оптимизация   \n",
              "3                               Дискретная оптимизация   \n",
              "4                                    Компьютерные сети   \n",
              "..                                                 ...   \n",
              "356                           Обучение с подкреплением   \n",
              "357                             Конфликты и кооперация   \n",
              "358  Проектирование и разработка высоконагруженных ...   \n",
              "359  Проектирование и разработка высоконагруженных ...   \n",
              "360                           Обучение с подкреплением   \n",
              "\n",
              "                                 spring_2  \\\n",
              "0                        Численные методы   \n",
              "1                        Численные методы   \n",
              "2                     Машинное обучение 2   \n",
              "3                        Численные методы   \n",
              "4                  Дискретная оптимизация   \n",
              "..                                    ...   \n",
              "356                Конфликты и кооперация   \n",
              "357              Обучение с подкреплением   \n",
              "358  Методы сжатия и передачи медиаданных   \n",
              "359  Методы сжатия и передачи медиаданных   \n",
              "360                   Компьютерное зрение   \n",
              "\n",
              "                                 spring_3 is_first_time  percentile  17_group  \\\n",
              "0                     Машинное обучение 2            Да    0.183857       NaN   \n",
              "1                     Машинное обучение 2           Нет    0.426009       NaN   \n",
              "2                        Численные методы            Да    0.538117       NaN   \n",
              "3                     Машинное обучение 2            Да    0.744395       NaN   \n",
              "4                        Численные методы            Да    0.780269       NaN   \n",
              "..                                    ...           ...         ...       ...   \n",
              "356                   Компьютерное зрение            Да    0.920290     174.0   \n",
              "357                      Численные методы            Да    0.840580     174.0   \n",
              "358                      Численные методы            Да    0.652174     173.0   \n",
              "359                   Компьютерное зрение            Да    0.985507     172.0   \n",
              "360  Методы сжатия и передачи медиаданных           NaN    0.369565     176.0   \n",
              "\n",
              "                            blended  is_ml_student  \n",
              "0                               NaN            NaN  \n",
              "1                               NaN            NaN  \n",
              "2                               NaN            NaN  \n",
              "3                               NaN            NaN  \n",
              "4                               NaN            NaN  \n",
              "..                              ...            ...  \n",
              "356                          DevOps            NaN  \n",
              "357                          DevOps            NaN  \n",
              "358  Соревновательный анализ данных            NaN  \n",
              "359                          DevOps            NaN  \n",
              "360  Соревновательный анализ данных            NaN  \n",
              "\n",
              "[361 rows x 16 columns]"
            ],
            "text/html": [
              "\n",
              "  <div id=\"df-8c81e644-66a9-4750-ba65-03ee8ffe0dc9\" class=\"colab-df-container\">\n",
              "    <div>\n",
              "<style scoped>\n",
              "    .dataframe tbody tr th:only-of-type {\n",
              "        vertical-align: middle;\n",
              "    }\n",
              "\n",
              "    .dataframe tbody tr th {\n",
              "        vertical-align: top;\n",
              "    }\n",
              "\n",
              "    .dataframe thead th {\n",
              "        text-align: right;\n",
              "    }\n",
              "</style>\n",
              "<table border=\"1\" class=\"dataframe\">\n",
              "  <thead>\n",
              "    <tr style=\"text-align: right;\">\n",
              "      <th></th>\n",
              "      <th>timestamp</th>\n",
              "      <th>id</th>\n",
              "      <th>rating</th>\n",
              "      <th>18_group</th>\n",
              "      <th>is_mi</th>\n",
              "      <th>fall_1</th>\n",
              "      <th>fall_2</th>\n",
              "      <th>fall_3</th>\n",
              "      <th>spring_1</th>\n",
              "      <th>spring_2</th>\n",
              "      <th>spring_3</th>\n",
              "      <th>is_first_time</th>\n",
              "      <th>percentile</th>\n",
              "      <th>17_group</th>\n",
              "      <th>blended</th>\n",
              "      <th>is_ml_student</th>\n",
              "    </tr>\n",
              "  </thead>\n",
              "  <tbody>\n",
              "    <tr>\n",
              "      <th>0</th>\n",
              "      <td>2020-05-15 01:12:50.543</td>\n",
              "      <td>93ff79a51cd602f1dd3028ba2c129503</td>\n",
              "      <td>698</td>\n",
              "      <td>181.0</td>\n",
              "      <td>NaN</td>\n",
              "      <td>Язык SQL</td>\n",
              "      <td>Высокопроизводительные вычисления</td>\n",
              "      <td>Матричные вычисления</td>\n",
              "      <td>Дискретная оптимизация</td>\n",
              "      <td>Численные методы</td>\n",
              "      <td>Машинное обучение 2</td>\n",
              "      <td>Да</td>\n",
              "      <td>0.183857</td>\n",
              "      <td>NaN</td>\n",
              "      <td>NaN</td>\n",
              "      <td>NaN</td>\n",
              "    </tr>\n",
              "    <tr>\n",
              "      <th>1</th>\n",
              "      <td>2020-05-15 02:46:48.066</td>\n",
              "      <td>26b01b1c4cd5656bab18d24c548834fb</td>\n",
              "      <td>647</td>\n",
              "      <td>181.0</td>\n",
              "      <td>NaN</td>\n",
              "      <td>Высокопроизводительные вычисления</td>\n",
              "      <td>Безопасность компьютерных систем</td>\n",
              "      <td>Язык SQL</td>\n",
              "      <td>Дискретная оптимизация</td>\n",
              "      <td>Численные методы</td>\n",
              "      <td>Машинное обучение 2</td>\n",
              "      <td>Нет</td>\n",
              "      <td>0.426009</td>\n",
              "      <td>NaN</td>\n",
              "      <td>NaN</td>\n",
              "      <td>NaN</td>\n",
              "    </tr>\n",
              "    <tr>\n",
              "      <th>2</th>\n",
              "      <td>2020-05-15 03:12:41.480</td>\n",
              "      <td>30f3653fc176d54e89ac3179c455c6dd</td>\n",
              "      <td>624</td>\n",
              "      <td>185.0</td>\n",
              "      <td>NaN</td>\n",
              "      <td>Безопасность компьютерных систем</td>\n",
              "      <td>Матричные вычисления</td>\n",
              "      <td>Моделирование временных рядов</td>\n",
              "      <td>Дискретная оптимизация</td>\n",
              "      <td>Машинное обучение 2</td>\n",
              "      <td>Численные методы</td>\n",
              "      <td>Да</td>\n",
              "      <td>0.538117</td>\n",
              "      <td>NaN</td>\n",
              "      <td>NaN</td>\n",
              "      <td>NaN</td>\n",
              "    </tr>\n",
              "    <tr>\n",
              "      <th>3</th>\n",
              "      <td>2020-05-15 04:43:08.994</td>\n",
              "      <td>1528f0eaa027580820ccf0d92a53ad68</td>\n",
              "      <td>579</td>\n",
              "      <td>182.0</td>\n",
              "      <td>NaN</td>\n",
              "      <td>Statistical Learning Theory</td>\n",
              "      <td>Высокопроизводительные вычисления</td>\n",
              "      <td>Матричные вычисления</td>\n",
              "      <td>Дискретная оптимизация</td>\n",
              "      <td>Численные методы</td>\n",
              "      <td>Машинное обучение 2</td>\n",
              "      <td>Да</td>\n",
              "      <td>0.744395</td>\n",
              "      <td>NaN</td>\n",
              "      <td>NaN</td>\n",
              "      <td>NaN</td>\n",
              "    </tr>\n",
              "    <tr>\n",
              "      <th>4</th>\n",
              "      <td>2020-05-15 07:47:17.197</td>\n",
              "      <td>496ea4f0d4abe264b1bb1b80eb3830c5</td>\n",
              "      <td>572</td>\n",
              "      <td>183.0</td>\n",
              "      <td>NaN</td>\n",
              "      <td>Высокопроизводительные вычисления</td>\n",
              "      <td>Безопасность компьютерных систем</td>\n",
              "      <td>Теория баз данных</td>\n",
              "      <td>Компьютерные сети</td>\n",
              "      <td>Дискретная оптимизация</td>\n",
              "      <td>Численные методы</td>\n",
              "      <td>Да</td>\n",
              "      <td>0.780269</td>\n",
              "      <td>NaN</td>\n",
              "      <td>NaN</td>\n",
              "      <td>NaN</td>\n",
              "    </tr>\n",
              "    <tr>\n",
              "      <th>...</th>\n",
              "      <td>...</td>\n",
              "      <td>...</td>\n",
              "      <td>...</td>\n",
              "      <td>...</td>\n",
              "      <td>...</td>\n",
              "      <td>...</td>\n",
              "      <td>...</td>\n",
              "      <td>...</td>\n",
              "      <td>...</td>\n",
              "      <td>...</td>\n",
              "      <td>...</td>\n",
              "      <td>...</td>\n",
              "      <td>...</td>\n",
              "      <td>...</td>\n",
              "      <td>...</td>\n",
              "      <td>...</td>\n",
              "    </tr>\n",
              "    <tr>\n",
              "      <th>356</th>\n",
              "      <td>2020-05-19 19:04:17.873</td>\n",
              "      <td>c5870b37ee3f672e4259dfb2fc02ed8f</td>\n",
              "      <td>1029</td>\n",
              "      <td>NaN</td>\n",
              "      <td>NaN</td>\n",
              "      <td>Statistical Learning Theory</td>\n",
              "      <td>Анализ неструктурированных данных</td>\n",
              "      <td>Сбор и обработка данных с помощью краудсорсинга</td>\n",
              "      <td>Обучение с подкреплением</td>\n",
              "      <td>Конфликты и кооперация</td>\n",
              "      <td>Компьютерное зрение</td>\n",
              "      <td>Да</td>\n",
              "      <td>0.920290</td>\n",
              "      <td>174.0</td>\n",
              "      <td>DevOps</td>\n",
              "      <td>NaN</td>\n",
              "    </tr>\n",
              "    <tr>\n",
              "      <th>357</th>\n",
              "      <td>2020-05-19 20:19:25.815</td>\n",
              "      <td>f44aea1095f9f5b8e2f5f0ed2b17891b</td>\n",
              "      <td>1060</td>\n",
              "      <td>NaN</td>\n",
              "      <td>NaN</td>\n",
              "      <td>Анализ неструктурированных данных</td>\n",
              "      <td>Высокопроизводительные вычисления</td>\n",
              "      <td>Моделирование временных рядов</td>\n",
              "      <td>Конфликты и кооперация</td>\n",
              "      <td>Обучение с подкреплением</td>\n",
              "      <td>Численные методы</td>\n",
              "      <td>Да</td>\n",
              "      <td>0.840580</td>\n",
              "      <td>174.0</td>\n",
              "      <td>DevOps</td>\n",
              "      <td>NaN</td>\n",
              "    </tr>\n",
              "    <tr>\n",
              "      <th>358</th>\n",
              "      <td>2020-05-20 11:54:38.318</td>\n",
              "      <td>d7118b44c7e8fdbbaaca226d2da6fef1</td>\n",
              "      <td>1111</td>\n",
              "      <td>NaN</td>\n",
              "      <td>NaN</td>\n",
              "      <td>Сбор и обработка данных с помощью краудсорсинга</td>\n",
              "      <td>Statistical Learning Theory</td>\n",
              "      <td>Анализ неструктурированных данных</td>\n",
              "      <td>Проектирование и разработка высоконагруженных ...</td>\n",
              "      <td>Методы сжатия и передачи медиаданных</td>\n",
              "      <td>Численные методы</td>\n",
              "      <td>Да</td>\n",
              "      <td>0.652174</td>\n",
              "      <td>173.0</td>\n",
              "      <td>Соревновательный анализ данных</td>\n",
              "      <td>NaN</td>\n",
              "    </tr>\n",
              "    <tr>\n",
              "      <th>359</th>\n",
              "      <td>2020-05-23 21:16:40.916</td>\n",
              "      <td>79d14db48e4737af731960ae212d5134</td>\n",
              "      <td>966</td>\n",
              "      <td>NaN</td>\n",
              "      <td>NaN</td>\n",
              "      <td>Безопасность компьютерных систем</td>\n",
              "      <td>Принятие решений в условиях риска и неопределё...</td>\n",
              "      <td>Анализ неструктурированных данных</td>\n",
              "      <td>Проектирование и разработка высоконагруженных ...</td>\n",
              "      <td>Методы сжатия и передачи медиаданных</td>\n",
              "      <td>Компьютерное зрение</td>\n",
              "      <td>Да</td>\n",
              "      <td>0.985507</td>\n",
              "      <td>172.0</td>\n",
              "      <td>DevOps</td>\n",
              "      <td>NaN</td>\n",
              "    </tr>\n",
              "    <tr>\n",
              "      <th>360</th>\n",
              "      <td>2020-05-23 21:16:40.916</td>\n",
              "      <td>f2d210ace25a841e1e58036b257d5d47</td>\n",
              "      <td>1195</td>\n",
              "      <td>NaN</td>\n",
              "      <td>NaN</td>\n",
              "      <td>Анализ неструктурированных данных</td>\n",
              "      <td>Моделирование временных рядов</td>\n",
              "      <td>Высокопроизводительные вычисления</td>\n",
              "      <td>Обучение с подкреплением</td>\n",
              "      <td>Компьютерное зрение</td>\n",
              "      <td>Методы сжатия и передачи медиаданных</td>\n",
              "      <td>NaN</td>\n",
              "      <td>0.369565</td>\n",
              "      <td>176.0</td>\n",
              "      <td>Соревновательный анализ данных</td>\n",
              "      <td>NaN</td>\n",
              "    </tr>\n",
              "  </tbody>\n",
              "</table>\n",
              "<p>361 rows × 16 columns</p>\n",
              "</div>\n",
              "    <div class=\"colab-df-buttons\">\n",
              "\n",
              "  <div class=\"colab-df-container\">\n",
              "    <button class=\"colab-df-convert\" onclick=\"convertToInteractive('df-8c81e644-66a9-4750-ba65-03ee8ffe0dc9')\"\n",
              "            title=\"Convert this dataframe to an interactive table.\"\n",
              "            style=\"display:none;\">\n",
              "\n",
              "  <svg xmlns=\"http://www.w3.org/2000/svg\" height=\"24px\" viewBox=\"0 -960 960 960\">\n",
              "    <path d=\"M120-120v-720h720v720H120Zm60-500h600v-160H180v160Zm220 220h160v-160H400v160Zm0 220h160v-160H400v160ZM180-400h160v-160H180v160Zm440 0h160v-160H620v160ZM180-180h160v-160H180v160Zm440 0h160v-160H620v160Z\"/>\n",
              "  </svg>\n",
              "    </button>\n",
              "\n",
              "  <style>\n",
              "    .colab-df-container {\n",
              "      display:flex;\n",
              "      gap: 12px;\n",
              "    }\n",
              "\n",
              "    .colab-df-convert {\n",
              "      background-color: #E8F0FE;\n",
              "      border: none;\n",
              "      border-radius: 50%;\n",
              "      cursor: pointer;\n",
              "      display: none;\n",
              "      fill: #1967D2;\n",
              "      height: 32px;\n",
              "      padding: 0 0 0 0;\n",
              "      width: 32px;\n",
              "    }\n",
              "\n",
              "    .colab-df-convert:hover {\n",
              "      background-color: #E2EBFA;\n",
              "      box-shadow: 0px 1px 2px rgba(60, 64, 67, 0.3), 0px 1px 3px 1px rgba(60, 64, 67, 0.15);\n",
              "      fill: #174EA6;\n",
              "    }\n",
              "\n",
              "    .colab-df-buttons div {\n",
              "      margin-bottom: 4px;\n",
              "    }\n",
              "\n",
              "    [theme=dark] .colab-df-convert {\n",
              "      background-color: #3B4455;\n",
              "      fill: #D2E3FC;\n",
              "    }\n",
              "\n",
              "    [theme=dark] .colab-df-convert:hover {\n",
              "      background-color: #434B5C;\n",
              "      box-shadow: 0px 1px 3px 1px rgba(0, 0, 0, 0.15);\n",
              "      filter: drop-shadow(0px 1px 2px rgba(0, 0, 0, 0.3));\n",
              "      fill: #FFFFFF;\n",
              "    }\n",
              "  </style>\n",
              "\n",
              "    <script>\n",
              "      const buttonEl =\n",
              "        document.querySelector('#df-8c81e644-66a9-4750-ba65-03ee8ffe0dc9 button.colab-df-convert');\n",
              "      buttonEl.style.display =\n",
              "        google.colab.kernel.accessAllowed ? 'block' : 'none';\n",
              "\n",
              "      async function convertToInteractive(key) {\n",
              "        const element = document.querySelector('#df-8c81e644-66a9-4750-ba65-03ee8ffe0dc9');\n",
              "        const dataTable =\n",
              "          await google.colab.kernel.invokeFunction('convertToInteractive',\n",
              "                                                    [key], {});\n",
              "        if (!dataTable) return;\n",
              "\n",
              "        const docLinkHtml = 'Like what you see? Visit the ' +\n",
              "          '<a target=\"_blank\" href=https://colab.research.google.com/notebooks/data_table.ipynb>data table notebook</a>'\n",
              "          + ' to learn more about interactive tables.';\n",
              "        element.innerHTML = '';\n",
              "        dataTable['output_type'] = 'display_data';\n",
              "        await google.colab.output.renderOutput(dataTable, element);\n",
              "        const docLink = document.createElement('div');\n",
              "        docLink.innerHTML = docLinkHtml;\n",
              "        element.appendChild(docLink);\n",
              "      }\n",
              "    </script>\n",
              "  </div>\n",
              "\n",
              "\n",
              "    <div id=\"df-60bcdf4f-5af3-4605-9464-12118f23cb51\">\n",
              "      <button class=\"colab-df-quickchart\" onclick=\"quickchart('df-60bcdf4f-5af3-4605-9464-12118f23cb51')\"\n",
              "                title=\"Suggest charts\"\n",
              "                style=\"display:none;\">\n",
              "\n",
              "<svg xmlns=\"http://www.w3.org/2000/svg\" height=\"24px\"viewBox=\"0 0 24 24\"\n",
              "     width=\"24px\">\n",
              "    <g>\n",
              "        <path d=\"M19 3H5c-1.1 0-2 .9-2 2v14c0 1.1.9 2 2 2h14c1.1 0 2-.9 2-2V5c0-1.1-.9-2-2-2zM9 17H7v-7h2v7zm4 0h-2V7h2v10zm4 0h-2v-4h2v4z\"/>\n",
              "    </g>\n",
              "</svg>\n",
              "      </button>\n",
              "\n",
              "<style>\n",
              "  .colab-df-quickchart {\n",
              "      --bg-color: #E8F0FE;\n",
              "      --fill-color: #1967D2;\n",
              "      --hover-bg-color: #E2EBFA;\n",
              "      --hover-fill-color: #174EA6;\n",
              "      --disabled-fill-color: #AAA;\n",
              "      --disabled-bg-color: #DDD;\n",
              "  }\n",
              "\n",
              "  [theme=dark] .colab-df-quickchart {\n",
              "      --bg-color: #3B4455;\n",
              "      --fill-color: #D2E3FC;\n",
              "      --hover-bg-color: #434B5C;\n",
              "      --hover-fill-color: #FFFFFF;\n",
              "      --disabled-bg-color: #3B4455;\n",
              "      --disabled-fill-color: #666;\n",
              "  }\n",
              "\n",
              "  .colab-df-quickchart {\n",
              "    background-color: var(--bg-color);\n",
              "    border: none;\n",
              "    border-radius: 50%;\n",
              "    cursor: pointer;\n",
              "    display: none;\n",
              "    fill: var(--fill-color);\n",
              "    height: 32px;\n",
              "    padding: 0;\n",
              "    width: 32px;\n",
              "  }\n",
              "\n",
              "  .colab-df-quickchart:hover {\n",
              "    background-color: var(--hover-bg-color);\n",
              "    box-shadow: 0 1px 2px rgba(60, 64, 67, 0.3), 0 1px 3px 1px rgba(60, 64, 67, 0.15);\n",
              "    fill: var(--button-hover-fill-color);\n",
              "  }\n",
              "\n",
              "  .colab-df-quickchart-complete:disabled,\n",
              "  .colab-df-quickchart-complete:disabled:hover {\n",
              "    background-color: var(--disabled-bg-color);\n",
              "    fill: var(--disabled-fill-color);\n",
              "    box-shadow: none;\n",
              "  }\n",
              "\n",
              "  .colab-df-spinner {\n",
              "    border: 2px solid var(--fill-color);\n",
              "    border-color: transparent;\n",
              "    border-bottom-color: var(--fill-color);\n",
              "    animation:\n",
              "      spin 1s steps(1) infinite;\n",
              "  }\n",
              "\n",
              "  @keyframes spin {\n",
              "    0% {\n",
              "      border-color: transparent;\n",
              "      border-bottom-color: var(--fill-color);\n",
              "      border-left-color: var(--fill-color);\n",
              "    }\n",
              "    20% {\n",
              "      border-color: transparent;\n",
              "      border-left-color: var(--fill-color);\n",
              "      border-top-color: var(--fill-color);\n",
              "    }\n",
              "    30% {\n",
              "      border-color: transparent;\n",
              "      border-left-color: var(--fill-color);\n",
              "      border-top-color: var(--fill-color);\n",
              "      border-right-color: var(--fill-color);\n",
              "    }\n",
              "    40% {\n",
              "      border-color: transparent;\n",
              "      border-right-color: var(--fill-color);\n",
              "      border-top-color: var(--fill-color);\n",
              "    }\n",
              "    60% {\n",
              "      border-color: transparent;\n",
              "      border-right-color: var(--fill-color);\n",
              "    }\n",
              "    80% {\n",
              "      border-color: transparent;\n",
              "      border-right-color: var(--fill-color);\n",
              "      border-bottom-color: var(--fill-color);\n",
              "    }\n",
              "    90% {\n",
              "      border-color: transparent;\n",
              "      border-bottom-color: var(--fill-color);\n",
              "    }\n",
              "  }\n",
              "</style>\n",
              "\n",
              "      <script>\n",
              "        async function quickchart(key) {\n",
              "          const quickchartButtonEl =\n",
              "            document.querySelector('#' + key + ' button');\n",
              "          quickchartButtonEl.disabled = true;  // To prevent multiple clicks.\n",
              "          quickchartButtonEl.classList.add('colab-df-spinner');\n",
              "          try {\n",
              "            const charts = await google.colab.kernel.invokeFunction(\n",
              "                'suggestCharts', [key], {});\n",
              "          } catch (error) {\n",
              "            console.error('Error during call to suggestCharts:', error);\n",
              "          }\n",
              "          quickchartButtonEl.classList.remove('colab-df-spinner');\n",
              "          quickchartButtonEl.classList.add('colab-df-quickchart-complete');\n",
              "        }\n",
              "        (() => {\n",
              "          let quickchartButtonEl =\n",
              "            document.querySelector('#df-60bcdf4f-5af3-4605-9464-12118f23cb51 button');\n",
              "          quickchartButtonEl.style.display =\n",
              "            google.colab.kernel.accessAllowed ? 'block' : 'none';\n",
              "        })();\n",
              "      </script>\n",
              "    </div>\n",
              "    </div>\n",
              "  </div>\n"
            ],
            "application/vnd.google.colaboratory.intrinsic+json": {
              "type": "dataframe",
              "variable_name": "s",
              "summary": "{\n  \"name\": \"s\",\n  \"rows\": 361,\n  \"fields\": [\n    {\n      \"column\": \"timestamp\",\n      \"properties\": {\n        \"dtype\": \"date\",\n        \"min\": \"2020-05-14 20:23:21.662000\",\n        \"max\": \"2020-05-24 01:23:31.946000\",\n        \"num_unique_values\": 360,\n        \"samples\": [\n          \"2020-05-14 20:47:13.833000\",\n          \"2020-05-17 10:27:38.042000\",\n          \"2020-05-18 15:22:11.990000\"\n        ],\n        \"semantic_type\": \"\",\n        \"description\": \"\"\n      }\n    },\n    {\n      \"column\": \"id\",\n      \"properties\": {\n        \"dtype\": \"string\",\n        \"num_unique_values\": 347,\n        \"samples\": [\n          \"01b072a0cdb45814fc4ab8ca3e621f0e\",\n          \"6cd7de3774f07c65e44668cdf7e987b6\",\n          \"7378a3c0caf8ce5fdbb1e4370b346cb7\"\n        ],\n        \"semantic_type\": \"\",\n        \"description\": \"\"\n      }\n    },\n    {\n      \"column\": \"rating\",\n      \"properties\": {\n        \"dtype\": \"number\",\n        \"std\": 266,\n        \"min\": 495,\n        \"max\": 1457,\n        \"num_unique_values\": 347,\n        \"samples\": [\n          1058,\n          557,\n          1043\n        ],\n        \"semantic_type\": \"\",\n        \"description\": \"\"\n      }\n    },\n    {\n      \"column\": \"18_group\",\n      \"properties\": {\n        \"dtype\": \"number\",\n        \"std\": 2.271701343642626,\n        \"min\": 181.0,\n        \"max\": 188.0,\n        \"num_unique_values\": 8,\n        \"samples\": [\n          185.0,\n          186.0,\n          181.0\n        ],\n        \"semantic_type\": \"\",\n        \"description\": \"\"\n      }\n    },\n    {\n      \"column\": \"is_mi\",\n      \"properties\": {\n        \"dtype\": \"number\",\n        \"std\": 0.0,\n        \"min\": 1.0,\n        \"max\": 1.0,\n        \"num_unique_values\": 1,\n        \"samples\": [\n          1.0\n        ],\n        \"semantic_type\": \"\",\n        \"description\": \"\"\n      }\n    },\n    {\n      \"column\": \"fall_1\",\n      \"properties\": {\n        \"dtype\": \"category\",\n        \"num_unique_values\": 12,\n        \"samples\": [\n          \"\\u0410\\u043d\\u0430\\u043b\\u0438\\u0437 \\u043d\\u0435\\u0441\\u0442\\u0440\\u0443\\u043a\\u0442\\u0443\\u0440\\u0438\\u0440\\u043e\\u0432\\u0430\\u043d\\u043d\\u044b\\u0445 \\u0434\\u0430\\u043d\\u043d\\u044b\\u0445\"\n        ],\n        \"semantic_type\": \"\",\n        \"description\": \"\"\n      }\n    },\n    {\n      \"column\": \"fall_2\",\n      \"properties\": {\n        \"dtype\": \"category\",\n        \"num_unique_values\": 12,\n        \"samples\": [\n          \"\\u0410\\u043d\\u0430\\u043b\\u0438\\u0437 \\u043d\\u0435\\u0441\\u0442\\u0440\\u0443\\u043a\\u0442\\u0443\\u0440\\u0438\\u0440\\u043e\\u0432\\u0430\\u043d\\u043d\\u044b\\u0445 \\u0434\\u0430\\u043d\\u043d\\u044b\\u0445\"\n        ],\n        \"semantic_type\": \"\",\n        \"description\": \"\"\n      }\n    },\n    {\n      \"column\": \"fall_3\",\n      \"properties\": {\n        \"dtype\": \"category\",\n        \"num_unique_values\": 12,\n        \"samples\": [\n          \"\\u0413\\u043b\\u0443\\u0431\\u0438\\u043d\\u043d\\u043e\\u0435 \\u043e\\u0431\\u0443\\u0447\\u0435\\u043d\\u0438\\u0435 \\u0432 \\u043e\\u0431\\u0440\\u0430\\u0431\\u043e\\u0442\\u043a\\u0435 \\u0437\\u0432\\u0443\\u043a\\u0430\"\n        ],\n        \"semantic_type\": \"\",\n        \"description\": \"\"\n      }\n    },\n    {\n      \"column\": \"spring_1\",\n      \"properties\": {\n        \"dtype\": \"category\",\n        \"num_unique_values\": 15,\n        \"samples\": [\n          \"\\u041f\\u0440\\u043e\\u0435\\u043a\\u0442\\u0438\\u0440\\u043e\\u0432\\u0430\\u043d\\u0438\\u0435 \\u0438 \\u0440\\u0430\\u0437\\u0440\\u0430\\u0431\\u043e\\u0442\\u043a\\u0430 \\u0432\\u044b\\u0441\\u043e\\u043a\\u043e\\u043d\\u0430\\u0433\\u0440\\u0443\\u0436\\u0435\\u043d\\u043d\\u044b\\u0445 \\u0441\\u0435\\u0440\\u0432\\u0438\\u0441\\u043e\\u0432\"\n        ],\n        \"semantic_type\": \"\",\n        \"description\": \"\"\n      }\n    },\n    {\n      \"column\": \"spring_2\",\n      \"properties\": {\n        \"dtype\": \"category\",\n        \"num_unique_values\": 15,\n        \"samples\": [\n          \"\\u041f\\u0440\\u043e\\u0435\\u043a\\u0442\\u0438\\u0440\\u043e\\u0432\\u0430\\u043d\\u0438\\u0435 \\u0438 \\u0440\\u0430\\u0437\\u0440\\u0430\\u0431\\u043e\\u0442\\u043a\\u0430 \\u0432\\u044b\\u0441\\u043e\\u043a\\u043e\\u043d\\u0430\\u0433\\u0440\\u0443\\u0436\\u0435\\u043d\\u043d\\u044b\\u0445 \\u0441\\u0435\\u0440\\u0432\\u0438\\u0441\\u043e\\u0432\"\n        ],\n        \"semantic_type\": \"\",\n        \"description\": \"\"\n      }\n    },\n    {\n      \"column\": \"spring_3\",\n      \"properties\": {\n        \"dtype\": \"category\",\n        \"num_unique_values\": 15,\n        \"samples\": [\n          \"\\u041c\\u0435\\u0442\\u043e\\u0434\\u044b \\u0441\\u0436\\u0430\\u0442\\u0438\\u044f \\u0438 \\u043f\\u0435\\u0440\\u0435\\u0434\\u0430\\u0447\\u0438 \\u043c\\u0435\\u0434\\u0438\\u0430\\u0434\\u0430\\u043d\\u043d\\u044b\\u0445\"\n        ],\n        \"semantic_type\": \"\",\n        \"description\": \"\"\n      }\n    },\n    {\n      \"column\": \"is_first_time\",\n      \"properties\": {\n        \"dtype\": \"category\",\n        \"num_unique_values\": 2,\n        \"samples\": [\n          \"\\u041d\\u0435\\u0442\"\n        ],\n        \"semantic_type\": \"\",\n        \"description\": \"\"\n      }\n    },\n    {\n      \"column\": \"percentile\",\n      \"properties\": {\n        \"dtype\": \"number\",\n        \"std\": 0.2890708909542368,\n        \"min\": 0.0,\n        \"max\": 0.9955156950672646,\n        \"num_unique_values\": 346,\n        \"samples\": [\n          0.094170403587444\n        ],\n        \"semantic_type\": \"\",\n        \"description\": \"\"\n      }\n    },\n    {\n      \"column\": \"17_group\",\n      \"properties\": {\n        \"dtype\": \"number\",\n        \"std\": 1.795374123375362,\n        \"min\": 171.0,\n        \"max\": 177.0,\n        \"num_unique_values\": 7,\n        \"samples\": [\n          172.0\n        ],\n        \"semantic_type\": \"\",\n        \"description\": \"\"\n      }\n    },\n    {\n      \"column\": \"blended\",\n      \"properties\": {\n        \"dtype\": \"category\",\n        \"num_unique_values\": 3,\n        \"samples\": [\n          \"DevOps\"\n        ],\n        \"semantic_type\": \"\",\n        \"description\": \"\"\n      }\n    },\n    {\n      \"column\": \"is_ml_student\",\n      \"properties\": {\n        \"dtype\": \"number\",\n        \"std\": 0.0,\n        \"min\": 1.0,\n        \"max\": 1.0,\n        \"num_unique_values\": 1,\n        \"samples\": [\n          1.0\n        ],\n        \"semantic_type\": \"\",\n        \"description\": \"\"\n      }\n    }\n  ]\n}"
            }
          },
          "metadata": {},
          "execution_count": 10
        }
      ],
      "source": [
        "s = pd.read_excel('end_seminar.xlsx')\n",
        "s"
      ]
    },
    {
      "cell_type": "code",
      "source": [],
      "metadata": {
        "id": "aLS6SQ6hOEJR"
      },
      "execution_count": null,
      "outputs": []
    },
    {
      "cell_type": "markdown",
      "metadata": {
        "id": "jPiMwyqHhLuy"
      },
      "source": [
        "#### 2. [0.5 балла] Есть ли в данных пропуски? В каких колонках? Сколько их в каждой из этих колонок?"
      ]
    },
    {
      "cell_type": "code",
      "execution_count": null,
      "metadata": {
        "id": "edY1RrSOhLuy",
        "outputId": "7da94432-5941-4cd4-b29b-ac6daf034858",
        "colab": {
          "base_uri": "https://localhost:8080/"
        }
      },
      "outputs": [
        {
          "output_type": "stream",
          "name": "stdout",
          "text": [
            "Есть ли в данных пропуски: True\n",
            "18_group         138\n",
            "is_mi            343\n",
            "is_first_time      2\n",
            "17_group         223\n",
            "blended          223\n",
            "is_ml_student    304\n",
            "dtype: int64\n"
          ]
        }
      ],
      "source": [
        "pr = s.isna().values.any()\n",
        "print(f'Есть ли в данных пропуски: {pr}')\n",
        "col = s.isnull().sum()\n",
        "counts = col[col > 0]\n",
        "print(counts)"
      ]
    },
    {
      "cell_type": "markdown",
      "metadata": {
        "id": "B5ORhP2uhLuz"
      },
      "source": [
        "Заполните пропуски пустой строкой для строковых колонок и нулём для числовых (постарайтесь избежать перечисления названий всех столбцов)."
      ]
    },
    {
      "cell_type": "code",
      "execution_count": null,
      "metadata": {
        "id": "TlF_JJ2ghLuz",
        "collapsed": true,
        "outputId": "28ca11e5-1422-41bd-a2da-985622701a1d",
        "colab": {
          "base_uri": "https://localhost:8080/"
        }
      },
      "outputs": [
        {
          "output_type": "stream",
          "name": "stdout",
          "text": [
            "                                   id  \\\n",
            "0    93ff79a51cd602f1dd3028ba2c129503   \n",
            "1    26b01b1c4cd5656bab18d24c548834fb   \n",
            "2    30f3653fc176d54e89ac3179c455c6dd   \n",
            "3    1528f0eaa027580820ccf0d92a53ad68   \n",
            "4    496ea4f0d4abe264b1bb1b80eb3830c5   \n",
            "..                                ...   \n",
            "356  c5870b37ee3f672e4259dfb2fc02ed8f   \n",
            "357  f44aea1095f9f5b8e2f5f0ed2b17891b   \n",
            "358  d7118b44c7e8fdbbaaca226d2da6fef1   \n",
            "359  79d14db48e4737af731960ae212d5134   \n",
            "360  f2d210ace25a841e1e58036b257d5d47   \n",
            "\n",
            "                                              fall_1  \\\n",
            "0                                           Язык SQL   \n",
            "1                  Высокопроизводительные вычисления   \n",
            "2                   Безопасность компьютерных систем   \n",
            "3                        Statistical Learning Theory   \n",
            "4                  Высокопроизводительные вычисления   \n",
            "..                                               ...   \n",
            "356                      Statistical Learning Theory   \n",
            "357                Анализ неструктурированных данных   \n",
            "358  Сбор и обработка данных с помощью краудсорсинга   \n",
            "359                 Безопасность компьютерных систем   \n",
            "360                Анализ неструктурированных данных   \n",
            "\n",
            "                                                fall_2  \\\n",
            "0                    Высокопроизводительные вычисления   \n",
            "1                     Безопасность компьютерных систем   \n",
            "2                                 Матричные вычисления   \n",
            "3                    Высокопроизводительные вычисления   \n",
            "4                     Безопасность компьютерных систем   \n",
            "..                                                 ...   \n",
            "356                  Анализ неструктурированных данных   \n",
            "357                  Высокопроизводительные вычисления   \n",
            "358                        Statistical Learning Theory   \n",
            "359  Принятие решений в условиях риска и неопределё...   \n",
            "360                      Моделирование временных рядов   \n",
            "\n",
            "                                              fall_3  \\\n",
            "0                               Матричные вычисления   \n",
            "1                                           Язык SQL   \n",
            "2                      Моделирование временных рядов   \n",
            "3                               Матричные вычисления   \n",
            "4                                  Теория баз данных   \n",
            "..                                               ...   \n",
            "356  Сбор и обработка данных с помощью краудсорсинга   \n",
            "357                    Моделирование временных рядов   \n",
            "358                Анализ неструктурированных данных   \n",
            "359                Анализ неструктурированных данных   \n",
            "360                Высокопроизводительные вычисления   \n",
            "\n",
            "                                              spring_1  \\\n",
            "0                               Дискретная оптимизация   \n",
            "1                               Дискретная оптимизация   \n",
            "2                               Дискретная оптимизация   \n",
            "3                               Дискретная оптимизация   \n",
            "4                                    Компьютерные сети   \n",
            "..                                                 ...   \n",
            "356                           Обучение с подкреплением   \n",
            "357                             Конфликты и кооперация   \n",
            "358  Проектирование и разработка высоконагруженных ...   \n",
            "359  Проектирование и разработка высоконагруженных ...   \n",
            "360                           Обучение с подкреплением   \n",
            "\n",
            "                                 spring_2  \\\n",
            "0                        Численные методы   \n",
            "1                        Численные методы   \n",
            "2                     Машинное обучение 2   \n",
            "3                        Численные методы   \n",
            "4                  Дискретная оптимизация   \n",
            "..                                    ...   \n",
            "356                Конфликты и кооперация   \n",
            "357              Обучение с подкреплением   \n",
            "358  Методы сжатия и передачи медиаданных   \n",
            "359  Методы сжатия и передачи медиаданных   \n",
            "360                   Компьютерное зрение   \n",
            "\n",
            "                                 spring_3 is_first_time  \\\n",
            "0                     Машинное обучение 2            Да   \n",
            "1                     Машинное обучение 2           Нет   \n",
            "2                        Численные методы            Да   \n",
            "3                     Машинное обучение 2            Да   \n",
            "4                        Численные методы            Да   \n",
            "..                                    ...           ...   \n",
            "356                   Компьютерное зрение            Да   \n",
            "357                      Численные методы            Да   \n",
            "358                      Численные методы            Да   \n",
            "359                   Компьютерное зрение            Да   \n",
            "360  Методы сжатия и передачи медиаданных                 \n",
            "\n",
            "                            blended  \n",
            "0                                    \n",
            "1                                    \n",
            "2                                    \n",
            "3                                    \n",
            "4                                    \n",
            "..                              ...  \n",
            "356                          DevOps  \n",
            "357                          DevOps  \n",
            "358  Соревновательный анализ данных  \n",
            "359                          DevOps  \n",
            "360  Соревновательный анализ данных  \n",
            "\n",
            "[361 rows x 9 columns]\n",
            "     rating  18_group  is_mi  percentile  17_group  is_ml_student\n",
            "0       698     181.0    0.0    0.183857       0.0            0.0\n",
            "1       647     181.0    0.0    0.426009       0.0            0.0\n",
            "2       624     185.0    0.0    0.538117       0.0            0.0\n",
            "3       579     182.0    0.0    0.744395       0.0            0.0\n",
            "4       572     183.0    0.0    0.780269       0.0            0.0\n",
            "..      ...       ...    ...         ...       ...            ...\n",
            "356    1029       0.0    0.0    0.920290     174.0            0.0\n",
            "357    1060       0.0    0.0    0.840580     174.0            0.0\n",
            "358    1111       0.0    0.0    0.652174     173.0            0.0\n",
            "359     966       0.0    0.0    0.985507     172.0            0.0\n",
            "360    1195       0.0    0.0    0.369565     176.0            0.0\n",
            "\n",
            "[361 rows x 6 columns]\n"
          ]
        }
      ],
      "source": [
        "st = s.select_dtypes(include=['object', 'string']).fillna('')\n",
        "n = s.select_dtypes(include = np.number).fillna(0)\n",
        "print(st)\n",
        "print(n)"
      ]
    },
    {
      "cell_type": "code",
      "source": [],
      "metadata": {
        "id": "3l_AtP0QSUKV"
      },
      "execution_count": null,
      "outputs": []
    },
    {
      "cell_type": "code",
      "source": [],
      "metadata": {
        "id": "xNj58S6WRHS4"
      },
      "execution_count": null,
      "outputs": []
    },
    {
      "cell_type": "markdown",
      "metadata": {
        "id": "w5ELhkT1hLuz"
      },
      "source": [
        "#### 3. [0.5 балла] Посмотрите повнимательнее на колонку 'is_first_time'.\n",
        "\n",
        "Есть ли в ней ответы \"Нет\"? Сколько их?\n",
        "\n",
        "Если вы найдете повторные обращения студентов, оставьте только самую позднюю версию. В дальнейших заданиях используйте версию данных без повторов.\n",
        "\n",
        "<i>Обращения со значением \"Нет\" в 'is_first_time' могут быть как повторными, так и первичными, поскольку поле заполняли сами студенты.</i>"
      ]
    },
    {
      "cell_type": "code",
      "execution_count": null,
      "metadata": {
        "id": "VEfiNsyQhLuz",
        "outputId": "d862cdc2-6c0a-4281-8256-2694006627d6",
        "colab": {
          "base_uri": "https://localhost:8080/"
        }
      },
      "outputs": [
        {
          "output_type": "stream",
          "name": "stdout",
          "text": [
            "Есть ли в ней ответы \"Нет\": 51\n",
            "Записей с повторяющимися ID: 28\n",
            "Количество записей после очистки: 347\n",
            "Очищенные данные сохранены в 'cleaned_data.csv'\n"
          ]
        }
      ],
      "source": [
        "print(f'Есть ли в ней ответы \"Нет\": {(s['is_first_time'] == 'Нет').sum()}')\n",
        "\n",
        "duplicates = s.duplicated('id', keep=False)\n",
        "print(f\"Записей с повторяющимися ID: {duplicates.sum()}\")\n",
        "\n",
        "# Оставляем только самые поздние версии для каждого студента\n",
        "data_clean = s.sort_values('timestamp').drop_duplicates('id', keep='last')\n",
        "print(f\"Количество записей после очистки: {len(data_clean)}\")\n",
        "\n",
        "#  Сохраняем очищенные данные\n",
        "data_clean.to_csv('cleaned_data.csv', index=False)\n",
        "print(\"Очищенные данные сохранены в 'cleaned_data.csv'\")"
      ]
    },
    {
      "cell_type": "markdown",
      "metadata": {
        "id": "Jhk3tVpVhLuy"
      },
      "source": [
        "#### 4. [0.5 балла] Ответьте на вопросы:\n",
        "1. Сколько было заявок из групп 18-го года набора, а сколько из групп 17-го года?\n",
        "2. Есть ли студенты с равными перцентилями (среди объединенных данных, ведь конкурс на каждый курс общий)?"
      ]
    },
    {
      "cell_type": "code",
      "execution_count": null,
      "metadata": {
        "id": "bsn4vn8RhLuy",
        "outputId": "e60b8dcb-d177-4998-a212-7d7a23ab1361",
        "colab": {
          "base_uri": "https://localhost:8080/"
        }
      },
      "outputs": [
        {
          "output_type": "stream",
          "name": "stdout",
          "text": [
            "Сколько было заявок из групп 18-го года: 223\n",
            "Сколько было заявок из групп 17-го года: 138\n",
            "студенты с равными перцентилями: 30\n"
          ]
        }
      ],
      "source": [
        "print(f'Сколько было заявок из групп 18-го года: {(s['18_group'].notna()).sum()}')\n",
        "\n",
        "print(f'Сколько было заявок из групп 17-го года: {(s['17_group'].notna()).sum()}')\n",
        "\n",
        "print(f'студенты с равными перцентилями: {s['percentile'].duplicated(keep=False).sum()}')"
      ]
    },
    {
      "cell_type": "markdown",
      "metadata": {
        "id": "IlzHp3HVhLuz"
      },
      "source": [
        "#### 5. [0.5 балла] Какие  blended-курсы для четверокурсников существуют? На какой blended-курс записалось наибольшее количество студентов? На каком из blended-курсов собрались студенты с самым высоким средним рейтингом (выведите этот курс и количество студентов на нем)?"
      ]
    },
    {
      "cell_type": "code",
      "execution_count": null,
      "metadata": {
        "id": "j_BRWerHhLu0",
        "outputId": "e87af70e-4fed-4e5c-d5e5-875ea3c150d3",
        "colab": {
          "base_uri": "https://localhost:8080/"
        }
      },
      "outputs": [
        {
          "output_type": "stream",
          "name": "stdout",
          "text": [
            "blended-курсы для четверокурсников: '\n",
            "' 223                                   DevOps\n",
            "231    Введение в дифференциальную геометрию\n",
            "241           Соревновательный анализ данных\n",
            "Name: blended, dtype: object \n",
            "На какой blended-курс записалось наибольшее количество студентов: DevOps (91 студентов)\n"
          ]
        }
      ],
      "source": [
        "print(f'blended-курсы для четверокурсников: \\'\\n\\' {s['blended'].drop_duplicates().dropna()} ')\n",
        "\n",
        "# Находим blended-курс с максимальным количеством студентов\n",
        "most_popular_blended = s['blended'].value_counts().index[0]\n",
        "count = s['blended'].value_counts().iloc[0]\n",
        "print(f'На какой blended-курс записалось наибольшее количество студентов: {most_popular_blended} ({count} студентов)')"
      ]
    },
    {
      "cell_type": "markdown",
      "metadata": {
        "id": "IU_FLt8HhLu0"
      },
      "source": [
        "#### 6. [1 балл] Выясните, есть ли студенты с абсолютно одинаковыми предпочтениями по всем курсам.\n",
        "\n",
        "Для этого сформируйте таблицу, где для каждого возможного набора курсов посчитано количество студентов, выбравших такой набор, и оставьте только строки где это количество больше 1.\n",
        "\n",
        "В данном случае набор курсов задается упорядоченным множеством ('fall_1', 'fall_2', 'fall_3', 'spring_1', 'spring_2', 'spring_3', 'blended'). Элемент blended будет нулевым для 3-го курса."
      ]
    },
    {
      "cell_type": "code",
      "execution_count": 11,
      "metadata": {
        "id": "BBDlR1mFhLu0",
        "colab": {
          "base_uri": "https://localhost:8080/"
        },
        "outputId": "2fc93234-b2f9-4d99-81e3-76bda8823e14"
      },
      "outputs": [
        {
          "output_type": "stream",
          "name": "stdout",
          "text": [
            "Найдено 6 наборов курсов, которые выбрали несколько студентов\n",
            "Всего студентов в этих группах: 13\n",
            "\n",
            "Таблица наборов курсов с несколькими студентами:\n",
            "                               fall_1                                          fall_2                                          fall_3                                               spring_1                                spring_2                                spring_3 blended  student_count\n",
            "          Statistical Learning Theory               Анализ неструктурированных данных Сбор и обработка данных с помощью краудсорсинга                               Обучение с подкреплением                  Конфликты и кооперация                     Компьютерное зрение  DevOps              2\n",
            "Байесовские методы машинного обучения               Анализ неструктурированных данных            Глубинное обучение в обработке звука                               Обучение с подкреплением Генеративные модели в машинном обучении                     Компьютерное зрение  DevOps              3\n",
            "Байесовские методы машинного обучения               Анализ неструктурированных данных Сбор и обработка данных с помощью краудсорсинга                               Обучение с подкреплением                     Компьютерное зрение Генеративные модели в машинном обучении  DevOps              2\n",
            "     Безопасность компьютерных систем               Высокопроизводительные вычисления               Анализ неструктурированных данных Проектирование и разработка высоконагруженных сервисов    Методы сжатия и передачи медиаданных                  Конфликты и кооперация  DevOps              2\n",
            "    Высокопроизводительные вычисления                Безопасность компьютерных систем Сбор и обработка данных с помощью краудсорсинга Проектирование и разработка высоконагруженных сервисов    Методы сжатия и передачи медиаданных                     Компьютерное зрение  DevOps              2\n",
            "    Высокопроизводительные вычисления Сбор и обработка данных с помощью краудсорсинга                   Моделирование временных рядов Проектирование и разработка высоконагруженных сервисов    Методы сжатия и передачи медиаданных    Методы сжатия и передачи медиаданных  DevOps              2\n"
          ]
        }
      ],
      "source": [
        "# Колонки с курсами\n",
        "course_columns = ['fall_1', 'fall_2', 'fall_3', 'spring_1', 'spring_2', 'spring_3', 'blended']\n",
        "\n",
        "# Группируем по всем курсам и считаем количество студентов\n",
        "course_combinations = s.groupby(course_columns).size().reset_index(name='student_count')\n",
        "\n",
        "# Оставляем только наборы с более чем одним студентом\n",
        "duplicate_combinations = course_combinations[course_combinations['student_count'] > 1]\n",
        "\n",
        "print(f\"Найдено {len(duplicate_combinations)} наборов курсов, которые выбрали несколько студентов\")\n",
        "print(f\"Всего студентов в этих группах: {duplicate_combinations['student_count'].sum()}\")\n",
        "\n",
        "# Выводим таблицу\n",
        "print(\"\\nТаблица наборов курсов с несколькими студентами:\")\n",
        "print(duplicate_combinations.to_string(index=False))"
      ]
    },
    {
      "cell_type": "markdown",
      "metadata": {
        "id": "spu3r3vchLu0"
      },
      "source": [
        "#### 7. [0.5 балла] Найдите курсы по выбору, на которые записывались как студенты 18-го года набора, так и студенты 17-го года."
      ]
    },
    {
      "cell_type": "code",
      "execution_count": 14,
      "metadata": {
        "id": "t21fWi8ShLu0",
        "colab": {
          "base_uri": "https://localhost:8080/"
        },
        "outputId": "5c1b8e6c-2d89-4d51-97fd-590be45cb805"
      },
      "outputs": [
        {
          "output_type": "stream",
          "name": "stdout",
          "text": [
            "Курсы, популярные у 17-го и 18-го года: ['Statistical Learning Theory', 'Безопасность компьютерных систем', 'Высокопроизводительные вычисления', 'Моделирование временных рядов', 'Принятие решений в условиях риска и неопределённости', 'Сбор и обработка данных с помощью краудсорсинга', 'Численные методы']\n"
          ]
        }
      ],
      "source": [
        "# Самый короткий способ\n",
        "course_cols = ['fall_1', 'fall_2', 'fall_3', 'spring_1', 'spring_2', 'spring_3', 'blended']\n",
        "\n",
        "common_courses = set(\n",
        "    s[s['18_group'].notna()][course_cols].stack().dropna().unique()\n",
        ") & set(\n",
        "    s[s['17_group'].notna()][course_cols].stack().dropna().unique()\n",
        ")\n",
        "\n",
        "print(f\"Курсы, популярные у 17-го и 18-го года: {sorted(common_courses)}\")"
      ]
    },
    {
      "cell_type": "markdown",
      "metadata": {
        "id": "PYfX-Dr5hLu0"
      },
      "source": [
        "Методом исключения найдите курсы, которые предлагались только студентам 18-го года и только студентам 17-го года."
      ]
    },
    {
      "cell_type": "code",
      "execution_count": 18,
      "metadata": {
        "id": "G9SWBOpehLu1",
        "colab": {
          "base_uri": "https://localhost:8080/"
        },
        "outputId": "e9977c93-14c0-4ced-acd6-d1c91999a4e5"
      },
      "outputs": [
        {
          "output_type": "stream",
          "name": "stdout",
          "text": [
            "\n",
            "🎯 РАЗНОСТЬ (курсы только одной группы):\n",
            "Только у 18-го года: 10 курсов\n",
            "  1. Анализ данных в бизнесе\n",
            "  2. Дискретная оптимизация\n",
            "  3. Дополнительные главы прикладной статистики\n",
            "  4. Компьютерные сети\n",
            "  5. Матричные вычисления\n",
            "  6. Машинное обучение 2\n",
            "  7. Промышленное программирование на языке Java\n",
            "  8. Системы баз данных\n",
            "  9. Теория баз данных\n",
            "  10. Язык SQL\n",
            "\n",
            "Только у 17-го года: 13 курсов\n",
            "  1. DevOps\n",
            "  2. Анализ неструктурированных данных\n",
            "  3. Байесовские методы машинного обучения\n",
            "  4. Введение в дифференциальную геометрию\n",
            "  5. Генеративные модели в машинном обучении\n",
            "  6. Глубинное обучение в обработке звука\n",
            "  7. Компьютерное зрение\n",
            "  8. Конфликты и кооперация\n",
            "  9. Методы сжатия и передачи медиаданных\n",
            "  10. Обучение с подкреплением\n",
            "  11. Проектирование и разработка высоконагруженных сервисов\n",
            "  12. Символьные вычисления\n",
            "  13. Соревновательный анализ данных\n"
          ]
        }
      ],
      "source": [
        "# ПРЕДВАРИТЕЛЬНО: создаем множества курсов\n",
        "course_columns = ['fall_1', 'fall_2', 'fall_3', 'spring_1', 'spring_2', 'spring_3', 'blended']\n",
        "\n",
        "courses_18 = set(s[s['18_group'].notna()][course_columns].stack().dropna().unique())\n",
        "courses_17 = set(s[s['17_group'].notna()][course_columns].stack().dropna().unique())\n",
        "\n",
        "# ТЕПЕРЬ правильная разность множеств\n",
        "only_18_courses = courses_18 - courses_17  # курсы только 18-го года\n",
        "only_17_courses = courses_17 - courses_18  # курсы только 17-го года\n",
        "\n",
        "print(\"\\n🎯 РАЗНОСТЬ (курсы только одной группы):\")\n",
        "print(f\"Только у 18-го года: {len(only_18_courses)} курсов\")\n",
        "for i, course in enumerate(sorted(only_18_courses), 1):\n",
        "    print(f\"  {i}. {course}\")\n",
        "\n",
        "print(f\"\\nТолько у 17-го года: {len(only_17_courses)} курсов\")\n",
        "for i, course in enumerate(sorted(only_17_courses), 1):\n",
        "    print(f\"  {i}. {course}\")"
      ]
    },
    {
      "cell_type": "markdown",
      "metadata": {
        "id": "uL45Tg5fhLu1"
      },
      "source": [
        "### Визуализации и matplotlib"
      ]
    },
    {
      "cell_type": "markdown",
      "metadata": {
        "id": "MY9lKmP2hLu1"
      },
      "source": [
        "При работе с данными часто неудобно делать какие-то выводы, если смотреть на таблицу и числа в частности, поэтому важно уметь визуализировать данные. Здесь будут описаны ключевые правила оформления графиков для **всех** домашних заданий.\n",
        "\n",
        "У matplotlib, конечно же, есть [документация](https://matplotlib.org/users/index.html) с большим количеством [примеров](https://matplotlib.org/examples/), но для начала достаточно знать про несколько основных типов графиков:\n",
        "- plot — обычный поточечный график, которым можно изображать кривые или отдельные точки;\n",
        "- hist — гистограмма, показывающая распределение некоторой величины;\n",
        "- scatter — график, показывающий взаимосвязь двух величин;\n",
        "- bar — столбцовый график, показывающий взаимосвязь количественной величины от категориальной.\n",
        "\n",
        "В этом задании вы попробуете построить один из них. Не забывайте про базовые принципы построения приличных графиков:\n",
        "- оси должны быть подписаны, причём не слишком мелко;\n",
        "- у графика должно быть название;\n",
        "- если изображено несколько графиков, то необходима поясняющая легенда;\n",
        "- все линии на графиках должны быть чётко видны (нет похожих цветов или цветов, сливающихся с фоном);\n",
        "- если отображена величина, имеющая очевидный диапазон значений (например, проценты могут быть от 0 до 100), то желательно масштабировать ось на весь диапазон значений (исключением является случай, когда вам необходимо показать малое отличие, которое незаметно в таких масштабах);\n",
        "- сетка на графике помогает оценить значения в точках на глаз, это обычно полезно, поэтому лучше ее отрисовывать;\n",
        "- если распределение на гистограмме имеет тяжёлые хвосты, лучше использовать логарифмическую шкалу.\n",
        "\n",
        "Еще одна билиотека для визуализации: [seaborn](https://jakevdp.github.io/PythonDataScienceHandbook/04.14-visualization-with-seaborn.html) (обычно сокращается до sns). Это настройка над matplotlib, иногда удобнее и красивее делать визуализации через неё.\n",
        "\n",
        "**5 пунктов после которых ваши графики не будут прежними:**\n",
        "- для красивой картинки <code>%config InlineBackend.figure_format = 'retina'</code>\n",
        "- задаем размер (почти) всех графиков (можно выбрать другие значения) <code>plt.rcParams['figure.figsize'] = 8, 5</code>\n",
        "- размер шрифта подписей графиков <code>plt.rcParams['font.size'] = 12</code>\n",
        "- формат в котором сохраняется изображение <code>mpl.rcParams['savefig.format'] = 'pdf'</code>\n",
        "- sns – seaborn, добавляет решетку <code>sns.set_style('darkgrid')</code>\n",
        "\n",
        "Добавьте эти функции в ячейку ниже. Каждый график все равно придется настраивать отдельно, но указанные строчки позволят значительно упростить процесс.  "
      ]
    },
    {
      "cell_type": "code",
      "execution_count": null,
      "metadata": {
        "id": "na9doUOFhLu1"
      },
      "outputs": [],
      "source": [
        "%matplotlib inline\n",
        "import matplotlib.pyplot as plt\n",
        "import seaborn as sns\n",
        "\n",
        "# your code"
      ]
    },
    {
      "cell_type": "markdown",
      "metadata": {
        "id": "kikwLpxfhLu1"
      },
      "source": [
        "#### 8. [0.5 балла] Постройте график средних рейтингов по дням получения ответов (bar plot)."
      ]
    },
    {
      "cell_type": "code",
      "execution_count": null,
      "metadata": {
        "id": "UTPLVeQvhLu2"
      },
      "outputs": [],
      "source": [
        "# your code"
      ]
    },
    {
      "cell_type": "markdown",
      "metadata": {
        "id": "AmsQg9_xhLu2"
      },
      "source": [
        "Сохраните график в формате pdf (так он останется векторизованным)."
      ]
    },
    {
      "cell_type": "code",
      "execution_count": null,
      "metadata": {
        "id": "vKZNSwWghLu2"
      },
      "outputs": [],
      "source": [
        "# your code"
      ]
    },
    {
      "cell_type": "markdown",
      "metadata": {
        "id": "sCgWwjl0hLu2"
      },
      "source": [
        "### 2. Распределение студентов по курсам."
      ]
    },
    {
      "cell_type": "markdown",
      "metadata": {
        "id": "24pogA6HKmZE"
      },
      "source": [
        "<span style=\"color:red\">!!!ВНИМАТЕЛЬНО ИЗУЧИТЕ ТЕКСТ НИЖЕ!!!</span>.\n",
        "\n",
        "<span style=\"color:orange\">Если во время выполнения заданий у вас вознинут вопросы -- еще раз перечитайте текст целиком, скорее всего ответы уже содержатся в нем.</span>"
      ]
    },
    {
      "cell_type": "markdown",
      "metadata": {
        "id": "VNqXUpr4hLu3"
      },
      "source": [
        "Теперь вам нужно распределить студентов по осенним курсам по выбору, учитывая их предпочтения."
      ]
    },
    {
      "cell_type": "markdown",
      "metadata": {
        "id": "5cAR2FgphLu3"
      },
      "source": [
        "Алгоритм распределения студентов по курсам:\n",
        "1. По умолчанию на каждой дисциплине по выбору у 3 и 4 курсов может учиться 1 группа (до 30 студентов). Исключения описаны ниже. На blended-дисциплинах для четверокурсников количество мест не ограничено.\n",
        "2. Проводится первая волна отбора. Для каждой дисциплины формируется список тех, кто указал её первым приоритетом (если студент должен выбрать два курса по выбору, то для него дисциплины, которые он указал первым и вторым приоритетом, рассматриваются как дисциплины первого приоритета). Если желающих больше, чем мест, то выбирается топ по перцентилю рейтинга.\n",
        "3. На дисциплинах, где остались места после первой волны, формируются списки тех, кто выбрал их вторым приоритетом и еще не прошел на необходимое количество курсов. Места заполняются лучшими по перцентилю рейтинга студентами. После этого проводится такая же процедура для дисциплин третьего приоритета.\n",
        "4. Если студент не попал на необходимое количество курсов по итогам трёх волн, с ним связывается учебный офис и решает вопрос в индивидуальном порядке."
      ]
    },
    {
      "cell_type": "markdown",
      "metadata": {
        "id": "BiNKVwS6hLu3"
      },
      "source": [
        "Обращаем ваше внимание на следующие детали:\n",
        "- Конкурс на каждый курс общий для 3-го и 4-го курса\n",
        "\n",
        "- По умолчанию студент выбирает один осенний и один весенний курс по выбору, а также четверокурсники выбирают один blended-курс. Студенты групп 17-го года специализаций МОП и ТИ выбирают по 2 осенних и 2 весенних курса по выбору, также студенты групп 18' специализации МИ выбирают 2 осенних курса. <i>Для студентов, которые выбирают 2 курса (например, осенних) первый приоритет — <code>fall_1</code> и <code>fall_2</code>, второй приоритет — <code>fall_3</code>. Такие студенты участвуют только в двух волнах отбора</i>.\n",
        "\n",
        "- Студенты специализации МОП не могут выбрать весенним курсом по выбору Машинное обучение 2. **Если студент специализации МОП выбрал Машинное обучение 2, то его приоритеты сдвигаются.** Из-за совпадений первого и второго курса по выбору двигать приоритеты не надо.\n",
        "\n",
        "- Blended-курсы не трогайте, по ним не надо распределять, на другие курсы они никак не влияют.\n",
        "\n",
        "- Заведомо известно, что в процессе распределения не возникнет ситуации, когда на одно место претендуют студенты с одинаковым перцентилем.\n",
        "\n",
        "- Постарайтесь воздержаться от использования циклов там, где это возможно. <i>Допустимо итерироваться по <b>курсам</b>, на которые проводится отбор, и по <b>волнам</b> отбора. Если вы придумаете, как обойтись и без этих циклов, то на усмотрение проверяющего могут быть добавлены бонусные баллы. <b>Дублирование кода не признается успешным избавлением от циклов</b></i>\n",
        "\n",
        "- На выходе ожидается файл res_fall.csv с результатами распределения на осенние курсы по выбору. Файл должен быть следующего формата:\n",
        "\n",
        "    * Три колонки: ID, course1, course2\n",
        "    \n",
        "    * Если студент не попал на курс, но должен был, то вместо названия курса в ячейке должна быть строка \"???\"\n",
        "    \n",
        "    * Если студент должен выбрать только один курс, то в колонке course2 для него должна стоять строка \"-\"\n",
        "    \n",
        "    * Если студент должен выбрать два курса по выбору, то порядок в колонках course1 и course2 не важен.\n",
        "    \n",
        "    * hint: для сохранения воспользуйтесь df.to_csv('solution.csv', index=None)\n",
        "    \n",
        "\n",
        "Для работы вам могут понадобиться следующие данные:\n",
        "\n",
        "- Результаты опроса (вы уже использовали этот файл в первой части задания, но на всякий случай ссылка: https://www.dropbox.com/s/f4rm8sjc3v99p0m/_end_seminar.xlsx?dl=0)\n",
        "\n",
        "- Соответствие номеров групп специализациям:\n",
        "\n",
        "    * 171, 172 - МОП; 173 - ТИ; 174 — АДИС; 175, 176 — РС; 177 — АПР\n",
        "    \n",
        "    * У студентов 18-го года номера групп соответствуют номерам до распределения по специализациям. Это означает, что по номеру группы 18* нельзя однозначно определить специализацию студента. При этом в рамках распределения важно знать информацию только о двух из них: МОП и МИ. Эти знание можно получить из колонок 'is_ml_student\n",
        "' и 'is_mi' соответственно.\n",
        "\n",
        "- Ограничения по количеству мест на курсах по выбору:\n",
        "\n",
        "    * Осенние: везде 30 мест, кроме Statistical Learning Theory (60 мест), Высокопроизводительных вычислений (60 мест), Анализа неструктурированных данных ($\\infty$ мест)\n",
        "\n",
        "    * Весенние: везде 30 мест, кроме Обучения с подкреплением (60 мест), Анализа данных в бизнесе (60 мест).\n",
        "\n",
        "\n",
        "Кстати, убедитесь, что в данных больше нет пропусков и повторных записей."
      ]
    },
    {
      "cell_type": "markdown",
      "metadata": {
        "id": "o5t55IcQhLu4"
      },
      "source": [
        "#### 0. Проверка\n",
        "\n",
        "Для начала давайте убедимся, что вы успешно выполнили задания первой части и проверим ваши данные на наличие пропусков и повторов:"
      ]
    },
    {
      "cell_type": "code",
      "execution_count": null,
      "metadata": {
        "id": "34HWEdVdhLu4"
      },
      "outputs": [],
      "source": [
        "assert df.shape[0] == 347, 'В таблице остались повторы или потеряны данные'\n",
        "\n",
        "assert df.isna().sum().sum() == 0, 'В таблице остались пропуски'"
      ]
    },
    {
      "cell_type": "markdown",
      "metadata": {
        "id": "_ImUFyG3hLu4"
      },
      "source": [
        "Если вы не получили AssertionError, то можете продолжать."
      ]
    },
    {
      "cell_type": "markdown",
      "metadata": {
        "id": "LTGSwwvAhLu4"
      },
      "source": [
        "#### 1. [1 балл] Создайте новый признак, обозначающий, сколько осенних курсов должен выбрать студент\n",
        "\n",
        "В этом вам может помочь информация о специализации и группе стундента."
      ]
    },
    {
      "cell_type": "code",
      "execution_count": null,
      "metadata": {
        "id": "ouxo0kHFhLu4"
      },
      "outputs": [],
      "source": [
        "# (￣^￣)ゞ"
      ]
    },
    {
      "cell_type": "markdown",
      "metadata": {
        "id": "S47aq1sQhLu4"
      },
      "source": [
        "Проверка:"
      ]
    },
    {
      "cell_type": "code",
      "execution_count": null,
      "metadata": {
        "id": "OlOgzDKDhLu5"
      },
      "outputs": [],
      "source": [
        "col_name =     # insert your new column name as str\n",
        "\n",
        "assert(df[df['id'] == '2662600c2c37e11e62f6ee0b88452f22'][col_name] == 2).all()\n",
        "assert(df[df['id'] == 'd555d2805e1d93d4f023e57dc4c8f403'][col_name] == 2).all()\n",
        "assert(df[df['id'] == '8fe79f84f36e3a5d2d6745621321302c'][col_name] == 1).all()\n",
        "assert(df[df['id'] == 'e4caca755ee0bdd711e18fb8084958b5'][col_name] == 1).all()"
      ]
    },
    {
      "cell_type": "markdown",
      "metadata": {
        "id": "VtQYhwuPhLu5"
      },
      "source": [
        "#### 2. [2 балла] Распределите студентов в соответствии с первым приоритетом"
      ]
    },
    {
      "cell_type": "code",
      "execution_count": null,
      "metadata": {
        "id": "6gWfT3vqhLu5"
      },
      "outputs": [],
      "source": [
        "# (￣^￣)ゞ"
      ]
    },
    {
      "cell_type": "markdown",
      "metadata": {
        "id": "vc5zXP5hhLu5"
      },
      "source": [
        "Здесь для проверки приведена таблица, в которой есть 2 дополнительные колонки:\n",
        "    \n",
        "    1) is_first_place - является ли студент лучшим по перцентили хотя бы на одном из курсов, куда он был зачислен\n",
        "    (True / NaN)\n",
        "    \n",
        "    2) is_last_place  - является ли студент худшим по перцентили хотя бы на одном из курсов, куда он был зачислен (True / NaN)"
      ]
    },
    {
      "cell_type": "code",
      "execution_count": null,
      "metadata": {
        "id": "uZTkGEq5hLu5"
      },
      "outputs": [],
      "source": [
        "!wget  -O '2_task_check.csv' -q 'https://www.dropbox.com/s/v8o2zzq3iz5gc9w/_2_task_check.csv?dl=0'\n",
        "check_df = pd.read_csv('2_task_check.csv')"
      ]
    },
    {
      "cell_type": "markdown",
      "metadata": {
        "id": "E_fbyB9qhLu5"
      },
      "source": [
        "После распределения студентов в соответствии с первым приоритетом добавьте в свой датафрейм аналогичные признаки и запустите проверку:"
      ]
    },
    {
      "cell_type": "code",
      "execution_count": null,
      "metadata": {
        "id": "GOAzQeYehLu6"
      },
      "outputs": [],
      "source": [
        "fir_col_name =       # insert name of your new column with is_first_place as str\n",
        "last_col_name =      # insert name of your new column with is_last_place as str\n",
        "\n",
        "\n",
        "assert((df[df[fir_col_name].isna() == False][['id']].sort_values('id').reset_index(drop=True)\n",
        "        ==\n",
        "        check_df[check_df['is_first_place'].isna() == False][['id']].sort_values('id').reset_index(drop=True)\n",
        "       ).id.values).all()\n",
        "\n",
        "\n",
        "assert((df[df[last_col_name].isna() == False][['id']].sort_values('id').reset_index(drop=True)\n",
        "       ==\n",
        "       check_df[check_df['is_last_place'].isna() == False][['id']].sort_values('id').reset_index(drop=True)\n",
        "      ).id.values).all()"
      ]
    },
    {
      "cell_type": "markdown",
      "metadata": {
        "id": "RO6DwNNFhLu6"
      },
      "source": [
        "#### 3. [3 балла] Проведите все три волны отбора студентов на курсы по выбору"
      ]
    },
    {
      "cell_type": "code",
      "execution_count": null,
      "metadata": {
        "id": "jn2OOrLjhLu6"
      },
      "outputs": [],
      "source": [
        "# (￣^￣)ゞ"
      ]
    },
    {
      "cell_type": "markdown",
      "metadata": {
        "id": "1xQjV9BuhLu6"
      },
      "source": [
        "**Сохраниете свой файл res_fall_ФИО.csv**"
      ]
    },
    {
      "cell_type": "markdown",
      "metadata": {
        "id": "k8d711qGhLu7"
      },
      "source": [
        "**Дополнительное задание. [2 бонусных балла] Распределите таким же образом студентов еще и на весенние курсы по выбору.**\n",
        "\n",
        "Если ваш код был хорошо структурирован, то это не составит проблем.\n",
        "\n",
        "Если вы выполнили это задание, сдайте среди прочего файл res_spring.csv в таком же формате, как и res_fall.csv."
      ]
    },
    {
      "cell_type": "code",
      "execution_count": null,
      "metadata": {
        "id": "hwmusOGThLu7"
      },
      "outputs": [],
      "source": [
        "# (￣^'￣)ゞ"
      ]
    },
    {
      "cell_type": "code",
      "execution_count": null,
      "metadata": {
        "id": "R9_7CnSFhLu7"
      },
      "outputs": [],
      "source": []
    }
  ],
  "metadata": {
    "colab": {
      "provenance": [],
      "include_colab_link": true
    },
    "kernelspec": {
      "display_name": "Python 3 (ipykernel)",
      "language": "python",
      "name": "python3"
    },
    "language_info": {
      "codemirror_mode": {
        "name": "ipython",
        "version": 3
      },
      "file_extension": ".py",
      "mimetype": "text/x-python",
      "name": "python",
      "nbconvert_exporter": "python",
      "pygments_lexer": "ipython3",
      "version": "3.12.4"
    },
    "varInspector": {
      "cols": {
        "lenName": 16,
        "lenType": 16,
        "lenVar": 40
      },
      "kernels_config": {
        "python": {
          "delete_cmd_postfix": "",
          "delete_cmd_prefix": "del ",
          "library": "var_list.py",
          "varRefreshCmd": "print(var_dic_list())"
        },
        "r": {
          "delete_cmd_postfix": ") ",
          "delete_cmd_prefix": "rm(",
          "library": "var_list.r",
          "varRefreshCmd": "cat(var_dic_list()) "
        }
      },
      "types_to_exclude": [
        "module",
        "function",
        "builtin_function_or_method",
        "instance",
        "_Feature"
      ],
      "window_display": false
    },
    "vscode": {
      "interpreter": {
        "hash": "e7370f93d1d0cde622a1f8e1c04877d8463912d04d973331ad4851f04de6915a"
      }
    }
  },
  "nbformat": 4,
  "nbformat_minor": 0
}